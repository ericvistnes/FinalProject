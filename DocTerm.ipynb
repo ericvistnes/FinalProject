{
 "cells": [
  {
   "cell_type": "code",
   "execution_count": 1,
   "metadata": {},
   "outputs": [],
   "source": [
    "import numpy as np\n",
    "import pandas as pd\n",
    "import os"
   ]
  },
  {
   "cell_type": "code",
   "execution_count": 2,
   "metadata": {},
   "outputs": [],
   "source": [
    "object = pd.read_pickle('sparse')"
   ]
  },
  {
   "cell_type": "code",
   "execution_count": 3,
   "metadata": {},
   "outputs": [],
   "source": [
    "movies = pd.DataFrame(object)"
   ]
  },
  {
   "cell_type": "code",
   "execution_count": 4,
   "metadata": {
    "scrolled": true
   },
   "outputs": [
    {
     "data": {
      "text/html": [
       "<div>\n",
       "<style scoped>\n",
       "    .dataframe tbody tr th:only-of-type {\n",
       "        vertical-align: middle;\n",
       "    }\n",
       "\n",
       "    .dataframe tbody tr th {\n",
       "        vertical-align: top;\n",
       "    }\n",
       "\n",
       "    .dataframe thead th {\n",
       "        text-align: right;\n",
       "    }\n",
       "</style>\n",
       "<table border=\"1\" class=\"dataframe\">\n",
       "  <thead>\n",
       "    <tr style=\"text-align: right;\">\n",
       "      <th>MovieID</th>\n",
       "      <th>1</th>\n",
       "      <th>2</th>\n",
       "      <th>3</th>\n",
       "      <th>4</th>\n",
       "      <th>5</th>\n",
       "      <th>6</th>\n",
       "      <th>7</th>\n",
       "      <th>8</th>\n",
       "      <th>9</th>\n",
       "      <th>10</th>\n",
       "      <th>...</th>\n",
       "      <th>17761</th>\n",
       "      <th>17762</th>\n",
       "      <th>17763</th>\n",
       "      <th>17764</th>\n",
       "      <th>17765</th>\n",
       "      <th>17766</th>\n",
       "      <th>17767</th>\n",
       "      <th>17768</th>\n",
       "      <th>17769</th>\n",
       "      <th>17770</th>\n",
       "    </tr>\n",
       "    <tr>\n",
       "      <th>CustomerID</th>\n",
       "      <th></th>\n",
       "      <th></th>\n",
       "      <th></th>\n",
       "      <th></th>\n",
       "      <th></th>\n",
       "      <th></th>\n",
       "      <th></th>\n",
       "      <th></th>\n",
       "      <th></th>\n",
       "      <th></th>\n",
       "      <th></th>\n",
       "      <th></th>\n",
       "      <th></th>\n",
       "      <th></th>\n",
       "      <th></th>\n",
       "      <th></th>\n",
       "      <th></th>\n",
       "      <th></th>\n",
       "      <th></th>\n",
       "      <th></th>\n",
       "      <th></th>\n",
       "    </tr>\n",
       "  </thead>\n",
       "  <tbody>\n",
       "    <tr>\n",
       "      <th>6</th>\n",
       "      <td>NaN</td>\n",
       "      <td>NaN</td>\n",
       "      <td>NaN</td>\n",
       "      <td>NaN</td>\n",
       "      <td>NaN</td>\n",
       "      <td>NaN</td>\n",
       "      <td>NaN</td>\n",
       "      <td>NaN</td>\n",
       "      <td>NaN</td>\n",
       "      <td>NaN</td>\n",
       "      <td>...</td>\n",
       "      <td>NaN</td>\n",
       "      <td>NaN</td>\n",
       "      <td>NaN</td>\n",
       "      <td>NaN</td>\n",
       "      <td>NaN</td>\n",
       "      <td>NaN</td>\n",
       "      <td>NaN</td>\n",
       "      <td>NaN</td>\n",
       "      <td>NaN</td>\n",
       "      <td>NaN</td>\n",
       "    </tr>\n",
       "    <tr>\n",
       "      <th>7</th>\n",
       "      <td>NaN</td>\n",
       "      <td>NaN</td>\n",
       "      <td>NaN</td>\n",
       "      <td>NaN</td>\n",
       "      <td>NaN</td>\n",
       "      <td>NaN</td>\n",
       "      <td>NaN</td>\n",
       "      <td>5.0</td>\n",
       "      <td>NaN</td>\n",
       "      <td>NaN</td>\n",
       "      <td>...</td>\n",
       "      <td>NaN</td>\n",
       "      <td>NaN</td>\n",
       "      <td>NaN</td>\n",
       "      <td>NaN</td>\n",
       "      <td>NaN</td>\n",
       "      <td>NaN</td>\n",
       "      <td>NaN</td>\n",
       "      <td>NaN</td>\n",
       "      <td>NaN</td>\n",
       "      <td>NaN</td>\n",
       "    </tr>\n",
       "    <tr>\n",
       "      <th>8</th>\n",
       "      <td>NaN</td>\n",
       "      <td>NaN</td>\n",
       "      <td>NaN</td>\n",
       "      <td>NaN</td>\n",
       "      <td>NaN</td>\n",
       "      <td>NaN</td>\n",
       "      <td>NaN</td>\n",
       "      <td>NaN</td>\n",
       "      <td>NaN</td>\n",
       "      <td>NaN</td>\n",
       "      <td>...</td>\n",
       "      <td>NaN</td>\n",
       "      <td>NaN</td>\n",
       "      <td>NaN</td>\n",
       "      <td>NaN</td>\n",
       "      <td>NaN</td>\n",
       "      <td>NaN</td>\n",
       "      <td>NaN</td>\n",
       "      <td>NaN</td>\n",
       "      <td>NaN</td>\n",
       "      <td>NaN</td>\n",
       "    </tr>\n",
       "    <tr>\n",
       "      <th>10</th>\n",
       "      <td>NaN</td>\n",
       "      <td>NaN</td>\n",
       "      <td>NaN</td>\n",
       "      <td>NaN</td>\n",
       "      <td>NaN</td>\n",
       "      <td>NaN</td>\n",
       "      <td>NaN</td>\n",
       "      <td>NaN</td>\n",
       "      <td>NaN</td>\n",
       "      <td>NaN</td>\n",
       "      <td>...</td>\n",
       "      <td>NaN</td>\n",
       "      <td>NaN</td>\n",
       "      <td>NaN</td>\n",
       "      <td>NaN</td>\n",
       "      <td>NaN</td>\n",
       "      <td>NaN</td>\n",
       "      <td>NaN</td>\n",
       "      <td>NaN</td>\n",
       "      <td>NaN</td>\n",
       "      <td>NaN</td>\n",
       "    </tr>\n",
       "    <tr>\n",
       "      <th>25</th>\n",
       "      <td>NaN</td>\n",
       "      <td>NaN</td>\n",
       "      <td>NaN</td>\n",
       "      <td>NaN</td>\n",
       "      <td>NaN</td>\n",
       "      <td>NaN</td>\n",
       "      <td>NaN</td>\n",
       "      <td>NaN</td>\n",
       "      <td>NaN</td>\n",
       "      <td>NaN</td>\n",
       "      <td>...</td>\n",
       "      <td>NaN</td>\n",
       "      <td>NaN</td>\n",
       "      <td>NaN</td>\n",
       "      <td>NaN</td>\n",
       "      <td>NaN</td>\n",
       "      <td>NaN</td>\n",
       "      <td>NaN</td>\n",
       "      <td>NaN</td>\n",
       "      <td>NaN</td>\n",
       "      <td>NaN</td>\n",
       "    </tr>\n",
       "    <tr>\n",
       "      <th>...</th>\n",
       "      <td>...</td>\n",
       "      <td>...</td>\n",
       "      <td>...</td>\n",
       "      <td>...</td>\n",
       "      <td>...</td>\n",
       "      <td>...</td>\n",
       "      <td>...</td>\n",
       "      <td>...</td>\n",
       "      <td>...</td>\n",
       "      <td>...</td>\n",
       "      <td>...</td>\n",
       "      <td>...</td>\n",
       "      <td>...</td>\n",
       "      <td>...</td>\n",
       "      <td>...</td>\n",
       "      <td>...</td>\n",
       "      <td>...</td>\n",
       "      <td>...</td>\n",
       "      <td>...</td>\n",
       "      <td>...</td>\n",
       "      <td>...</td>\n",
       "    </tr>\n",
       "    <tr>\n",
       "      <th>2649404</th>\n",
       "      <td>NaN</td>\n",
       "      <td>NaN</td>\n",
       "      <td>NaN</td>\n",
       "      <td>NaN</td>\n",
       "      <td>NaN</td>\n",
       "      <td>NaN</td>\n",
       "      <td>NaN</td>\n",
       "      <td>NaN</td>\n",
       "      <td>NaN</td>\n",
       "      <td>NaN</td>\n",
       "      <td>...</td>\n",
       "      <td>NaN</td>\n",
       "      <td>NaN</td>\n",
       "      <td>NaN</td>\n",
       "      <td>NaN</td>\n",
       "      <td>NaN</td>\n",
       "      <td>NaN</td>\n",
       "      <td>NaN</td>\n",
       "      <td>NaN</td>\n",
       "      <td>NaN</td>\n",
       "      <td>NaN</td>\n",
       "    </tr>\n",
       "    <tr>\n",
       "      <th>2649409</th>\n",
       "      <td>NaN</td>\n",
       "      <td>NaN</td>\n",
       "      <td>NaN</td>\n",
       "      <td>NaN</td>\n",
       "      <td>NaN</td>\n",
       "      <td>NaN</td>\n",
       "      <td>NaN</td>\n",
       "      <td>NaN</td>\n",
       "      <td>NaN</td>\n",
       "      <td>NaN</td>\n",
       "      <td>...</td>\n",
       "      <td>NaN</td>\n",
       "      <td>NaN</td>\n",
       "      <td>NaN</td>\n",
       "      <td>NaN</td>\n",
       "      <td>NaN</td>\n",
       "      <td>NaN</td>\n",
       "      <td>NaN</td>\n",
       "      <td>NaN</td>\n",
       "      <td>NaN</td>\n",
       "      <td>NaN</td>\n",
       "    </tr>\n",
       "    <tr>\n",
       "      <th>2649421</th>\n",
       "      <td>NaN</td>\n",
       "      <td>NaN</td>\n",
       "      <td>NaN</td>\n",
       "      <td>NaN</td>\n",
       "      <td>NaN</td>\n",
       "      <td>NaN</td>\n",
       "      <td>NaN</td>\n",
       "      <td>NaN</td>\n",
       "      <td>NaN</td>\n",
       "      <td>NaN</td>\n",
       "      <td>...</td>\n",
       "      <td>NaN</td>\n",
       "      <td>NaN</td>\n",
       "      <td>NaN</td>\n",
       "      <td>NaN</td>\n",
       "      <td>NaN</td>\n",
       "      <td>NaN</td>\n",
       "      <td>NaN</td>\n",
       "      <td>NaN</td>\n",
       "      <td>NaN</td>\n",
       "      <td>NaN</td>\n",
       "    </tr>\n",
       "    <tr>\n",
       "      <th>2649426</th>\n",
       "      <td>NaN</td>\n",
       "      <td>NaN</td>\n",
       "      <td>NaN</td>\n",
       "      <td>NaN</td>\n",
       "      <td>NaN</td>\n",
       "      <td>NaN</td>\n",
       "      <td>NaN</td>\n",
       "      <td>NaN</td>\n",
       "      <td>NaN</td>\n",
       "      <td>NaN</td>\n",
       "      <td>...</td>\n",
       "      <td>NaN</td>\n",
       "      <td>NaN</td>\n",
       "      <td>NaN</td>\n",
       "      <td>NaN</td>\n",
       "      <td>NaN</td>\n",
       "      <td>NaN</td>\n",
       "      <td>NaN</td>\n",
       "      <td>NaN</td>\n",
       "      <td>NaN</td>\n",
       "      <td>NaN</td>\n",
       "    </tr>\n",
       "    <tr>\n",
       "      <th>2649429</th>\n",
       "      <td>NaN</td>\n",
       "      <td>NaN</td>\n",
       "      <td>NaN</td>\n",
       "      <td>NaN</td>\n",
       "      <td>NaN</td>\n",
       "      <td>NaN</td>\n",
       "      <td>NaN</td>\n",
       "      <td>NaN</td>\n",
       "      <td>NaN</td>\n",
       "      <td>NaN</td>\n",
       "      <td>...</td>\n",
       "      <td>NaN</td>\n",
       "      <td>NaN</td>\n",
       "      <td>NaN</td>\n",
       "      <td>NaN</td>\n",
       "      <td>NaN</td>\n",
       "      <td>NaN</td>\n",
       "      <td>NaN</td>\n",
       "      <td>NaN</td>\n",
       "      <td>NaN</td>\n",
       "      <td>NaN</td>\n",
       "    </tr>\n",
       "  </tbody>\n",
       "</table>\n",
       "<p>3701937 rows × 17770 columns</p>\n",
       "</div>"
      ],
      "text/plain": [
       "MovieID     1      2      3      4      5      6      7      8      9      \\\n",
       "CustomerID                                                                  \n",
       "6             NaN    NaN    NaN    NaN    NaN    NaN    NaN    NaN    NaN   \n",
       "7             NaN    NaN    NaN    NaN    NaN    NaN    NaN    5.0    NaN   \n",
       "8             NaN    NaN    NaN    NaN    NaN    NaN    NaN    NaN    NaN   \n",
       "10            NaN    NaN    NaN    NaN    NaN    NaN    NaN    NaN    NaN   \n",
       "25            NaN    NaN    NaN    NaN    NaN    NaN    NaN    NaN    NaN   \n",
       "...           ...    ...    ...    ...    ...    ...    ...    ...    ...   \n",
       "2649404       NaN    NaN    NaN    NaN    NaN    NaN    NaN    NaN    NaN   \n",
       "2649409       NaN    NaN    NaN    NaN    NaN    NaN    NaN    NaN    NaN   \n",
       "2649421       NaN    NaN    NaN    NaN    NaN    NaN    NaN    NaN    NaN   \n",
       "2649426       NaN    NaN    NaN    NaN    NaN    NaN    NaN    NaN    NaN   \n",
       "2649429       NaN    NaN    NaN    NaN    NaN    NaN    NaN    NaN    NaN   \n",
       "\n",
       "MovieID     10     ...  17761  17762  17763  17764  17765  17766  17767  \\\n",
       "CustomerID         ...                                                    \n",
       "6             NaN  ...    NaN    NaN    NaN    NaN    NaN    NaN    NaN   \n",
       "7             NaN  ...    NaN    NaN    NaN    NaN    NaN    NaN    NaN   \n",
       "8             NaN  ...    NaN    NaN    NaN    NaN    NaN    NaN    NaN   \n",
       "10            NaN  ...    NaN    NaN    NaN    NaN    NaN    NaN    NaN   \n",
       "25            NaN  ...    NaN    NaN    NaN    NaN    NaN    NaN    NaN   \n",
       "...           ...  ...    ...    ...    ...    ...    ...    ...    ...   \n",
       "2649404       NaN  ...    NaN    NaN    NaN    NaN    NaN    NaN    NaN   \n",
       "2649409       NaN  ...    NaN    NaN    NaN    NaN    NaN    NaN    NaN   \n",
       "2649421       NaN  ...    NaN    NaN    NaN    NaN    NaN    NaN    NaN   \n",
       "2649426       NaN  ...    NaN    NaN    NaN    NaN    NaN    NaN    NaN   \n",
       "2649429       NaN  ...    NaN    NaN    NaN    NaN    NaN    NaN    NaN   \n",
       "\n",
       "MovieID     17768  17769  17770  \n",
       "CustomerID                       \n",
       "6             NaN    NaN    NaN  \n",
       "7             NaN    NaN    NaN  \n",
       "8             NaN    NaN    NaN  \n",
       "10            NaN    NaN    NaN  \n",
       "25            NaN    NaN    NaN  \n",
       "...           ...    ...    ...  \n",
       "2649404       NaN    NaN    NaN  \n",
       "2649409       NaN    NaN    NaN  \n",
       "2649421       NaN    NaN    NaN  \n",
       "2649426       NaN    NaN    NaN  \n",
       "2649429       NaN    NaN    NaN  \n",
       "\n",
       "[3701937 rows x 17770 columns]"
      ]
     },
     "execution_count": 4,
     "metadata": {},
     "output_type": "execute_result"
    }
   ],
   "source": [
    "movies"
   ]
  },
  {
   "cell_type": "code",
   "execution_count": 5,
   "metadata": {},
   "outputs": [],
   "source": [
    "movies = movies.fillna(0)"
   ]
  },
  {
   "cell_type": "code",
   "execution_count": 6,
   "metadata": {},
   "outputs": [],
   "source": [
    "#movies.to_pickle(\"sparse2\") "
   ]
  },
  {
   "cell_type": "code",
   "execution_count": 7,
   "metadata": {},
   "outputs": [],
   "source": [
    "nparr = np.load('sparse2', allow_pickle=True, encoding=\"bytes\")"
   ]
  },
  {
   "cell_type": "code",
   "execution_count": 8,
   "metadata": {},
   "outputs": [
    {
     "name": "stdout",
     "output_type": "stream",
     "text": [
      "MovieID     1      2      3      4      5      6      7      8      9      \\\n",
      "CustomerID                                                                  \n",
      "6             0.0    0.0    0.0    0.0    0.0    0.0    0.0    0.0    0.0   \n",
      "7             0.0    0.0    0.0    0.0    0.0    0.0    0.0    5.0    0.0   \n",
      "8             0.0    0.0    0.0    0.0    0.0    0.0    0.0    0.0    0.0   \n",
      "10            0.0    0.0    0.0    0.0    0.0    0.0    0.0    0.0    0.0   \n",
      "25            0.0    0.0    0.0    0.0    0.0    0.0    0.0    0.0    0.0   \n",
      "...           ...    ...    ...    ...    ...    ...    ...    ...    ...   \n",
      "2649404       0.0    0.0    0.0    0.0    0.0    0.0    0.0    0.0    0.0   \n",
      "2649409       0.0    0.0    0.0    0.0    0.0    0.0    0.0    0.0    0.0   \n",
      "2649421       0.0    0.0    0.0    0.0    0.0    0.0    0.0    0.0    0.0   \n",
      "2649426       0.0    0.0    0.0    0.0    0.0    0.0    0.0    0.0    0.0   \n",
      "2649429       0.0    0.0    0.0    0.0    0.0    0.0    0.0    0.0    0.0   \n",
      "\n",
      "MovieID     10     ...  17761  17762  17763  17764  17765  17766  17767  \\\n",
      "CustomerID         ...                                                    \n",
      "6             0.0  ...    0.0    0.0    0.0    0.0    0.0    0.0    0.0   \n",
      "7             0.0  ...    0.0    0.0    0.0    0.0    0.0    0.0    0.0   \n",
      "8             0.0  ...    0.0    0.0    0.0    0.0    0.0    0.0    0.0   \n",
      "10            0.0  ...    0.0    0.0    0.0    0.0    0.0    0.0    0.0   \n",
      "25            0.0  ...    0.0    0.0    0.0    0.0    0.0    0.0    0.0   \n",
      "...           ...  ...    ...    ...    ...    ...    ...    ...    ...   \n",
      "2649404       0.0  ...    0.0    0.0    0.0    0.0    0.0    0.0    0.0   \n",
      "2649409       0.0  ...    0.0    0.0    0.0    0.0    0.0    0.0    0.0   \n",
      "2649421       0.0  ...    0.0    0.0    0.0    0.0    0.0    0.0    0.0   \n",
      "2649426       0.0  ...    0.0    0.0    0.0    0.0    0.0    0.0    0.0   \n",
      "2649429       0.0  ...    0.0    0.0    0.0    0.0    0.0    0.0    0.0   \n",
      "\n",
      "MovieID     17768  17769  17770  \n",
      "CustomerID                       \n",
      "6             0.0    0.0    0.0  \n",
      "7             0.0    0.0    0.0  \n",
      "8             0.0    0.0    0.0  \n",
      "10            0.0    0.0    0.0  \n",
      "25            0.0    0.0    0.0  \n",
      "...           ...    ...    ...  \n",
      "2649404       0.0    0.0    0.0  \n",
      "2649409       0.0    0.0    0.0  \n",
      "2649421       0.0    0.0    0.0  \n",
      "2649426       0.0    0.0    0.0  \n",
      "2649429       0.0    0.0    0.0  \n",
      "\n",
      "[3701937 rows x 17770 columns]\n"
     ]
    }
   ],
   "source": [
    "print(nparr)"
   ]
  },
  {
   "cell_type": "code",
   "execution_count": 9,
   "metadata": {},
   "outputs": [],
   "source": [
    "terms = pd.read_csv('movie_titles.txt', sep='\\t', encoding = \"ISO-8859-1\", header=None)"
   ]
  },
  {
   "cell_type": "code",
   "execution_count": 10,
   "metadata": {},
   "outputs": [],
   "source": [
    "terms = terms.iloc[:,:3]"
   ]
  },
  {
   "cell_type": "code",
   "execution_count": 11,
   "metadata": {},
   "outputs": [],
   "source": [
    "terms = terms.iloc[:,2:]"
   ]
  },
  {
   "cell_type": "code",
   "execution_count": 12,
   "metadata": {},
   "outputs": [
    {
     "data": {
      "text/html": [
       "<div>\n",
       "<style scoped>\n",
       "    .dataframe tbody tr th:only-of-type {\n",
       "        vertical-align: middle;\n",
       "    }\n",
       "\n",
       "    .dataframe tbody tr th {\n",
       "        vertical-align: top;\n",
       "    }\n",
       "\n",
       "    .dataframe thead th {\n",
       "        text-align: right;\n",
       "    }\n",
       "</style>\n",
       "<table border=\"1\" class=\"dataframe\">\n",
       "  <thead>\n",
       "    <tr style=\"text-align: right;\">\n",
       "      <th></th>\n",
       "      <th>2</th>\n",
       "    </tr>\n",
       "  </thead>\n",
       "  <tbody>\n",
       "    <tr>\n",
       "      <th>0</th>\n",
       "      <td>Dinosaur Planet</td>\n",
       "    </tr>\n",
       "    <tr>\n",
       "      <th>1</th>\n",
       "      <td>Isle of Man TT 2004 Review</td>\n",
       "    </tr>\n",
       "    <tr>\n",
       "      <th>2</th>\n",
       "      <td>Character</td>\n",
       "    </tr>\n",
       "    <tr>\n",
       "      <th>3</th>\n",
       "      <td>Paula Abdul's Get Up &amp; Dance</td>\n",
       "    </tr>\n",
       "    <tr>\n",
       "      <th>4</th>\n",
       "      <td>The Rise and Fall of ECW</td>\n",
       "    </tr>\n",
       "    <tr>\n",
       "      <th>...</th>\n",
       "      <td>...</td>\n",
       "    </tr>\n",
       "    <tr>\n",
       "      <th>17765</th>\n",
       "      <td>Where the Wild Things Are and Other Maurice Se...</td>\n",
       "    </tr>\n",
       "    <tr>\n",
       "      <th>17766</th>\n",
       "      <td>Fidel Castro: American Experience</td>\n",
       "    </tr>\n",
       "    <tr>\n",
       "      <th>17767</th>\n",
       "      <td>Epoch</td>\n",
       "    </tr>\n",
       "    <tr>\n",
       "      <th>17768</th>\n",
       "      <td>The Company</td>\n",
       "    </tr>\n",
       "    <tr>\n",
       "      <th>17769</th>\n",
       "      <td>Alien Hunter</td>\n",
       "    </tr>\n",
       "  </tbody>\n",
       "</table>\n",
       "<p>17770 rows × 1 columns</p>\n",
       "</div>"
      ],
      "text/plain": [
       "                                                       2\n",
       "0                                        Dinosaur Planet\n",
       "1                             Isle of Man TT 2004 Review\n",
       "2                                              Character\n",
       "3                           Paula Abdul's Get Up & Dance\n",
       "4                               The Rise and Fall of ECW\n",
       "...                                                  ...\n",
       "17765  Where the Wild Things Are and Other Maurice Se...\n",
       "17766                  Fidel Castro: American Experience\n",
       "17767                                              Epoch\n",
       "17768                                        The Company\n",
       "17769                                       Alien Hunter\n",
       "\n",
       "[17770 rows x 1 columns]"
      ]
     },
     "execution_count": 12,
     "metadata": {},
     "output_type": "execute_result"
    }
   ],
   "source": [
    "terms"
   ]
  },
  {
   "cell_type": "code",
   "execution_count": 13,
   "metadata": {},
   "outputs": [],
   "source": [
    "import kMeans\n",
    "import importlib"
   ]
  },
  {
   "cell_type": "code",
   "execution_count": 14,
   "metadata": {},
   "outputs": [],
   "source": [
    "from sklearn.cluster import KMeans"
   ]
  },
  {
   "cell_type": "code",
   "execution_count": 15,
   "metadata": {},
   "outputs": [],
   "source": [
    "kmeans = KMeans(n_clusters = 7)"
   ]
  },
  {
   "cell_type": "code",
   "execution_count": 16,
   "metadata": {},
   "outputs": [],
   "source": [
    "smallmov = movies[:5000]"
   ]
  },
  {
   "cell_type": "code",
   "execution_count": 17,
   "metadata": {},
   "outputs": [],
   "source": [
    "movie_arr = np.array(smallmov)"
   ]
  },
  {
   "cell_type": "code",
   "execution_count": 18,
   "metadata": {},
   "outputs": [
    {
     "data": {
      "text/plain": [
       "KMeans(n_clusters=7)"
      ]
     },
     "execution_count": 18,
     "metadata": {},
     "output_type": "execute_result"
    }
   ],
   "source": [
    "kmeans.fit(movie_arr)"
   ]
  },
  {
   "cell_type": "code",
   "execution_count": 19,
   "metadata": {},
   "outputs": [
    {
     "data": {
      "text/plain": [
       "(5000,)"
      ]
     },
     "execution_count": 19,
     "metadata": {},
     "output_type": "execute_result"
    }
   ],
   "source": [
    "kmeans.labels_.shape"
   ]
  },
  {
   "cell_type": "code",
   "execution_count": 20,
   "metadata": {},
   "outputs": [
    {
     "data": {
      "text/plain": [
       "array([[ 2.04081633e-02, -4.33680869e-19,  1.78571429e-01, ...,\n",
       "         0.00000000e+00,  0.00000000e+00,  0.00000000e+00],\n",
       "       [ 1.27388535e-02, -6.50521303e-19,  1.04083409e-17, ...,\n",
       "         0.00000000e+00,  0.00000000e+00,  0.00000000e+00],\n",
       "       [ 1.73472348e-18, -6.50521303e-19,  2.46913580e-02, ...,\n",
       "         0.00000000e+00,  0.00000000e+00,  0.00000000e+00],\n",
       "       ...,\n",
       "       [ 9.33333333e-02, -4.33680869e-19,  1.20000000e-01, ...,\n",
       "         0.00000000e+00,  0.00000000e+00,  0.00000000e+00],\n",
       "       [ 3.42465753e-03, -6.50521303e-19,  9.13242009e-03, ...,\n",
       "         0.00000000e+00,  0.00000000e+00,  0.00000000e+00],\n",
       "       [ 5.21739130e-03,  8.69565217e-03,  3.13043478e-02, ...,\n",
       "         0.00000000e+00,  0.00000000e+00,  0.00000000e+00]])"
      ]
     },
     "execution_count": 20,
     "metadata": {},
     "output_type": "execute_result"
    }
   ],
   "source": [
    "kmeans.cluster_centers_"
   ]
  },
  {
   "cell_type": "code",
   "execution_count": 21,
   "metadata": {},
   "outputs": [
    {
     "data": {
      "text/plain": [
       "array([ 2.04081633e-02, -4.33680869e-19,  1.78571429e-01, ...,\n",
       "        0.00000000e+00,  0.00000000e+00,  0.00000000e+00])"
      ]
     },
     "execution_count": 21,
     "metadata": {},
     "output_type": "execute_result"
    }
   ],
   "source": [
    "kmeans.cluster_centers_[0]"
   ]
  },
  {
   "cell_type": "code",
   "execution_count": 22,
   "metadata": {},
   "outputs": [
    {
     "data": {
      "text/plain": [
       "array([ 1.27388535e-02, -6.50521303e-19,  1.04083409e-17, ...,\n",
       "        0.00000000e+00,  0.00000000e+00,  0.00000000e+00])"
      ]
     },
     "execution_count": 22,
     "metadata": {},
     "output_type": "execute_result"
    }
   ],
   "source": [
    "kmeans.cluster_centers_[1]"
   ]
  },
  {
   "cell_type": "code",
   "execution_count": 23,
   "metadata": {},
   "outputs": [],
   "source": [
    "clust1 = kmeans.cluster_centers_[0]"
   ]
  },
  {
   "cell_type": "code",
   "execution_count": 24,
   "metadata": {},
   "outputs": [],
   "source": [
    "test = pd.DataFrame(clust1,terms)"
   ]
  },
  {
   "cell_type": "code",
   "execution_count": 25,
   "metadata": {},
   "outputs": [],
   "source": [
    "test = test.sort_values(by=[0],ascending=False)"
   ]
  },
  {
   "cell_type": "code",
   "execution_count": 26,
   "metadata": {},
   "outputs": [],
   "source": [
    "np.set_printoptions(precision=2,suppress=True)"
   ]
  },
  {
   "cell_type": "code",
   "execution_count": 27,
   "metadata": {},
   "outputs": [],
   "source": [
    "def top_movies(df, k):\n",
    "    for mov in range(0,k):\n",
    "        print(df.index[mov], df[0][mov])"
   ]
  },
  {
   "cell_type": "code",
   "execution_count": 28,
   "metadata": {},
   "outputs": [
    {
     "name": "stdout",
     "output_type": "stream",
     "text": [
      "('American Beauty',) 4.198979591836735\n",
      "('Being John Malkovich',) 3.8367346938775513\n",
      "('Pirates of the Caribbean: The Curse of the Black Pearl',) 3.7653061224489788\n",
      "('Reservoir Dogs',) 3.7551020408163263\n",
      "('Eternal Sunshine of the Spotless Mind',) 3.2653061224489797\n",
      "('Jaws',) 3.193877551020407\n",
      "('High Fidelity',) 3.173469387755102\n",
      "('Kill Bill: Vol. 2',) 3.096938775510204\n",
      "('Clerks',) 3.0765306122448974\n",
      "('A Beautiful Mind',) 3.0510204081632644\n",
      "('Dogma',) 2.887755102040816\n",
      "('The Professional',) 2.8214285714285716\n",
      "('Chasing Amy',) 2.586734693877551\n",
      "('Bend It Like Beckham',) 2.5663265306122445\n",
      "('Lock',) 2.540816326530612\n"
     ]
    }
   ],
   "source": [
    "top_movies(test, 15)"
   ]
  },
  {
   "cell_type": "code",
   "execution_count": 29,
   "metadata": {},
   "outputs": [],
   "source": [
    "def print_clust(kmeans, k):\n",
    "    for cluster in range(0,k):\n",
    "        clust = kmeans.cluster_centers_[cluster]\n",
    "        #print(clust)\n",
    "        #print(clust.shape)\n",
    "        sortDF = pd.DataFrame(clust,terms)\n",
    "        sortDF = sortDF.sort_values(by=[0],ascending=False)\n",
    "        print(\"Top movies in Cluster\", cluster+1)\n",
    "        top_movies(sortDF, 15)\n",
    "        print(\"\")"
   ]
  },
  {
   "cell_type": "code",
   "execution_count": 30,
   "metadata": {},
   "outputs": [
    {
     "name": "stdout",
     "output_type": "stream",
     "text": [
      "Top movies in Cluster 1\n",
      "('American Beauty',) 4.198979591836735\n",
      "('Being John Malkovich',) 3.8367346938775513\n",
      "('Pirates of the Caribbean: The Curse of the Black Pearl',) 3.7653061224489788\n",
      "('Reservoir Dogs',) 3.7551020408163263\n",
      "('Eternal Sunshine of the Spotless Mind',) 3.2653061224489797\n",
      "('Jaws',) 3.193877551020407\n",
      "('High Fidelity',) 3.173469387755102\n",
      "('Kill Bill: Vol. 2',) 3.096938775510204\n",
      "('Clerks',) 3.0765306122448974\n",
      "('A Beautiful Mind',) 3.0510204081632644\n",
      "('Dogma',) 2.887755102040816\n",
      "('The Professional',) 2.8214285714285716\n",
      "('Chasing Amy',) 2.586734693877551\n",
      "('Bend It Like Beckham',) 2.5663265306122445\n",
      "('Lock',) 2.540816326530612\n",
      "\n",
      "Top movies in Cluster 2\n",
      "('Pirates of the Caribbean: The Curse of the Black Pearl',) 4.022292993630573\n",
      "('Man on Fire',) 3.5764331210191087\n",
      "('Lethal Weapon',) 3.500000000000001\n",
      "('The Bourne Supremacy',) 3.48407643312102\n",
      "('X2: X-Men United',) 3.2866242038216553\n",
      "('Speed',) 3.0254777070063685\n",
      "('50 First Dates',) 2.9554140127388546\n",
      "('American Beauty',) 2.9426751592356695\n",
      "('S.W.A.T.',) 2.9267515923566876\n",
      "('The Mummy',) 2.901273885350318\n",
      "('The Recruit',) 2.888535031847134\n",
      "('Kill Bill: Vol. 2',) 2.837579617834395\n",
      "('Liar Liar',) 2.799363057324841\n",
      "('A Beautiful Mind',) 2.738853503184713\n",
      "('Bad Boys',) 2.710191082802547\n",
      "\n",
      "Top movies in Cluster 3\n",
      "('Sleepless in Seattle',) 3.5123456790123457\n",
      "('Pirates of the Caribbean: The Curse of the Black Pearl',) 3.44753086419753\n",
      "('What Women Want',) 3.148148148148148\n",
      "('Fried Green Tomatoes',) 2.9506172839506175\n",
      "('A Beautiful Mind',) 2.8580246913580245\n",
      "('50 First Dates',) 2.706790123456791\n",
      "(\"Something's Gotta Give\",) 2.6543209876543203\n",
      "('The Wedding Planner',) 2.651234567901234\n",
      "('Pay It Forward',) 2.503086419753086\n",
      "('The American President',) 2.4598765432098766\n",
      "('Speed',) 2.4506172839506166\n",
      "(\"Bridget Jones's Diary\",) 2.382716049382716\n",
      "('Secondhand Lions',) 2.3271604938271606\n",
      "('American Beauty',) 2.194444444444444\n",
      "('Ever After: A Cinderella Story',) 2.0648148148148144\n",
      "\n",
      "Top movies in Cluster 4\n",
      "('What Women Want',) 0.65\n",
      "('The Wedding Planner',) 0.5303030303030303\n",
      "('Pirates of the Caribbean: The Curse of the Black Pearl',) 0.485984848484849\n",
      "('American Beauty',) 0.46666666666666823\n",
      "('Man on Fire',) 0.40530303030303205\n",
      "('Ray',) 0.3973484848484852\n",
      "('50 First Dates',) 0.3840909090909068\n",
      "('The Bourne Supremacy',) 0.3761363636363634\n",
      "('The Recruit',) 0.36136363636363755\n",
      "('S.W.A.T.',) 0.3587121212121206\n",
      "('Lethal Weapon',) 0.33977272727272534\n",
      "('Sleepless in Seattle',) 0.3265151515151523\n",
      "('Secondhand Lions',) 0.29734848484848353\n",
      "('Pay It Forward',) 0.2931818181818183\n",
      "('Eternal Sunshine of the Spotless Mind',) 0.28371212121212175\n",
      "\n",
      "Top movies in Cluster 5\n",
      "('Pirates of the Caribbean: The Curse of the Black Pearl',) 4.4\n",
      "('Speed',) 4.04\n",
      "('Lethal Weapon',) 4.026666666666667\n",
      "('What Women Want',) 3.96\n",
      "('A Beautiful Mind',) 3.826666666666666\n",
      "('Sleepless in Seattle',) 3.7866666666666675\n",
      "('Man on Fire',) 3.7866666666666666\n",
      "('X2: X-Men United',) 3.773333333333333\n",
      "('50 First Dates',) 3.7200000000000006\n",
      "('Beverly Hills Cop',) 3.68\n",
      "('Liar Liar',) 3.6133333333333333\n",
      "('The Perfect Storm',) 3.6133333333333333\n",
      "('Fried Green Tomatoes',) 3.573333333333334\n",
      "('The Bourne Supremacy',) 3.5600000000000005\n",
      "('Jaws',) 3.56\n",
      "\n",
      "Top movies in Cluster 6\n",
      "('Pirates of the Caribbean: The Curse of the Black Pearl',) 3.141552511415525\n",
      "('Man on Fire',) 2.4292237442922384\n",
      "('50 First Dates',) 2.3515981735159817\n",
      "('The Bourne Supremacy',) 1.9874429223744299\n",
      "('What Women Want',) 1.703196347031963\n",
      "('S.W.A.T.',) 1.6849315068493145\n",
      "(\"Something's Gotta Give\",) 1.5331050228310494\n",
      "('Secondhand Lions',) 1.531963470319634\n",
      "('The Wedding Planner',) 1.4977168949771689\n",
      "('Ray',) 1.4098173515981733\n",
      "('The Recruit',) 1.4063926940639266\n",
      "('Along Came Polly',) 1.3869863013698631\n",
      "('Kill Bill: Vol. 2',) 1.3515981735159819\n",
      "('Mean Girls',) 1.3515981735159812\n",
      "('X2: X-Men United',) 1.1689497716894972\n",
      "\n",
      "Top movies in Cluster 7\n",
      "('American Beauty',) 3.693913043478262\n",
      "('Being John Malkovich',) 3.1060869565217395\n",
      "('Pirates of the Caribbean: The Curse of the Black Pearl',) 2.6747826086956517\n",
      "('Eternal Sunshine of the Spotless Mind',) 2.5547826086956524\n",
      "('Reservoir Dogs',) 2.285217391304348\n",
      "('Kill Bill: Vol. 2',) 1.9878260869565219\n",
      "('Super Size Me',) 1.8869565217391306\n",
      "('A Beautiful Mind',) 1.8695652173913038\n",
      "('Bend It Like Beckham',) 1.8139130434782609\n",
      "('High Fidelity',) 1.587826086956522\n",
      "('The Bourne Supremacy',) 1.443478260869565\n",
      "('Clerks',) 1.4365217391304346\n",
      "('Ray',) 1.4017391304347826\n",
      "('Sleepless in Seattle',) 1.3599999999999999\n",
      "('Frida',) 1.2417391304347822\n",
      "\n"
     ]
    }
   ],
   "source": [
    "print_clust(kmeans,7)"
   ]
  },
  {
   "cell_type": "markdown",
   "metadata": {},
   "source": [
    "Making a sample user to test:\n",
    "Users will rate random movies they have seen upon launching our app"
   ]
  },
  {
   "cell_type": "code",
   "execution_count": 63,
   "metadata": {},
   "outputs": [],
   "source": [
    "test_user = np.zeros(17770)"
   ]
  },
  {
   "cell_type": "code",
   "execution_count": 64,
   "metadata": {},
   "outputs": [
    {
     "name": "stdout",
     "output_type": "stream",
     "text": [
      "[0. 0. 0. ... 0. 0. 0.]\n"
     ]
    }
   ],
   "source": [
    "print(test_user)"
   ]
  },
  {
   "cell_type": "code",
   "execution_count": 65,
   "metadata": {},
   "outputs": [
    {
     "data": {
      "text/plain": [
       "(17770,)"
      ]
     },
     "execution_count": 65,
     "metadata": {},
     "output_type": "execute_result"
    }
   ],
   "source": [
    "test_user.shape"
   ]
  },
  {
   "cell_type": "code",
   "execution_count": 66,
   "metadata": {},
   "outputs": [
    {
     "data": {
      "text/plain": [
       "0.0"
      ]
     },
     "execution_count": 66,
     "metadata": {},
     "output_type": "execute_result"
    }
   ],
   "source": [
    "test_user[0]"
   ]
  },
  {
   "cell_type": "code",
   "execution_count": 67,
   "metadata": {},
   "outputs": [],
   "source": [
    "user_scores = np.random.randint(17769, size=40)"
   ]
  },
  {
   "cell_type": "code",
   "execution_count": 68,
   "metadata": {},
   "outputs": [
    {
     "data": {
      "text/plain": [
       "array([10243, 11177,  2240, 12049,  4172, 16203,  2699,  2855,  4118,\n",
       "       12885,   209,  7627, 14568,  4542,  4923,  6463, 10596, 13332,\n",
       "       13353,  7124,  3517,  1683, 10869,  6273,  9621,  5557,  3819,\n",
       "        2872, 12033,  2447,  3076,  8913, 11901,  6437,  5320, 14177,\n",
       "        5209, 11500, 11485, 11089])"
      ]
     },
     "execution_count": 68,
     "metadata": {},
     "output_type": "execute_result"
    }
   ],
   "source": [
    "user_scores"
   ]
  },
  {
   "cell_type": "code",
   "execution_count": 69,
   "metadata": {},
   "outputs": [],
   "source": [
    "for movidx in user_scores:\n",
    "    test_user[movidx] = np.random.randint(1,6)"
   ]
  },
  {
   "cell_type": "code",
   "execution_count": 70,
   "metadata": {},
   "outputs": [
    {
     "data": {
      "text/plain": [
       "(17770,)"
      ]
     },
     "execution_count": 70,
     "metadata": {},
     "output_type": "execute_result"
    }
   ],
   "source": [
    "test_user.shape"
   ]
  },
  {
   "cell_type": "code",
   "execution_count": 71,
   "metadata": {},
   "outputs": [],
   "source": [
    "test_user =test_user.reshape(-1, 1).T"
   ]
  },
  {
   "cell_type": "code",
   "execution_count": 72,
   "metadata": {},
   "outputs": [
    {
     "data": {
      "text/plain": [
       "(1, 17770)"
      ]
     },
     "execution_count": 72,
     "metadata": {},
     "output_type": "execute_result"
    }
   ],
   "source": [
    "test_user.shape"
   ]
  },
  {
   "cell_type": "code",
   "execution_count": 73,
   "metadata": {},
   "outputs": [
    {
     "data": {
      "text/plain": [
       "array([3])"
      ]
     },
     "execution_count": 73,
     "metadata": {},
     "output_type": "execute_result"
    }
   ],
   "source": [
    "kmeans.predict(test_user)"
   ]
  },
  {
   "cell_type": "markdown",
   "metadata": {},
   "source": [
    "So we can recommend the top movies from cluster 3 for this user:"
   ]
  },
  {
   "cell_type": "code",
   "execution_count": null,
   "metadata": {},
   "outputs": [],
   "source": []
  }
 ],
 "metadata": {
  "kernelspec": {
   "display_name": "Python 3",
   "language": "python",
   "name": "python3"
  },
  "language_info": {
   "codemirror_mode": {
    "name": "ipython",
    "version": 3
   },
   "file_extension": ".py",
   "mimetype": "text/x-python",
   "name": "python",
   "nbconvert_exporter": "python",
   "pygments_lexer": "ipython3",
   "version": "3.8.5"
  }
 },
 "nbformat": 4,
 "nbformat_minor": 4
}
