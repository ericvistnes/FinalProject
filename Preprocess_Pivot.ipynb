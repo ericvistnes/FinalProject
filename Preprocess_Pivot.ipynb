{
 "cells": [
  {
   "cell_type": "markdown",
   "id": "abroad-curtis",
   "metadata": {},
   "source": [
    "# Preprocessing and Pivoting Netflix Prize Data"
   ]
  },
  {
   "cell_type": "markdown",
   "id": "personal-bronze",
   "metadata": {},
   "source": [
    "We will be taking our combined data set and reducing the size by reducing to smaller data types, and then pivoting the dataframe before using it to create a sparse dataframe with pandas. This reduces the size of the dataframe to approximately 1.1 GB from 2.6 GB. \n",
    "Next, we will use Stochastic Gradient Descent to find the rank-40 SVD of the full matrix, ignoring the empty values, which allows us to predict ratings with for the empty values."
   ]
  },
  {
   "cell_type": "markdown",
   "id": "dedicated-opening",
   "metadata": {},
   "source": [
    "We will also use a Nearest Neighborhood algorithm for our collaborative filtering. Thsi requires creating a similarity function that subtracts a users individual average of all items (not including null values), then add it back for the target user. From there, we can use the neighbors to predict a rating."
   ]
  },
  {
   "cell_type": "code",
   "execution_count": 1,
   "id": "alpine-syracuse",
   "metadata": {},
   "outputs": [],
   "source": [
    "import numpy as np\n",
    "import pandas as pd\n",
    "import os"
   ]
  },
  {
   "cell_type": "code",
   "execution_count": 2,
   "id": "ignored-burst",
   "metadata": {},
   "outputs": [],
   "source": [
    "cwd = os.getcwd()\n",
    "movie = pd.read_csv(cwd + \"/data/final.csv\")\n",
    "\n",
    "movie.describe()"
   ]
  },
  {
   "cell_type": "code",
   "execution_count": 3,
   "id": "approved-minority",
   "metadata": {},
   "outputs": [
    {
     "data": {
      "text/html": [
       "<div>\n",
       "<style scoped>\n",
       "    .dataframe tbody tr th:only-of-type {\n",
       "        vertical-align: middle;\n",
       "    }\n",
       "\n",
       "    .dataframe tbody tr th {\n",
       "        vertical-align: top;\n",
       "    }\n",
       "\n",
       "    .dataframe thead th {\n",
       "        text-align: right;\n",
       "    }\n",
       "</style>\n",
       "<table border=\"1\" class=\"dataframe\">\n",
       "  <thead>\n",
       "    <tr style=\"text-align: right;\">\n",
       "      <th></th>\n",
       "      <th>MovieID</th>\n",
       "      <th>CustomerID</th>\n",
       "      <th>Rating</th>\n",
       "      <th>Date</th>\n",
       "    </tr>\n",
       "  </thead>\n",
       "  <tbody>\n",
       "    <tr>\n",
       "      <th>0</th>\n",
       "      <td>1</td>\n",
       "      <td>1488844</td>\n",
       "      <td>3</td>\n",
       "      <td>2005-09-06</td>\n",
       "    </tr>\n",
       "    <tr>\n",
       "      <th>1</th>\n",
       "      <td>1</td>\n",
       "      <td>822109</td>\n",
       "      <td>5</td>\n",
       "      <td>2005-05-13</td>\n",
       "    </tr>\n",
       "    <tr>\n",
       "      <th>2</th>\n",
       "      <td>1</td>\n",
       "      <td>885013</td>\n",
       "      <td>4</td>\n",
       "      <td>2005-10-19</td>\n",
       "    </tr>\n",
       "    <tr>\n",
       "      <th>3</th>\n",
       "      <td>1</td>\n",
       "      <td>30878</td>\n",
       "      <td>4</td>\n",
       "      <td>2005-12-26</td>\n",
       "    </tr>\n",
       "    <tr>\n",
       "      <th>4</th>\n",
       "      <td>1</td>\n",
       "      <td>823519</td>\n",
       "      <td>3</td>\n",
       "      <td>2004-05-03</td>\n",
       "    </tr>\n",
       "  </tbody>\n",
       "</table>\n",
       "</div>"
      ],
      "text/plain": [
       "   MovieID  CustomerID  Rating        Date\n",
       "0        1     1488844       3  2005-09-06\n",
       "1        1      822109       5  2005-05-13\n",
       "2        1      885013       4  2005-10-19\n",
       "3        1       30878       4  2005-12-26\n",
       "4        1      823519       3  2004-05-03"
      ]
     },
     "execution_count": 3,
     "metadata": {},
     "output_type": "execute_result"
    }
   ],
   "source": [
    "movie.head()"
   ]
  },
  {
   "cell_type": "markdown",
   "id": "directed-inside",
   "metadata": {},
   "source": [
    "## Reducing Data Size"
   ]
  },
  {
   "cell_type": "markdown",
   "id": "seven-exercise",
   "metadata": {},
   "source": [
    "We will be changing the Date object to 'category', as well as reducing the data type of the rest of the columns from int64 to int32 for the IDs, and to int8 for the ratings."
   ]
  },
  {
   "cell_type": "code",
   "execution_count": 4,
   "id": "major-danger",
   "metadata": {},
   "outputs": [
    {
     "data": {
      "text/plain": [
       "Index               128\n",
       "MovieID       803844056\n",
       "CustomerID    803844056\n",
       "Rating        803844056\n",
       "Date          803844056\n",
       "dtype: int64"
      ]
     },
     "execution_count": 4,
     "metadata": {},
     "output_type": "execute_result"
    }
   ],
   "source": [
    "movie.memory_usage()"
   ]
  },
  {
   "cell_type": "code",
   "execution_count": 5,
   "id": "turkish-found",
   "metadata": {},
   "outputs": [
    {
     "data": {
      "text/plain": [
       "3066.421844482422"
      ]
     },
     "execution_count": 5,
     "metadata": {},
     "output_type": "execute_result"
    }
   ],
   "source": [
    "movie.memory_usage().sum() / (1024**2)"
   ]
  },
  {
   "cell_type": "code",
   "execution_count": 6,
   "id": "suited-upgrade",
   "metadata": {},
   "outputs": [
    {
     "data": {
      "text/plain": [
       "MovieID        int64\n",
       "CustomerID     int64\n",
       "Rating         int64\n",
       "Date          object\n",
       "dtype: object"
      ]
     },
     "execution_count": 6,
     "metadata": {},
     "output_type": "execute_result"
    }
   ],
   "source": [
    "movie.dtypes"
   ]
  },
  {
   "cell_type": "code",
   "execution_count": 3,
   "id": "conditional-defendant",
   "metadata": {},
   "outputs": [],
   "source": [
    "movie['Date'] = movie['Date'].astype('category')\n",
    "movie['MovieID'] = movie['MovieID'].astype('int16')\n",
    "movie['CustomerID'] = movie['CustomerID'].astype('int32')\n",
    "movie['Rating'] = movie['Rating'].astype('int8')"
   ]
  },
  {
   "cell_type": "code",
   "execution_count": 9,
   "id": "average-january",
   "metadata": {},
   "outputs": [
    {
     "data": {
      "text/plain": [
       "862.5109052658081"
      ]
     },
     "execution_count": 9,
     "metadata": {},
     "output_type": "execute_result"
    }
   ],
   "source": [
    "movie.memory_usage().sum() / (1024**2)"
   ]
  },
  {
   "cell_type": "markdown",
   "id": "disturbed-dance",
   "metadata": {},
   "source": [
    "## Changing into a Sparse Dataframe"
   ]
  },
  {
   "cell_type": "markdown",
   "id": "willing-kruger",
   "metadata": {},
   "source": [
    "First, we must pivot the dataframe so that it is in the form of a sparse dataframe. However, in order to pivot, we need a far smaller dataframe. So first we sort, divide, pivot, and then merge back together."
   ]
  },
  {
   "cell_type": "code",
   "execution_count": 4,
   "id": "based-return",
   "metadata": {},
   "outputs": [],
   "source": [
    "import pickle\n",
    "from tqdm import tqdm"
   ]
  },
  {
   "cell_type": "code",
   "execution_count": 5,
   "id": "dutch-statistics",
   "metadata": {
    "scrolled": false
   },
   "outputs": [],
   "source": [
    "movie.sort_values(by = \"MovieID\", inplace = True)"
   ]
  },
  {
   "cell_type": "code",
   "execution_count": 12,
   "id": "compact-protest",
   "metadata": {},
   "outputs": [
    {
     "data": {
      "text/plain": [
       "1629.116213798523"
      ]
     },
     "execution_count": 12,
     "metadata": {},
     "output_type": "execute_result"
    }
   ],
   "source": [
    "movie.memory_usage().sum() / (1024**2)"
   ]
  },
  {
   "cell_type": "code",
   "execution_count": 9,
   "id": "isolated-north",
   "metadata": {},
   "outputs": [
    {
     "name": "stderr",
     "output_type": "stream",
     "text": [
      "100%|██████████| 8/8 [09:42<00:00, 72.80s/it]\n"
     ]
    }
   ],
   "source": [
    "chunk_size = 12560063\n",
    "chunks = [x for x in range(0, movie.shape[0], chunk_size)]\n",
    "\n",
    "smovie = pd.DataFrame()\n",
    "nmovie = np.array([])\n",
    "for i in tqdm(range(0, len(chunks) - 1)):\n",
    "    chunk_movie = movie.iloc[chunks[i]:chunks[i + 1] - 1]\n",
    "    pmovie = chunk_movie.pivot_table(values='Rating', index='CustomerID', columns='MovieID')\n",
    "    #pmovie.to_numpy().save(\"numpy\" + str(i), allow_pickle=True)\n",
    "    np.save(\"numpy\" + str(i), pmovie.to_numpy(), allow_pickle=True)\n",
    "    #nmovie = np.append(nmovie, pmovie.to_numpy())\n",
    "    #smovie = smovie.append(pmovie.astype(pd.SparseDtype(\"int8\", np.nan)))"
   ]
  },
  {
   "cell_type": "code",
   "execution_count": 16,
   "id": "accompanied-fossil",
   "metadata": {
    "scrolled": true
   },
   "outputs": [
    {
     "data": {
      "text/html": [
       "<div>\n",
       "<style scoped>\n",
       "    .dataframe tbody tr th:only-of-type {\n",
       "        vertical-align: middle;\n",
       "    }\n",
       "\n",
       "    .dataframe tbody tr th {\n",
       "        vertical-align: top;\n",
       "    }\n",
       "\n",
       "    .dataframe thead th {\n",
       "        text-align: right;\n",
       "    }\n",
       "</style>\n",
       "<table border=\"1\" class=\"dataframe\">\n",
       "  <thead>\n",
       "    <tr style=\"text-align: right;\">\n",
       "      <th>MovieID</th>\n",
       "      <th>1</th>\n",
       "      <th>2</th>\n",
       "      <th>3</th>\n",
       "      <th>4</th>\n",
       "      <th>5</th>\n",
       "      <th>6</th>\n",
       "      <th>7</th>\n",
       "      <th>8</th>\n",
       "      <th>9</th>\n",
       "      <th>10</th>\n",
       "      <th>...</th>\n",
       "      <th>17761</th>\n",
       "      <th>17762</th>\n",
       "      <th>17763</th>\n",
       "      <th>17764</th>\n",
       "      <th>17765</th>\n",
       "      <th>17766</th>\n",
       "      <th>17767</th>\n",
       "      <th>17768</th>\n",
       "      <th>17769</th>\n",
       "      <th>17770</th>\n",
       "    </tr>\n",
       "    <tr>\n",
       "      <th>CustomerID</th>\n",
       "      <th></th>\n",
       "      <th></th>\n",
       "      <th></th>\n",
       "      <th></th>\n",
       "      <th></th>\n",
       "      <th></th>\n",
       "      <th></th>\n",
       "      <th></th>\n",
       "      <th></th>\n",
       "      <th></th>\n",
       "      <th></th>\n",
       "      <th></th>\n",
       "      <th></th>\n",
       "      <th></th>\n",
       "      <th></th>\n",
       "      <th></th>\n",
       "      <th></th>\n",
       "      <th></th>\n",
       "      <th></th>\n",
       "      <th></th>\n",
       "      <th></th>\n",
       "    </tr>\n",
       "  </thead>\n",
       "  <tbody>\n",
       "    <tr>\n",
       "      <th>6</th>\n",
       "      <td>NaN</td>\n",
       "      <td>NaN</td>\n",
       "      <td>NaN</td>\n",
       "      <td>NaN</td>\n",
       "      <td>NaN</td>\n",
       "      <td>NaN</td>\n",
       "      <td>NaN</td>\n",
       "      <td>NaN</td>\n",
       "      <td>NaN</td>\n",
       "      <td>NaN</td>\n",
       "      <td>...</td>\n",
       "      <td>NaN</td>\n",
       "      <td>NaN</td>\n",
       "      <td>NaN</td>\n",
       "      <td>NaN</td>\n",
       "      <td>NaN</td>\n",
       "      <td>NaN</td>\n",
       "      <td>NaN</td>\n",
       "      <td>NaN</td>\n",
       "      <td>NaN</td>\n",
       "      <td>NaN</td>\n",
       "    </tr>\n",
       "    <tr>\n",
       "      <th>7</th>\n",
       "      <td>NaN</td>\n",
       "      <td>NaN</td>\n",
       "      <td>NaN</td>\n",
       "      <td>NaN</td>\n",
       "      <td>NaN</td>\n",
       "      <td>NaN</td>\n",
       "      <td>NaN</td>\n",
       "      <td>5.0</td>\n",
       "      <td>NaN</td>\n",
       "      <td>NaN</td>\n",
       "      <td>...</td>\n",
       "      <td>NaN</td>\n",
       "      <td>NaN</td>\n",
       "      <td>NaN</td>\n",
       "      <td>NaN</td>\n",
       "      <td>NaN</td>\n",
       "      <td>NaN</td>\n",
       "      <td>NaN</td>\n",
       "      <td>NaN</td>\n",
       "      <td>NaN</td>\n",
       "      <td>NaN</td>\n",
       "    </tr>\n",
       "    <tr>\n",
       "      <th>8</th>\n",
       "      <td>NaN</td>\n",
       "      <td>NaN</td>\n",
       "      <td>NaN</td>\n",
       "      <td>NaN</td>\n",
       "      <td>NaN</td>\n",
       "      <td>NaN</td>\n",
       "      <td>NaN</td>\n",
       "      <td>NaN</td>\n",
       "      <td>NaN</td>\n",
       "      <td>NaN</td>\n",
       "      <td>...</td>\n",
       "      <td>NaN</td>\n",
       "      <td>NaN</td>\n",
       "      <td>NaN</td>\n",
       "      <td>NaN</td>\n",
       "      <td>NaN</td>\n",
       "      <td>NaN</td>\n",
       "      <td>NaN</td>\n",
       "      <td>NaN</td>\n",
       "      <td>NaN</td>\n",
       "      <td>NaN</td>\n",
       "    </tr>\n",
       "    <tr>\n",
       "      <th>10</th>\n",
       "      <td>NaN</td>\n",
       "      <td>NaN</td>\n",
       "      <td>NaN</td>\n",
       "      <td>NaN</td>\n",
       "      <td>NaN</td>\n",
       "      <td>NaN</td>\n",
       "      <td>NaN</td>\n",
       "      <td>NaN</td>\n",
       "      <td>NaN</td>\n",
       "      <td>NaN</td>\n",
       "      <td>...</td>\n",
       "      <td>NaN</td>\n",
       "      <td>NaN</td>\n",
       "      <td>NaN</td>\n",
       "      <td>NaN</td>\n",
       "      <td>NaN</td>\n",
       "      <td>NaN</td>\n",
       "      <td>NaN</td>\n",
       "      <td>NaN</td>\n",
       "      <td>NaN</td>\n",
       "      <td>NaN</td>\n",
       "    </tr>\n",
       "    <tr>\n",
       "      <th>25</th>\n",
       "      <td>NaN</td>\n",
       "      <td>NaN</td>\n",
       "      <td>NaN</td>\n",
       "      <td>NaN</td>\n",
       "      <td>NaN</td>\n",
       "      <td>NaN</td>\n",
       "      <td>NaN</td>\n",
       "      <td>NaN</td>\n",
       "      <td>NaN</td>\n",
       "      <td>NaN</td>\n",
       "      <td>...</td>\n",
       "      <td>NaN</td>\n",
       "      <td>NaN</td>\n",
       "      <td>NaN</td>\n",
       "      <td>NaN</td>\n",
       "      <td>NaN</td>\n",
       "      <td>NaN</td>\n",
       "      <td>NaN</td>\n",
       "      <td>NaN</td>\n",
       "      <td>NaN</td>\n",
       "      <td>NaN</td>\n",
       "    </tr>\n",
       "  </tbody>\n",
       "</table>\n",
       "<p>5 rows × 17770 columns</p>\n",
       "</div>"
      ],
      "text/plain": [
       "MovieID     1      2      3      4      5      6      7      8      9      \\\n",
       "CustomerID                                                                  \n",
       "6             NaN    NaN    NaN    NaN    NaN    NaN    NaN    NaN    NaN   \n",
       "7             NaN    NaN    NaN    NaN    NaN    NaN    NaN    5.0    NaN   \n",
       "8             NaN    NaN    NaN    NaN    NaN    NaN    NaN    NaN    NaN   \n",
       "10            NaN    NaN    NaN    NaN    NaN    NaN    NaN    NaN    NaN   \n",
       "25            NaN    NaN    NaN    NaN    NaN    NaN    NaN    NaN    NaN   \n",
       "\n",
       "MovieID     10     ...  17761  17762  17763  17764  17765  17766  17767  \\\n",
       "CustomerID         ...                                                    \n",
       "6             NaN  ...    NaN    NaN    NaN    NaN    NaN    NaN    NaN   \n",
       "7             NaN  ...    NaN    NaN    NaN    NaN    NaN    NaN    NaN   \n",
       "8             NaN  ...    NaN    NaN    NaN    NaN    NaN    NaN    NaN   \n",
       "10            NaN  ...    NaN    NaN    NaN    NaN    NaN    NaN    NaN   \n",
       "25            NaN  ...    NaN    NaN    NaN    NaN    NaN    NaN    NaN   \n",
       "\n",
       "MovieID     17768  17769  17770  \n",
       "CustomerID                       \n",
       "6             NaN    NaN    NaN  \n",
       "7             NaN    NaN    NaN  \n",
       "8             NaN    NaN    NaN  \n",
       "10            NaN    NaN    NaN  \n",
       "25            NaN    NaN    NaN  \n",
       "\n",
       "[5 rows x 17770 columns]"
      ]
     },
     "execution_count": 16,
     "metadata": {},
     "output_type": "execute_result"
    }
   ],
   "source": [
    "smovie.head()"
   ]
  },
  {
   "cell_type": "code",
   "execution_count": 19,
   "id": "suburban-eleven",
   "metadata": {},
   "outputs": [],
   "source": [
    "smovie.to_pickle(\"sparse\")"
   ]
  },
  {
   "cell_type": "markdown",
   "id": "separated-workshop",
   "metadata": {},
   "source": [
    "## Test-Train Split"
   ]
  },
  {
   "cell_type": "markdown",
   "id": "unexpected-courtesy",
   "metadata": {},
   "source": [
    "We need to split our data into an 80-20 Training-Testing split. This lowers the data usage, as well as lets us analyze the data."
   ]
  },
  {
   "cell_type": "code",
   "execution_count": 6,
   "id": "ranking-ghost",
   "metadata": {},
   "outputs": [],
   "source": [
    "from sklearn.model_selection import train_test_split"
   ]
  },
  {
   "cell_type": "code",
   "execution_count": 14,
   "id": "guided-charleston",
   "metadata": {},
   "outputs": [],
   "source": [
    "# for each loop to append numpy array\n",
    "# get movie and customer id from sparse file\n",
    "s_movie = np.load(\"numpy0.npy\")"
   ]
  },
  {
   "cell_type": "code",
   "execution_count": 12,
   "id": "stock-messenger",
   "metadata": {},
   "outputs": [],
   "source": [
    "split = int(s_movie.shape[0]*0.8)\n",
    "movie_train = s_movie.iloc[:split]\n",
    "movie_test = s_movie.iloc[split + 1:]"
   ]
  },
  {
   "cell_type": "code",
   "execution_count": 13,
   "id": "corresponding-newton",
   "metadata": {},
   "outputs": [],
   "source": [
    "movie_train.to_pickle(\"sparseTrain\")\n",
    "movie_test.to_pickle(\"sparseTest\")"
   ]
  },
  {
   "cell_type": "markdown",
   "id": "insured-comparison",
   "metadata": {},
   "source": [
    "Save our new training and testing sparse data sets to separate pickle files for easier ease of future use."
   ]
  },
  {
   "cell_type": "markdown",
   "id": "buried-bristol",
   "metadata": {},
   "source": [
    "### Find Global Average, User Average, and Movie Average"
   ]
  },
  {
   "cell_type": "code",
   "execution_count": 25,
   "id": "alive-vietnamese",
   "metadata": {},
   "outputs": [
    {
     "name": "stdout",
     "output_type": "stream",
     "text": [
      "<bound method Series.count of CustomerID\n",
      "6          0\n",
      "7          0\n",
      "8          0\n",
      "10         0\n",
      "25         0\n",
      "          ..\n",
      "1088922    0\n",
      "1088924    0\n",
      "1088925    0\n",
      "1088932    0\n",
      "1088949    0\n",
      "Length: 2961549, dtype: int64>\n"
     ]
    }
   ],
   "source": [
    "nonzeros = movie_train.eq(0).sum(axis=1).count\n",
    "print(nonzeros)"
   ]
  },
  {
   "cell_type": "code",
   "execution_count": 26,
   "id": "coated-listening",
   "metadata": {},
   "outputs": [
    {
     "name": "stdout",
     "output_type": "stream",
     "text": [
      "MovieID\n",
      "1        2051.0\n",
      "2         516.0\n",
      "3        7326.0\n",
      "4         389.0\n",
      "5        4468.0\n",
      "          ...  \n",
      "17766       0.0\n",
      "17767       0.0\n",
      "17768       0.0\n",
      "17769       0.0\n",
      "17770       0.0\n",
      "Length: 17770, dtype: float64\n"
     ]
    }
   ],
   "source": [
    "print(movie_train.sum())"
   ]
  },
  {
   "cell_type": "code",
   "execution_count": 31,
   "id": "municipal-whale",
   "metadata": {},
   "outputs": [
    {
     "ename": "AttributeError",
     "evalue": "'DataFrame' object has no attribute 'count_nonzero'",
     "output_type": "error",
     "traceback": [
      "\u001b[0;31m---------------------------------------------------------------------------\u001b[0m",
      "\u001b[0;31mAttributeError\u001b[0m                            Traceback (most recent call last)",
      "\u001b[0;32m<ipython-input-31-1921617b4433>\u001b[0m in \u001b[0;36m<module>\u001b[0;34m\u001b[0m\n\u001b[0;32m----> 1\u001b[0;31m \u001b[0mglobalAvg\u001b[0m \u001b[0;34m=\u001b[0m \u001b[0ms_movie\u001b[0m\u001b[0;34m.\u001b[0m\u001b[0msum\u001b[0m\u001b[0;34m(\u001b[0m\u001b[0;34m)\u001b[0m\u001b[0;34m/\u001b[0m\u001b[0ms_movie\u001b[0m\u001b[0;34m.\u001b[0m\u001b[0mcount_nonzero\u001b[0m\u001b[0;34m(\u001b[0m\u001b[0;34m)\u001b[0m\u001b[0;34m\u001b[0m\u001b[0;34m\u001b[0m\u001b[0m\n\u001b[0m\u001b[1;32m      2\u001b[0m \u001b[0mprint\u001b[0m\u001b[0;34m(\u001b[0m\u001b[0;34m\"Global Average Rating {}\"\u001b[0m\u001b[0;34m.\u001b[0m\u001b[0mformat\u001b[0m\u001b[0;34m(\u001b[0m\u001b[0mglobalAvg\u001b[0m\u001b[0;34m)\u001b[0m\u001b[0;34m)\u001b[0m\u001b[0;34m\u001b[0m\u001b[0;34m\u001b[0m\u001b[0m\n",
      "\u001b[0;32m~/anaconda3/lib/python3.8/site-packages/pandas/core/generic.py\u001b[0m in \u001b[0;36m__getattr__\u001b[0;34m(self, name)\u001b[0m\n\u001b[1;32m   5460\u001b[0m             \u001b[0;32mif\u001b[0m \u001b[0mself\u001b[0m\u001b[0;34m.\u001b[0m\u001b[0m_info_axis\u001b[0m\u001b[0;34m.\u001b[0m\u001b[0m_can_hold_identifiers_and_holds_name\u001b[0m\u001b[0;34m(\u001b[0m\u001b[0mname\u001b[0m\u001b[0;34m)\u001b[0m\u001b[0;34m:\u001b[0m\u001b[0;34m\u001b[0m\u001b[0;34m\u001b[0m\u001b[0m\n\u001b[1;32m   5461\u001b[0m                 \u001b[0;32mreturn\u001b[0m \u001b[0mself\u001b[0m\u001b[0;34m[\u001b[0m\u001b[0mname\u001b[0m\u001b[0;34m]\u001b[0m\u001b[0;34m\u001b[0m\u001b[0;34m\u001b[0m\u001b[0m\n\u001b[0;32m-> 5462\u001b[0;31m             \u001b[0;32mreturn\u001b[0m \u001b[0mobject\u001b[0m\u001b[0;34m.\u001b[0m\u001b[0m__getattribute__\u001b[0m\u001b[0;34m(\u001b[0m\u001b[0mself\u001b[0m\u001b[0;34m,\u001b[0m \u001b[0mname\u001b[0m\u001b[0;34m)\u001b[0m\u001b[0;34m\u001b[0m\u001b[0;34m\u001b[0m\u001b[0m\n\u001b[0m\u001b[1;32m   5463\u001b[0m \u001b[0;34m\u001b[0m\u001b[0m\n\u001b[1;32m   5464\u001b[0m     \u001b[0;32mdef\u001b[0m \u001b[0m__setattr__\u001b[0m\u001b[0;34m(\u001b[0m\u001b[0mself\u001b[0m\u001b[0;34m,\u001b[0m \u001b[0mname\u001b[0m\u001b[0;34m:\u001b[0m \u001b[0mstr\u001b[0m\u001b[0;34m,\u001b[0m \u001b[0mvalue\u001b[0m\u001b[0;34m)\u001b[0m \u001b[0;34m->\u001b[0m \u001b[0;32mNone\u001b[0m\u001b[0;34m:\u001b[0m\u001b[0;34m\u001b[0m\u001b[0;34m\u001b[0m\u001b[0m\n",
      "\u001b[0;31mAttributeError\u001b[0m: 'DataFrame' object has no attribute 'count_nonzero'"
     ]
    }
   ],
   "source": [
    "globalAvg = s_movie.sum()/s_movie.count_nonzero()\n",
    "print(\"Global Average Rating {}\".format(globalAvg))"
   ]
  },
  {
   "cell_type": "code",
   "execution_count": null,
   "id": "opened-therapy",
   "metadata": {},
   "outputs": [],
   "source": []
  },
  {
   "cell_type": "markdown",
   "id": "flush-delivery",
   "metadata": {},
   "source": [
    "Create a loss function and optimize for P and Q? Follow Blog post for instructions on getting ratings from it. Also attempt to simply use NMF from python."
   ]
  },
  {
   "cell_type": "code",
   "execution_count": 10,
   "id": "bottom-visitor",
   "metadata": {},
   "outputs": [],
   "source": []
  },
  {
   "cell_type": "code",
   "execution_count": null,
   "id": "flush-animation",
   "metadata": {},
   "outputs": [],
   "source": []
  },
  {
   "cell_type": "code",
   "execution_count": null,
   "id": "paperback-sleep",
   "metadata": {},
   "outputs": [],
   "source": []
  }
 ],
 "metadata": {
  "kernelspec": {
   "display_name": "Python 3",
   "language": "python",
   "name": "python3"
  },
  "language_info": {
   "codemirror_mode": {
    "name": "ipython",
    "version": 3
   },
   "file_extension": ".py",
   "mimetype": "text/x-python",
   "name": "python",
   "nbconvert_exporter": "python",
   "pygments_lexer": "ipython3",
   "version": "3.8.2"
  }
 },
 "nbformat": 4,
 "nbformat_minor": 5
}
