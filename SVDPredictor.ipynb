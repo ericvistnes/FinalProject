{
 "cells": [
  {
   "cell_type": "markdown",
   "id": "sixth-venture",
   "metadata": {},
   "source": [
    "# SVD Predictor"
   ]
  },
  {
   "cell_type": "markdown",
   "id": "dependent-publication",
   "metadata": {},
   "source": [
    "Creating and testing the SVD Predictor model on our dataframe. First we need to split the data in train and test set, and then run GridSearchCV on the training set in order to find the best n factors value to pass into the SVD model creation. "
   ]
  },
  {
   "cell_type": "code",
   "execution_count": 29,
   "id": "finished-restoration",
   "metadata": {},
   "outputs": [],
   "source": [
    "import pickle\n",
    "from datetime import datetime\n",
    "from tqdm import tqdm\n",
    "import numpy as np\n",
    "import pandas as pd\n",
    "import os\n",
    "import sklearn\n",
    "from sklearn.metrics.pairwise import cosine_similarity\n",
    "import random\n",
    "from surprise import Reader, Dataset\n",
    "from surprise import SVD\n",
    "from surprise import SVDpp\n",
    "from surprise.model_selection import GridSearchCV\n",
    "import xgboost as xbg\n",
    "from sklearn.model_selection import train_test_split\n",
    "from sklearn.metrics import mean_squared_error"
   ]
  },
  {
   "cell_type": "code",
   "execution_count": 27,
   "id": "given-fraud",
   "metadata": {},
   "outputs": [
    {
     "data": {
      "text/html": [
       "<div>\n",
       "<style scoped>\n",
       "    .dataframe tbody tr th:only-of-type {\n",
       "        vertical-align: middle;\n",
       "    }\n",
       "\n",
       "    .dataframe tbody tr th {\n",
       "        vertical-align: top;\n",
       "    }\n",
       "\n",
       "    .dataframe thead th {\n",
       "        text-align: right;\n",
       "    }\n",
       "</style>\n",
       "<table border=\"1\" class=\"dataframe\">\n",
       "  <thead>\n",
       "    <tr style=\"text-align: right;\">\n",
       "      <th></th>\n",
       "      <th>MovieID</th>\n",
       "      <th>CustomerID</th>\n",
       "      <th>Rating</th>\n",
       "    </tr>\n",
       "  </thead>\n",
       "  <tbody>\n",
       "    <tr>\n",
       "      <th>0</th>\n",
       "      <td>1</td>\n",
       "      <td>1488844</td>\n",
       "      <td>3</td>\n",
       "    </tr>\n",
       "    <tr>\n",
       "      <th>3</th>\n",
       "      <td>1</td>\n",
       "      <td>30878</td>\n",
       "      <td>4</td>\n",
       "    </tr>\n",
       "    <tr>\n",
       "      <th>7</th>\n",
       "      <td>1</td>\n",
       "      <td>1248029</td>\n",
       "      <td>3</td>\n",
       "    </tr>\n",
       "    <tr>\n",
       "      <th>19</th>\n",
       "      <td>1</td>\n",
       "      <td>372233</td>\n",
       "      <td>5</td>\n",
       "    </tr>\n",
       "    <tr>\n",
       "      <th>20</th>\n",
       "      <td>1</td>\n",
       "      <td>1080361</td>\n",
       "      <td>3</td>\n",
       "    </tr>\n",
       "  </tbody>\n",
       "</table>\n",
       "</div>"
      ],
      "text/plain": [
       "    MovieID  CustomerID  Rating\n",
       "0         1     1488844       3\n",
       "3         1       30878       4\n",
       "7         1     1248029       3\n",
       "19        1      372233       5\n",
       "20        1     1080361       3"
      ]
     },
     "execution_count": 27,
     "metadata": {},
     "output_type": "execute_result"
    }
   ],
   "source": [
    "movie = pd.read_pickle(\"cleanedMovie.pkl\")\n",
    "movie.head()"
   ]
  },
  {
   "cell_type": "code",
   "execution_count": 32,
   "id": "traditional-telephone",
   "metadata": {},
   "outputs": [
    {
     "data": {
      "text/plain": [
       "(3751486, 3)"
      ]
     },
     "execution_count": 32,
     "metadata": {},
     "output_type": "execute_result"
    }
   ],
   "source": [
    "movie_train, movie_test = sklearn.model_selection.train_test_split(movie, train_size = 0.8)"
   ]
  },
  {
   "cell_type": "code",
   "execution_count": 34,
   "id": "ecological-friendly",
   "metadata": {},
   "outputs": [
    {
     "name": "stdout",
     "output_type": "stream",
     "text": [
      "(3751486, 3)\n"
     ]
    },
    {
     "data": {
      "text/html": [
       "<div>\n",
       "<style scoped>\n",
       "    .dataframe tbody tr th:only-of-type {\n",
       "        vertical-align: middle;\n",
       "    }\n",
       "\n",
       "    .dataframe tbody tr th {\n",
       "        vertical-align: top;\n",
       "    }\n",
       "\n",
       "    .dataframe thead th {\n",
       "        text-align: right;\n",
       "    }\n",
       "</style>\n",
       "<table border=\"1\" class=\"dataframe\">\n",
       "  <thead>\n",
       "    <tr style=\"text-align: right;\">\n",
       "      <th></th>\n",
       "      <th>MovieID</th>\n",
       "      <th>CustomerID</th>\n",
       "      <th>Rating</th>\n",
       "    </tr>\n",
       "  </thead>\n",
       "  <tbody>\n",
       "    <tr>\n",
       "      <th>7882419</th>\n",
       "      <td>1582</td>\n",
       "      <td>826184</td>\n",
       "      <td>1</td>\n",
       "    </tr>\n",
       "    <tr>\n",
       "      <th>99705020</th>\n",
       "      <td>17580</td>\n",
       "      <td>1833576</td>\n",
       "      <td>3</td>\n",
       "    </tr>\n",
       "    <tr>\n",
       "      <th>45681607</th>\n",
       "      <td>8171</td>\n",
       "      <td>395747</td>\n",
       "      <td>5</td>\n",
       "    </tr>\n",
       "    <tr>\n",
       "      <th>22273012</th>\n",
       "      <td>4225</td>\n",
       "      <td>2361318</td>\n",
       "      <td>4</td>\n",
       "    </tr>\n",
       "    <tr>\n",
       "      <th>55260630</th>\n",
       "      <td>10109</td>\n",
       "      <td>864647</td>\n",
       "      <td>5</td>\n",
       "    </tr>\n",
       "  </tbody>\n",
       "</table>\n",
       "</div>"
      ],
      "text/plain": [
       "          MovieID  CustomerID  Rating\n",
       "7882419      1582      826184       1\n",
       "99705020    17580     1833576       3\n",
       "45681607     8171      395747       5\n",
       "22273012     4225     2361318       4\n",
       "55260630    10109      864647       5"
      ]
     },
     "execution_count": 34,
     "metadata": {},
     "output_type": "execute_result"
    }
   ],
   "source": [
    "print(movie_test.shape)\n",
    "movie_test.head()"
   ]
  },
  {
   "cell_type": "code",
   "execution_count": 36,
   "id": "challenging-formation",
   "metadata": {},
   "outputs": [
    {
     "name": "stdout",
     "output_type": "stream",
     "text": [
      "(15005940, 3)\n"
     ]
    },
    {
     "data": {
      "text/html": [
       "<div>\n",
       "<style scoped>\n",
       "    .dataframe tbody tr th:only-of-type {\n",
       "        vertical-align: middle;\n",
       "    }\n",
       "\n",
       "    .dataframe tbody tr th {\n",
       "        vertical-align: top;\n",
       "    }\n",
       "\n",
       "    .dataframe thead th {\n",
       "        text-align: right;\n",
       "    }\n",
       "</style>\n",
       "<table border=\"1\" class=\"dataframe\">\n",
       "  <thead>\n",
       "    <tr style=\"text-align: right;\">\n",
       "      <th></th>\n",
       "      <th>MovieID</th>\n",
       "      <th>CustomerID</th>\n",
       "      <th>Rating</th>\n",
       "    </tr>\n",
       "  </thead>\n",
       "  <tbody>\n",
       "    <tr>\n",
       "      <th>11836212</th>\n",
       "      <td>2284</td>\n",
       "      <td>1352912</td>\n",
       "      <td>4</td>\n",
       "    </tr>\n",
       "    <tr>\n",
       "      <th>88353372</th>\n",
       "      <td>15717</td>\n",
       "      <td>574834</td>\n",
       "      <td>4</td>\n",
       "    </tr>\n",
       "    <tr>\n",
       "      <th>3977489</th>\n",
       "      <td>758</td>\n",
       "      <td>698147</td>\n",
       "      <td>4</td>\n",
       "    </tr>\n",
       "    <tr>\n",
       "      <th>76706859</th>\n",
       "      <td>13923</td>\n",
       "      <td>1200886</td>\n",
       "      <td>3</td>\n",
       "    </tr>\n",
       "    <tr>\n",
       "      <th>85305777</th>\n",
       "      <td>15134</td>\n",
       "      <td>2222815</td>\n",
       "      <td>3</td>\n",
       "    </tr>\n",
       "  </tbody>\n",
       "</table>\n",
       "</div>"
      ],
      "text/plain": [
       "          MovieID  CustomerID  Rating\n",
       "11836212     2284     1352912       4\n",
       "88353372    15717      574834       4\n",
       "3977489       758      698147       4\n",
       "76706859    13923     1200886       3\n",
       "85305777    15134     2222815       3"
      ]
     },
     "execution_count": 36,
     "metadata": {},
     "output_type": "execute_result"
    }
   ],
   "source": [
    "print(movie_train.shape)\n",
    "movie_train.head()"
   ]
  },
  {
   "cell_type": "code",
   "execution_count": 37,
   "id": "interpreted-evanescence",
   "metadata": {},
   "outputs": [],
   "source": [
    "reader = Reader(rating_scale=(1,5))\n",
    "movieInput = pd.DataFrame()\n",
    "movieInput['CustomerID'] = movie_train['CustomerID']\n",
    "movieInput['MovieID'] = movie_train['MovieID']\n",
    "movieInput['Rating'] = movie_train['Rating']\n",
    "\n",
    "train_data = Dataset.load_from_df(movieInput, reader)\n",
    "trainset = train_data.build_full_trainset()"
   ]
  },
  {
   "cell_type": "code",
   "execution_count": 38,
   "id": "hispanic-reviewer",
   "metadata": {},
   "outputs": [],
   "source": [
    "testset = list(zip(movie_test[\"CustomerID\"].values, movie_test[\"MovieID\"].values, movie_test[\"Rating\"].values))"
   ]
  },
  {
   "cell_type": "code",
   "execution_count": 40,
   "id": "sticky-windows",
   "metadata": {},
   "outputs": [],
   "source": [
    "error_table = pd.DataFrame(columns = [\"Model\", \"Train_RMSE\", \"Test_RMSE\"])"
   ]
  },
  {
   "cell_type": "code",
   "execution_count": 46,
   "id": "structural-porter",
   "metadata": {},
   "outputs": [
    {
     "data": {
      "text/plain": [
       "3.4188866542182628"
      ]
     },
     "execution_count": 46,
     "metadata": {},
     "output_type": "execute_result"
    }
   ],
   "source": [
    "trainset.global_mean"
   ]
  },
  {
   "cell_type": "markdown",
   "id": "blank-graduate",
   "metadata": {},
   "source": [
    "## Creating Utility Functions"
   ]
  },
  {
   "cell_type": "code",
   "execution_count": 59,
   "id": "direct-lunch",
   "metadata": {},
   "outputs": [],
   "source": [
    "def make_table(model_name, rmse_train, rmse_test):\n",
    "    global error_table\n",
    "    error_table = error_table.append(pd.DataFrame([[model_name, rmse_train, rmse_test]], columns = [\"Model\", \"Train_RMSE\", \"Test_RMSE\"]))\n",
    "    error_table.reset_index(drop = True, inplace = True)"
   ]
  },
  {
   "cell_type": "code",
   "execution_count": 60,
   "id": "tender-parameter",
   "metadata": {},
   "outputs": [],
   "source": [
    "def run_surprise(algo, trainset, testset, model_name):\n",
    "    start = datetime.now()\n",
    "    algo.fit(trainset)\n",
    "    \n",
    "    pred_train = algo.test(trainset.build_testset())\n",
    "    \n",
    "    trainActual = np.array([p.r_ui for p in pred_train])\n",
    "    trainPred = np.array([p.est for p in pred_train]) \n",
    "    trainRMSE = np.sqrt(mean_squared_error(trainActual, trainPred))\n",
    "    \n",
    "    print(\"Train Data RMSE: {}\".format(trainRMSE))\n",
    "    print(\"\\n\")\n",
    "    \n",
    "    train = {\"RMSE\": trainRMSE, \"Prediction\": trainPred}\n",
    "    \n",
    "    pred_test = algo.test(testset)\n",
    "    testActual = np.array([p.r_ui for p in pred_test])\n",
    "    testPred = np.array([p.est for p in pred_test])\n",
    "    testRMSE = np.sqrt(mean_squared_error(testActual, testPred))\n",
    "    \n",
    "    print(\"Test Data RMSE: {}\".format(testRMSE))\n",
    "    print(\"\\n\")\n",
    "    \n",
    "    test = {\"RMSE\": testRMSE, \"Prediction\": testPred}\n",
    "    \n",
    "    print(\"Time Taken = \" + str(datetime.now() - start))\n",
    "    \n",
    "    make_table(model_name, trainRMSE, testRMSE)\n",
    "    \n",
    "    return train, test"
   ]
  },
  {
   "cell_type": "markdown",
   "id": "sophisticated-disaster",
   "metadata": {},
   "source": [
    "## Finding N Factors"
   ]
  },
  {
   "cell_type": "markdown",
   "id": "interested-occupation",
   "metadata": {},
   "source": [
    "GridSearchCV cannot handle the amount of data we are passing through, so we will run GridSearchCV on a smaller portion of the dataset in order to return the best n_factors to pass into SVD. SVD will itself get the full dataset we are using."
   ]
  },
  {
   "cell_type": "code",
   "execution_count": 66,
   "id": "horizontal-welcome",
   "metadata": {},
   "outputs": [
    {
     "name": "stdout",
     "output_type": "stream",
     "text": [
      "0.9141425899963144\n"
     ]
    }
   ],
   "source": [
    "params = { 'n_factors': [5, 10, 15, 20, 25, 30, 35, 40, 50]}\n",
    "grid = GridSearchCV(SVD, params, measures=['rmse'], cv=3, refit=True)\n",
    "grid.fit(Dataset.load_from_df(movieInput.iloc[:1500000], reader))\n",
    "print(grid.best_score['rmse'])"
   ]
  },
  {
   "cell_type": "markdown",
   "id": "embedded-atlas",
   "metadata": {},
   "source": [
    "Of the N factors passed in, we can find the one that had the best RMSE and use that in the SVD model. Below, we use that directly from the calculation above. In the following class file, we use the value as a static variable in order to minimize processing time on unnecessary calculations."
   ]
  },
  {
   "cell_type": "code",
   "execution_count": 67,
   "id": "naked-stylus",
   "metadata": {},
   "outputs": [
    {
     "name": "stdout",
     "output_type": "stream",
     "text": [
      "Processing epoch 0\n",
      "Processing epoch 1\n",
      "Processing epoch 2\n",
      "Processing epoch 3\n",
      "Processing epoch 4\n",
      "Processing epoch 5\n",
      "Processing epoch 6\n",
      "Processing epoch 7\n",
      "Processing epoch 8\n",
      "Processing epoch 9\n",
      "Processing epoch 10\n",
      "Processing epoch 11\n",
      "Processing epoch 12\n",
      "Processing epoch 13\n",
      "Processing epoch 14\n",
      "Processing epoch 15\n",
      "Processing epoch 16\n",
      "Processing epoch 17\n",
      "Processing epoch 18\n",
      "Processing epoch 19\n",
      "Train Data RMSE: 0.8198083205483772\n",
      "\n",
      "\n",
      "Test Data RMSE: 0.828587192328288\n",
      "\n",
      "\n",
      "Time Taken = 0:10:29.761314\n"
     ]
    }
   ],
   "source": [
    "algo = SVD(n_factors = grid.best_params['rmse']['n_factors'], biased=True, verbose=True)\n",
    "train_result, test_result = run_surprise(algo, trainset, testset, \"SVD\")"
   ]
  },
  {
   "cell_type": "code",
   "execution_count": 136,
   "id": "sized-cable",
   "metadata": {},
   "outputs": [
    {
     "data": {
      "text/plain": [
       "Prediction(uid=6, iid=16377, r_ui=None, est=4.215468759306557, details={'was_impossible': False})"
      ]
     },
     "execution_count": 136,
     "metadata": {},
     "output_type": "execute_result"
    }
   ],
   "source": [
    "algo.predict(6, 16377)"
   ]
  },
  {
   "cell_type": "code",
   "execution_count": null,
   "id": "impressive-humor",
   "metadata": {},
   "outputs": [],
   "source": []
  },
  {
   "cell_type": "code",
   "execution_count": null,
   "id": "talented-greenhouse",
   "metadata": {},
   "outputs": [],
   "source": []
  },
  {
   "cell_type": "code",
   "execution_count": null,
   "id": "boolean-anger",
   "metadata": {},
   "outputs": [],
   "source": []
  },
  {
   "cell_type": "markdown",
   "id": "loved-palestinian",
   "metadata": {},
   "source": [
    "## Putting it all together"
   ]
  },
  {
   "cell_type": "markdown",
   "id": "alternative-cardiff",
   "metadata": {},
   "source": [
    "Take all the information we gathered, the functions we built, and the models we created, and put them all into one class. The class saves algorithms as pickle files to be reused later without having to calculate the model and algorithm all over again. The class also has no testset, as there is no need for verification at this stage- only fitting the model and predicting values for the given user."
   ]
  },
  {
   "cell_type": "code",
   "execution_count": 113,
   "id": "gross-gathering",
   "metadata": {},
   "outputs": [],
   "source": [
    "import pickle\n",
    "from tqdm import tqdm\n",
    "import numpy as np\n",
    "import pandas as pd\n",
    "import os\n",
    "import pathlib\n",
    "from surprise import Reader, Dataset\n",
    "from surprise import SVD\n",
    "from surprise import SVDpp\n",
    "from surprise.model_selection import GridSearchCV\n",
    "from sklearn.model_selection import train_test_split\n",
    "from sklearn.metrics import mean_squared_error\n",
    "\n",
    "class SVDPredictor:\n",
    "    error_table = pd.DataFrame(columns = [\"Model\", \"Train_RMSE\", \"Test_RMSE\"])\n",
    "    \n",
    "    #Class takes in final.csv as a whole as a DataFrame\n",
    "    def __init__(self, data):\n",
    "        self.movie = data\n",
    "        self.createAlgorithmFromData()\n",
    "        \n",
    "    def createAlgorithmFromData(self):\n",
    "        #check if algo and trainset/train_data files are already created\n",
    "        file = pathlib.Path('svd.pickle')\n",
    "        if not file.exists():\n",
    "            self._reduceDataSize()\n",
    "            self._splitMovie()\n",
    "            self._createTrainSet()\n",
    "        self._run_surprise()\n",
    "        \n",
    "    def predict(self, userID, movieID):\n",
    "        #use algo to predict rating. Return predicted rating\n",
    "        return self.algo.predict(userID, movieID)\n",
    "    \n",
    "    def _splitMovie(self):\n",
    "        self.movie = self.movie.iloc[:1500000]\n",
    "        \n",
    "    def _createTrainSet(self):\n",
    "        reader = Reader(rating_scale=(1,5))\n",
    "        movieInput = pd.DataFrame()\n",
    "        movieInput['CustomerID'] = self.movie['CustomerID']\n",
    "        movieInput['MovieID'] = self.movie['MovieID']\n",
    "        movieInput['Rating'] = self.movie['Rating']\n",
    "\n",
    "        self.train_data = Dataset.load_from_df(movieInput, reader)\n",
    "        self.trainset = self.train_data.build_full_trainset()\n",
    "        #write to a file\n",
    "    \n",
    "    def _reduceDataSize(self):\n",
    "        self.movie['Date'] = self.movie['Date'].astype('category')\n",
    "        self.movie['MovieID'] = self.movie['MovieID'].astype('int16')\n",
    "        self.movie['CustomerID'] = self.movie['CustomerID'].astype('int32')\n",
    "        self.movie['Rating'] = self.movie['Rating'].astype('int8')\n",
    "    \n",
    "    def _run_surprise(self): \n",
    "        file = pathlib.Path('svd.pickle')\n",
    "        if file.exists():\n",
    "            with open('svd.pickle', 'rb') as f:\n",
    "                self.algo = pickle.load(f)\n",
    "        else:\n",
    "            self.algo = SVD(n_factors = 5, biased=True, verbose=True)\n",
    "            self.algo = self.algo.fit(self.trainset)\n",
    "            with open('svd.pickle', 'wb') as f:\n",
    "                pickle.dump(self.algo, f)\n",
    "\n",
    "    def _make_table(model_name, rmse_train, rmse_test):\n",
    "        global error_table\n",
    "        error_table = error_table.append(pd.DataFrame([[model_name, rmse_train, rmse_test]], columns = [\"Model\", \"Train_RMSE\", \"Test_RMSE\"]))\n",
    "        error_table.reset_index(drop = True, inplace = True)"
   ]
  },
  {
   "cell_type": "code",
   "execution_count": 114,
   "id": "interesting-roads",
   "metadata": {},
   "outputs": [
    {
     "name": "stdout",
     "output_type": "stream",
     "text": [
      "3.9187944579396867\n"
     ]
    }
   ],
   "source": [
    "svd = SVDPredictor(movie)\n",
    "print(svd.predict(1, 5).est)"
   ]
  },
  {
   "cell_type": "code",
   "execution_count": 145,
   "id": "ultimate-reverse",
   "metadata": {},
   "outputs": [
    {
     "name": "stdout",
     "output_type": "stream",
     "text": [
      "3.6377646666666665\n"
     ]
    }
   ],
   "source": [
    "print(svd.predict(3, 16378).est)"
   ]
  },
  {
   "cell_type": "code",
   "execution_count": null,
   "id": "municipal-command",
   "metadata": {},
   "outputs": [],
   "source": []
  }
 ],
 "metadata": {
  "kernelspec": {
   "display_name": "Python 3",
   "language": "python",
   "name": "python3"
  },
  "language_info": {
   "codemirror_mode": {
    "name": "ipython",
    "version": 3
   },
   "file_extension": ".py",
   "mimetype": "text/x-python",
   "name": "python",
   "nbconvert_exporter": "python",
   "pygments_lexer": "ipython3",
   "version": "3.8.2"
  }
 },
 "nbformat": 4,
 "nbformat_minor": 5
}
