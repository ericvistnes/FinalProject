{
 "cells": [
  {
   "cell_type": "markdown",
   "id": "abroad-curtis",
   "metadata": {},
   "source": [
    "# Collaborative Filtering on Netflix Prize Data"
   ]
  },
  {
   "cell_type": "markdown",
   "id": "personal-bronze",
   "metadata": {},
   "source": [
    "We will be taking our combined data set and reducing the size by reducing to smaller data types, and then pivoting the dataframe before using it to create a sparse dataframe with pandas. This reduces the size of the dataframe to approximately 1.1 GB from 2.6 GB. \n",
    "Next, we will use Stochastic Gradient Descent to find the rank-40 SVD of the full matrix, ignoring the empty values, which allows us to predict ratings with for the empty values."
   ]
  },
  {
   "cell_type": "markdown",
   "id": "dedicated-opening",
   "metadata": {},
   "source": [
    "We will also use a Nearest Neighborhood algorithm for our collaborative filtering. Thsi requires creating a similarity function that subtracts a users individual average of all items (not including null values), then add it back for the target user. From there, we can use the neighbors to predict a rating."
   ]
  },
  {
   "cell_type": "code",
   "execution_count": 2,
   "id": "ignored-burst",
   "metadata": {},
   "outputs": [
    {
     "data": {
      "text/html": [
       "<div>\n",
       "<style scoped>\n",
       "    .dataframe tbody tr th:only-of-type {\n",
       "        vertical-align: middle;\n",
       "    }\n",
       "\n",
       "    .dataframe tbody tr th {\n",
       "        vertical-align: top;\n",
       "    }\n",
       "\n",
       "    .dataframe thead th {\n",
       "        text-align: right;\n",
       "    }\n",
       "</style>\n",
       "<table border=\"1\" class=\"dataframe\">\n",
       "  <thead>\n",
       "    <tr style=\"text-align: right;\">\n",
       "      <th></th>\n",
       "      <th>MovieID</th>\n",
       "      <th>CustomerID</th>\n",
       "      <th>Rating</th>\n",
       "    </tr>\n",
       "  </thead>\n",
       "  <tbody>\n",
       "    <tr>\n",
       "      <th>count</th>\n",
       "      <td>1.004805e+08</td>\n",
       "      <td>1.004805e+08</td>\n",
       "      <td>1.004805e+08</td>\n",
       "    </tr>\n",
       "    <tr>\n",
       "      <th>mean</th>\n",
       "      <td>9.070915e+03</td>\n",
       "      <td>1.322489e+06</td>\n",
       "      <td>3.604290e+00</td>\n",
       "    </tr>\n",
       "    <tr>\n",
       "      <th>std</th>\n",
       "      <td>5.131891e+03</td>\n",
       "      <td>7.645368e+05</td>\n",
       "      <td>1.085219e+00</td>\n",
       "    </tr>\n",
       "    <tr>\n",
       "      <th>min</th>\n",
       "      <td>1.000000e+00</td>\n",
       "      <td>6.000000e+00</td>\n",
       "      <td>1.000000e+00</td>\n",
       "    </tr>\n",
       "    <tr>\n",
       "      <th>25%</th>\n",
       "      <td>4.677000e+03</td>\n",
       "      <td>6.611980e+05</td>\n",
       "      <td>3.000000e+00</td>\n",
       "    </tr>\n",
       "    <tr>\n",
       "      <th>50%</th>\n",
       "      <td>9.051000e+03</td>\n",
       "      <td>1.319012e+06</td>\n",
       "      <td>4.000000e+00</td>\n",
       "    </tr>\n",
       "    <tr>\n",
       "      <th>75%</th>\n",
       "      <td>1.363500e+04</td>\n",
       "      <td>1.984455e+06</td>\n",
       "      <td>4.000000e+00</td>\n",
       "    </tr>\n",
       "    <tr>\n",
       "      <th>max</th>\n",
       "      <td>1.777000e+04</td>\n",
       "      <td>2.649429e+06</td>\n",
       "      <td>5.000000e+00</td>\n",
       "    </tr>\n",
       "  </tbody>\n",
       "</table>\n",
       "</div>"
      ],
      "text/plain": [
       "            MovieID    CustomerID        Rating\n",
       "count  1.004805e+08  1.004805e+08  1.004805e+08\n",
       "mean   9.070915e+03  1.322489e+06  3.604290e+00\n",
       "std    5.131891e+03  7.645368e+05  1.085219e+00\n",
       "min    1.000000e+00  6.000000e+00  1.000000e+00\n",
       "25%    4.677000e+03  6.611980e+05  3.000000e+00\n",
       "50%    9.051000e+03  1.319012e+06  4.000000e+00\n",
       "75%    1.363500e+04  1.984455e+06  4.000000e+00\n",
       "max    1.777000e+04  2.649429e+06  5.000000e+00"
      ]
     },
     "execution_count": 2,
     "metadata": {},
     "output_type": "execute_result"
    }
   ],
   "source": [
    "import numpy as np\n",
    "import pandas as pd\n",
    "import os\n",
    "\n",
    "cwd = os.getcwd()\n",
    "movie = pd.read_csv(cwd + \"/data/final.csv\")\n",
    "\n",
    "movie.describe()"
   ]
  },
  {
   "cell_type": "code",
   "execution_count": 31,
   "id": "approved-minority",
   "metadata": {},
   "outputs": [
    {
     "data": {
      "text/html": [
       "<div>\n",
       "<style scoped>\n",
       "    .dataframe tbody tr th:only-of-type {\n",
       "        vertical-align: middle;\n",
       "    }\n",
       "\n",
       "    .dataframe tbody tr th {\n",
       "        vertical-align: top;\n",
       "    }\n",
       "\n",
       "    .dataframe thead th {\n",
       "        text-align: right;\n",
       "    }\n",
       "</style>\n",
       "<table border=\"1\" class=\"dataframe\">\n",
       "  <thead>\n",
       "    <tr style=\"text-align: right;\">\n",
       "      <th></th>\n",
       "      <th>MovieID</th>\n",
       "      <th>CustomerID</th>\n",
       "      <th>Rating</th>\n",
       "      <th>Date</th>\n",
       "    </tr>\n",
       "  </thead>\n",
       "  <tbody>\n",
       "    <tr>\n",
       "      <th>0</th>\n",
       "      <td>1</td>\n",
       "      <td>1488844</td>\n",
       "      <td>3</td>\n",
       "      <td>2005-09-06</td>\n",
       "    </tr>\n",
       "    <tr>\n",
       "      <th>375</th>\n",
       "      <td>1</td>\n",
       "      <td>1605780</td>\n",
       "      <td>4</td>\n",
       "      <td>2004-09-17</td>\n",
       "    </tr>\n",
       "    <tr>\n",
       "      <th>374</th>\n",
       "      <td>1</td>\n",
       "      <td>2005193</td>\n",
       "      <td>4</td>\n",
       "      <td>2005-11-17</td>\n",
       "    </tr>\n",
       "    <tr>\n",
       "      <th>373</th>\n",
       "      <td>1</td>\n",
       "      <td>1565175</td>\n",
       "      <td>5</td>\n",
       "      <td>2004-08-10</td>\n",
       "    </tr>\n",
       "    <tr>\n",
       "      <th>372</th>\n",
       "      <td>1</td>\n",
       "      <td>493945</td>\n",
       "      <td>5</td>\n",
       "      <td>2005-04-12</td>\n",
       "    </tr>\n",
       "  </tbody>\n",
       "</table>\n",
       "</div>"
      ],
      "text/plain": [
       "     MovieID  CustomerID  Rating        Date\n",
       "0          1     1488844       3  2005-09-06\n",
       "375        1     1605780       4  2004-09-17\n",
       "374        1     2005193       4  2005-11-17\n",
       "373        1     1565175       5  2004-08-10\n",
       "372        1      493945       5  2005-04-12"
      ]
     },
     "execution_count": 31,
     "metadata": {},
     "output_type": "execute_result"
    }
   ],
   "source": [
    "movie.head()"
   ]
  },
  {
   "cell_type": "markdown",
   "id": "directed-inside",
   "metadata": {},
   "source": [
    "## Reducing Data Size"
   ]
  },
  {
   "cell_type": "markdown",
   "id": "seven-exercise",
   "metadata": {},
   "source": [
    "We will be changing the Date object to 'category', as well as reducing the data type of the rest of the columns from int64 to int32 for the IDs, and to int8 for the ratings."
   ]
  },
  {
   "cell_type": "code",
   "execution_count": 4,
   "id": "major-danger",
   "metadata": {},
   "outputs": [
    {
     "data": {
      "text/plain": [
       "Index               128\n",
       "MovieID       803844056\n",
       "CustomerID    803844056\n",
       "Rating        803844056\n",
       "Date          803844056\n",
       "dtype: int64"
      ]
     },
     "execution_count": 4,
     "metadata": {},
     "output_type": "execute_result"
    }
   ],
   "source": [
    "movie.memory_usage()"
   ]
  },
  {
   "cell_type": "code",
   "execution_count": 5,
   "id": "turkish-found",
   "metadata": {},
   "outputs": [
    {
     "data": {
      "text/plain": [
       "3066.421844482422"
      ]
     },
     "execution_count": 5,
     "metadata": {},
     "output_type": "execute_result"
    }
   ],
   "source": [
    "movie.memory_usage().sum() / (1024**2)"
   ]
  },
  {
   "cell_type": "code",
   "execution_count": 6,
   "id": "suited-upgrade",
   "metadata": {},
   "outputs": [
    {
     "data": {
      "text/plain": [
       "MovieID        int64\n",
       "CustomerID     int64\n",
       "Rating         int64\n",
       "Date          object\n",
       "dtype: object"
      ]
     },
     "execution_count": 6,
     "metadata": {},
     "output_type": "execute_result"
    }
   ],
   "source": [
    "movie.dtypes"
   ]
  },
  {
   "cell_type": "code",
   "execution_count": 7,
   "id": "silver-skiing",
   "metadata": {},
   "outputs": [
    {
     "data": {
      "text/plain": [
       "2182"
      ]
     },
     "execution_count": 7,
     "metadata": {},
     "output_type": "execute_result"
    }
   ],
   "source": [
    "movie.Date.value_counts().size"
   ]
  },
  {
   "cell_type": "code",
   "execution_count": 23,
   "id": "conditional-defendant",
   "metadata": {},
   "outputs": [],
   "source": [
    "movie['Date'] = movie['Date'].astype('category')\n",
    "movie['MovieID'] = movie['MovieID'].astype('int16')\n",
    "movie['CustomerID'] = movie['CustomerID'].astype('int32')\n",
    "movie['Rating'] = movie['Rating'].astype('int8')"
   ]
  },
  {
   "cell_type": "code",
   "execution_count": 24,
   "id": "average-january",
   "metadata": {},
   "outputs": [
    {
     "data": {
      "text/plain": [
       "1629.116213798523"
      ]
     },
     "execution_count": 24,
     "metadata": {},
     "output_type": "execute_result"
    }
   ],
   "source": [
    "movie.memory_usage().sum() / (1024**2)"
   ]
  },
  {
   "cell_type": "markdown",
   "id": "disturbed-dance",
   "metadata": {},
   "source": [
    "## Changing into a Sparse Dataframe"
   ]
  },
  {
   "cell_type": "markdown",
   "id": "willing-kruger",
   "metadata": {},
   "source": [
    "First, we must pivot the dataframe so that it is in the form of a sparse dataframe. However, in order to pivot, we need a far smaller dataframe. So first we sort, divide, pivot, and then merge back together."
   ]
  },
  {
   "cell_type": "code",
   "execution_count": 20,
   "id": "dutch-statistics",
   "metadata": {
    "scrolled": false
   },
   "outputs": [],
   "source": [
    "movie.sort_values(by = \"MovieID\", inplace = True)"
   ]
  },
  {
   "cell_type": "code",
   "execution_count": 21,
   "id": "compact-protest",
   "metadata": {},
   "outputs": [
    {
     "data": {
      "text/plain": [
       "1629.116213798523"
      ]
     },
     "execution_count": 21,
     "metadata": {},
     "output_type": "execute_result"
    }
   ],
   "source": [
    "movie.memory_usage().sum() / (1024**2)"
   ]
  },
  {
   "cell_type": "code",
   "execution_count": 29,
   "id": "isolated-north",
   "metadata": {},
   "outputs": [
    {
     "name": "stderr",
     "output_type": "stream",
     "text": [
      "100%|██████████| 8/8 [17:55<00:00, 134.48s/it]\n"
     ]
    }
   ],
   "source": [
    "from tqdm import tqdm\n",
    "\n",
    "chunk_size = 12560063\n",
    "chunks = [x for x in range(0, movie.shape[0], chunk_size)]\n",
    "\n",
    "smovie = pd.DataFrame()\n",
    "for i in tqdm(range(0, len(chunks) - 1)):\n",
    "    chunk_movie = movie.iloc[chunks[i]:chunks[i + 1] - 1]\n",
    "    pmovie = chunk_movie.pivot_table(values='Rating', index='CustomerID', columns='MovieID')\n",
    "    smovie = smovie.append(pmovie.astype(pd.SparseDtype(\"int8\", np.nan)))"
   ]
  },
  {
   "cell_type": "code",
   "execution_count": null,
   "id": "previous-confidentiality",
   "metadata": {},
   "outputs": [],
   "source": [
    "matrix1 = movie1.pivot_table(values='Rating', index='CustomerID', columns='MovieID')\n",
    "matrix2 = movie2.pivot_table(values='Rating', index='CustomerID', columns='MovieID')\n",
    "matrix3 = movie3.pivot_table(values='Rating', index='CustomerID', columns='MovieID')\n",
    "matrix4 = movie4.pivot_table(values='Rating', index='CustomerID', columns='MovieID')"
   ]
  },
  {
   "cell_type": "code",
   "execution_count": 30,
   "id": "accompanied-fossil",
   "metadata": {},
   "outputs": [
    {
     "data": {
      "text/html": [
       "<div>\n",
       "<style scoped>\n",
       "    .dataframe tbody tr th:only-of-type {\n",
       "        vertical-align: middle;\n",
       "    }\n",
       "\n",
       "    .dataframe tbody tr th {\n",
       "        vertical-align: top;\n",
       "    }\n",
       "\n",
       "    .dataframe thead th {\n",
       "        text-align: right;\n",
       "    }\n",
       "</style>\n",
       "<table border=\"1\" class=\"dataframe\">\n",
       "  <thead>\n",
       "    <tr style=\"text-align: right;\">\n",
       "      <th>MovieID</th>\n",
       "      <th>1</th>\n",
       "      <th>2</th>\n",
       "      <th>3</th>\n",
       "      <th>4</th>\n",
       "      <th>5</th>\n",
       "      <th>6</th>\n",
       "      <th>7</th>\n",
       "      <th>8</th>\n",
       "      <th>9</th>\n",
       "      <th>10</th>\n",
       "      <th>...</th>\n",
       "      <th>17761</th>\n",
       "      <th>17762</th>\n",
       "      <th>17763</th>\n",
       "      <th>17764</th>\n",
       "      <th>17765</th>\n",
       "      <th>17766</th>\n",
       "      <th>17767</th>\n",
       "      <th>17768</th>\n",
       "      <th>17769</th>\n",
       "      <th>17770</th>\n",
       "    </tr>\n",
       "    <tr>\n",
       "      <th>CustomerID</th>\n",
       "      <th></th>\n",
       "      <th></th>\n",
       "      <th></th>\n",
       "      <th></th>\n",
       "      <th></th>\n",
       "      <th></th>\n",
       "      <th></th>\n",
       "      <th></th>\n",
       "      <th></th>\n",
       "      <th></th>\n",
       "      <th></th>\n",
       "      <th></th>\n",
       "      <th></th>\n",
       "      <th></th>\n",
       "      <th></th>\n",
       "      <th></th>\n",
       "      <th></th>\n",
       "      <th></th>\n",
       "      <th></th>\n",
       "      <th></th>\n",
       "      <th></th>\n",
       "    </tr>\n",
       "  </thead>\n",
       "  <tbody>\n",
       "    <tr>\n",
       "      <th>6</th>\n",
       "      <td>NaN</td>\n",
       "      <td>NaN</td>\n",
       "      <td>NaN</td>\n",
       "      <td>NaN</td>\n",
       "      <td>NaN</td>\n",
       "      <td>NaN</td>\n",
       "      <td>NaN</td>\n",
       "      <td>NaN</td>\n",
       "      <td>NaN</td>\n",
       "      <td>NaN</td>\n",
       "      <td>...</td>\n",
       "      <td>NaN</td>\n",
       "      <td>NaN</td>\n",
       "      <td>NaN</td>\n",
       "      <td>NaN</td>\n",
       "      <td>NaN</td>\n",
       "      <td>NaN</td>\n",
       "      <td>NaN</td>\n",
       "      <td>NaN</td>\n",
       "      <td>NaN</td>\n",
       "      <td>NaN</td>\n",
       "    </tr>\n",
       "    <tr>\n",
       "      <th>7</th>\n",
       "      <td>NaN</td>\n",
       "      <td>NaN</td>\n",
       "      <td>NaN</td>\n",
       "      <td>NaN</td>\n",
       "      <td>NaN</td>\n",
       "      <td>NaN</td>\n",
       "      <td>NaN</td>\n",
       "      <td>5.0</td>\n",
       "      <td>NaN</td>\n",
       "      <td>NaN</td>\n",
       "      <td>...</td>\n",
       "      <td>NaN</td>\n",
       "      <td>NaN</td>\n",
       "      <td>NaN</td>\n",
       "      <td>NaN</td>\n",
       "      <td>NaN</td>\n",
       "      <td>NaN</td>\n",
       "      <td>NaN</td>\n",
       "      <td>NaN</td>\n",
       "      <td>NaN</td>\n",
       "      <td>NaN</td>\n",
       "    </tr>\n",
       "    <tr>\n",
       "      <th>8</th>\n",
       "      <td>NaN</td>\n",
       "      <td>NaN</td>\n",
       "      <td>NaN</td>\n",
       "      <td>NaN</td>\n",
       "      <td>NaN</td>\n",
       "      <td>NaN</td>\n",
       "      <td>NaN</td>\n",
       "      <td>NaN</td>\n",
       "      <td>NaN</td>\n",
       "      <td>NaN</td>\n",
       "      <td>...</td>\n",
       "      <td>NaN</td>\n",
       "      <td>NaN</td>\n",
       "      <td>NaN</td>\n",
       "      <td>NaN</td>\n",
       "      <td>NaN</td>\n",
       "      <td>NaN</td>\n",
       "      <td>NaN</td>\n",
       "      <td>NaN</td>\n",
       "      <td>NaN</td>\n",
       "      <td>NaN</td>\n",
       "    </tr>\n",
       "    <tr>\n",
       "      <th>10</th>\n",
       "      <td>NaN</td>\n",
       "      <td>NaN</td>\n",
       "      <td>NaN</td>\n",
       "      <td>NaN</td>\n",
       "      <td>NaN</td>\n",
       "      <td>NaN</td>\n",
       "      <td>NaN</td>\n",
       "      <td>NaN</td>\n",
       "      <td>NaN</td>\n",
       "      <td>NaN</td>\n",
       "      <td>...</td>\n",
       "      <td>NaN</td>\n",
       "      <td>NaN</td>\n",
       "      <td>NaN</td>\n",
       "      <td>NaN</td>\n",
       "      <td>NaN</td>\n",
       "      <td>NaN</td>\n",
       "      <td>NaN</td>\n",
       "      <td>NaN</td>\n",
       "      <td>NaN</td>\n",
       "      <td>NaN</td>\n",
       "    </tr>\n",
       "    <tr>\n",
       "      <th>25</th>\n",
       "      <td>NaN</td>\n",
       "      <td>NaN</td>\n",
       "      <td>NaN</td>\n",
       "      <td>NaN</td>\n",
       "      <td>NaN</td>\n",
       "      <td>NaN</td>\n",
       "      <td>NaN</td>\n",
       "      <td>NaN</td>\n",
       "      <td>NaN</td>\n",
       "      <td>NaN</td>\n",
       "      <td>...</td>\n",
       "      <td>NaN</td>\n",
       "      <td>NaN</td>\n",
       "      <td>NaN</td>\n",
       "      <td>NaN</td>\n",
       "      <td>NaN</td>\n",
       "      <td>NaN</td>\n",
       "      <td>NaN</td>\n",
       "      <td>NaN</td>\n",
       "      <td>NaN</td>\n",
       "      <td>NaN</td>\n",
       "    </tr>\n",
       "  </tbody>\n",
       "</table>\n",
       "<p>5 rows × 17770 columns</p>\n",
       "</div>"
      ],
      "text/plain": [
       "MovieID     1      2      3      4      5      6      7      8      9      \\\n",
       "CustomerID                                                                  \n",
       "6             NaN    NaN    NaN    NaN    NaN    NaN    NaN    NaN    NaN   \n",
       "7             NaN    NaN    NaN    NaN    NaN    NaN    NaN    5.0    NaN   \n",
       "8             NaN    NaN    NaN    NaN    NaN    NaN    NaN    NaN    NaN   \n",
       "10            NaN    NaN    NaN    NaN    NaN    NaN    NaN    NaN    NaN   \n",
       "25            NaN    NaN    NaN    NaN    NaN    NaN    NaN    NaN    NaN   \n",
       "\n",
       "MovieID     10     ...  17761  17762  17763  17764  17765  17766  17767  \\\n",
       "CustomerID         ...                                                    \n",
       "6             NaN  ...    NaN    NaN    NaN    NaN    NaN    NaN    NaN   \n",
       "7             NaN  ...    NaN    NaN    NaN    NaN    NaN    NaN    NaN   \n",
       "8             NaN  ...    NaN    NaN    NaN    NaN    NaN    NaN    NaN   \n",
       "10            NaN  ...    NaN    NaN    NaN    NaN    NaN    NaN    NaN   \n",
       "25            NaN  ...    NaN    NaN    NaN    NaN    NaN    NaN    NaN   \n",
       "\n",
       "MovieID     17768  17769  17770  \n",
       "CustomerID                       \n",
       "6             NaN    NaN    NaN  \n",
       "7             NaN    NaN    NaN  \n",
       "8             NaN    NaN    NaN  \n",
       "10            NaN    NaN    NaN  \n",
       "25            NaN    NaN    NaN  \n",
       "\n",
       "[5 rows x 17770 columns]"
      ]
     },
     "execution_count": 30,
     "metadata": {},
     "output_type": "execute_result"
    }
   ],
   "source": [
    "smovie.head()"
   ]
  },
  {
   "cell_type": "code",
   "execution_count": 38,
   "id": "encouraging-stanford",
   "metadata": {},
   "outputs": [
    {
     "data": {
      "text/plain": [
       "(3701937, 17770)"
      ]
     },
     "execution_count": 38,
     "metadata": {},
     "output_type": "execute_result"
    }
   ],
   "source": [
    "smovie.shape"
   ]
  },
  {
   "cell_type": "markdown",
   "id": "separated-workshop",
   "metadata": {},
   "source": [
    "## Matrix Factorization"
   ]
  },
  {
   "cell_type": "markdown",
   "id": "unexpected-courtesy",
   "metadata": {},
   "source": [
    "First, we need to find the reduced rank SVD of smovie. We want rank-40 as a starting number."
   ]
  },
  {
   "cell_type": "code",
   "execution_count": null,
   "id": "guided-charleston",
   "metadata": {},
   "outputs": [],
   "source": []
  },
  {
   "cell_type": "code",
   "execution_count": null,
   "id": "stock-messenger",
   "metadata": {},
   "outputs": [],
   "source": []
  },
  {
   "cell_type": "code",
   "execution_count": null,
   "id": "political-characteristic",
   "metadata": {},
   "outputs": [],
   "source": []
  }
 ],
 "metadata": {
  "kernelspec": {
   "display_name": "Python 3",
   "language": "python",
   "name": "python3"
  },
  "language_info": {
   "codemirror_mode": {
    "name": "ipython",
    "version": 3
   },
   "file_extension": ".py",
   "mimetype": "text/x-python",
   "name": "python",
   "nbconvert_exporter": "python",
   "pygments_lexer": "ipython3",
   "version": "3.8.2"
  }
 },
 "nbformat": 4,
 "nbformat_minor": 5
}
