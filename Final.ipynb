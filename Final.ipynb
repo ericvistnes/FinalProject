{
 "cells": [
  {
   "cell_type": "markdown",
   "metadata": {},
   "source": [
    "# Final Project - Movie Recommender\n",
    "# DSC478 \n",
    "# Eric Vistnes, Xiaojing Shen, Robert Kaszubski"
   ]
  },
  {
   "cell_type": "markdown",
   "metadata": {},
   "source": [
    "Our goal is to explore ways in which we can recommend movies to users.\n",
    "We have used different methods including Clustering, Classification, and SVD to do so.\n",
    "\n",
    "Our dataset consisted of 17770 different movies rated by 480,189 with a grand total of 8,532,958,530 ratings. This proved difficult to process due to numerous issues with memory usage. We took several steps to make this dataset more manageable.\n"
   ]
  },
  {
   "cell_type": "markdown",
   "metadata": {},
   "source": [
    "Please refer to the other attached Jupyter Notebooks for a breakdown on how we:\n",
    "\n",
    "Combined the four txt files the dataset came in: Combine_Files.ipynb\n",
    "\n",
    "Initially preprocessed and pivoted the entire dataset: CollaborativeFiltering.ipynd\n",
    "\n",
    "Finally preprocesses and transformed the dataset to our final reduced version: Preprocessing and transformation.ipynd"
   ]
  },
  {
   "cell_type": "markdown",
   "metadata": {},
   "source": [
    "### Begin Application:"
   ]
  },
  {
   "cell_type": "markdown",
   "metadata": {},
   "source": [
    "We ask our user to rate movies they have seen from the most frequently rated in our dataset with the assumption that they have seen at least 5 of them."
   ]
  },
  {
   "cell_type": "code",
   "execution_count": 1,
   "metadata": {},
   "outputs": [],
   "source": [
    "import numpy as np\n",
    "import pandas as pd"
   ]
  },
  {
   "cell_type": "markdown",
   "metadata": {},
   "source": [
    "Read in our reduced and cleaned pickle file containing our dataset:"
   ]
  },
  {
   "cell_type": "code",
   "execution_count": 2,
   "metadata": {},
   "outputs": [],
   "source": [
    "object = pd.read_pickle('cleanedMovie.pkl')\n",
    "movies = pd.DataFrame(object)"
   ]
  },
  {
   "cell_type": "markdown",
   "metadata": {},
   "source": [
    "Dataframe containing the most frequently rated films in order:"
   ]
  },
  {
   "cell_type": "code",
   "execution_count": 3,
   "metadata": {},
   "outputs": [],
   "source": [
    "popular_movies = pd.DataFrame(movies[\"MovieID\"].value_counts())"
   ]
  },
  {
   "cell_type": "markdown",
   "metadata": {},
   "source": [
    "terms contains all of our movie titles, we remove unnecessary columns such as the release year:"
   ]
  },
  {
   "cell_type": "code",
   "execution_count": 4,
   "metadata": {},
   "outputs": [],
   "source": [
    "terms = pd.read_csv('movie_titles.txt', sep='\\t', encoding = \"ISO-8859-1\", header=None, index_col=0)\n",
    "terms = terms.iloc[:,:2]\n",
    "terms = terms.iloc[:,1:]"
   ]
  },
  {
   "cell_type": "markdown",
   "metadata": {},
   "source": [
    "Function to query movie title data and return the title for the given movieID:"
   ]
  },
  {
   "cell_type": "code",
   "execution_count": 5,
   "metadata": {},
   "outputs": [],
   "source": [
    "def toTitle(MovieID):\n",
    "    return terms.loc[ MovieID , : ][2]"
   ]
  },
  {
   "cell_type": "markdown",
   "metadata": {},
   "source": [
    "Function to ask users to rate n number of movies to get ratings to use for recommendations:\n",
    "\n",
    "Returns an array of the movies the user chose to rate in the format [[MovieID, rating]]"
   ]
  },
  {
   "cell_type": "code",
   "execution_count": 6,
   "metadata": {},
   "outputs": [],
   "source": [
    "def initial_rating(n):\n",
    "    print(\"These are the top\",n, \"most watched movies on our system:\")\n",
    "    print(\"Please rate at least 5 movies on a scale of 1 to 5 (1,2,3,4,5), you haven't seen it just hit Enter.\")\n",
    "    print(\"We can then start providing you recommendations based on your initial input!\")\n",
    "    print(\"\")\n",
    "    ratings = []\n",
    "    for mov in range(0,n):\n",
    "        ID = popular_movies.index[mov]\n",
    "        title = toTitle(ID)\n",
    "        print(\"You are rating\", title)\n",
    "        try:\n",
    "            while True:\n",
    "                b = int(input(\"Rate from 1 to 5: \"))\n",
    "                if b < 1 or b > 5:\n",
    "                    print(\"Sorry, your response must be on a scale of 1 to 5.\")\n",
    "                    continue\n",
    "                else:\n",
    "                    break\n",
    "            print(\"You rated\", title, \"as a\", b)\n",
    "            ratings.append([ID,b])\n",
    "        except:\n",
    "            print(\"You skipped\", title)\n",
    "            print(\"\")\n",
    "            continue\n",
    "        print(\"\")\n",
    "        \n",
    "        \n",
    "    return ratings"
   ]
  },
  {
   "cell_type": "markdown",
   "metadata": {},
   "source": [
    "#### Please follow the instructions below and try to rate at least 5 movies"
   ]
  },
  {
   "cell_type": "code",
   "execution_count": 7,
   "metadata": {},
   "outputs": [
    {
     "name": "stdout",
     "output_type": "stream",
     "text": [
      "These are the top 20 most watched movies on our system:\n",
      "Please rate at least 5 movies on a scale of 1 to 5 (1,2,3,4,5), you haven't seen it just hit Enter.\n",
      "We can then start providing you recommendations based on your initial input!\n",
      "\n",
      "You are rating Forrest Gump\n",
      "Rate from 1 to 5: 5\n",
      "You rated Forrest Gump as a 5\n",
      "\n",
      "You are rating The Sixth Sense\n",
      "Rate from 1 to 5: \n",
      "You skipped The Sixth Sense\n",
      "\n",
      "You are rating Pirates of the Caribbean: The Curse of the Black Pearl\n",
      "Rate from 1 to 5: 3\n",
      "You rated Pirates of the Caribbean: The Curse of the Black Pearl as a 3\n",
      "\n",
      "You are rating The Matrix\n",
      "Rate from 1 to 5: \n",
      "You skipped The Matrix\n",
      "\n",
      "You are rating Spider-Man\n",
      "Rate from 1 to 5: 4\n",
      "You rated Spider-Man as a 4\n",
      "\n",
      "You are rating Men in Black\n",
      "Rate from 1 to 5: \n",
      "You skipped Men in Black\n",
      "\n",
      "You are rating The Silence of the Lambs\n",
      "Rate from 1 to 5: 5\n",
      "You rated The Silence of the Lambs as a 5\n",
      "\n",
      "You are rating Independence Day\n",
      "Rate from 1 to 5: \n",
      "You skipped Independence Day\n",
      "\n",
      "You are rating Jurassic Park\n",
      "Rate from 1 to 5: 4\n",
      "You rated Jurassic Park as a 4\n",
      "\n",
      "You are rating Gladiator\n",
      "Rate from 1 to 5: \n",
      "You skipped Gladiator\n",
      "\n",
      "You are rating Ferris Bueller's Day Off\n",
      "Rate from 1 to 5: 4\n",
      "You rated Ferris Bueller's Day Off as a 4\n",
      "\n",
      "You are rating Ocean's Eleven\n",
      "Rate from 1 to 5: 4\n",
      "You rated Ocean's Eleven as a 4\n",
      "\n",
      "You are rating Raiders of the Lost Ark\n",
      "Rate from 1 to 5: 5\n",
      "You rated Raiders of the Lost Ark as a 5\n",
      "\n",
      "You are rating Lord of the Rings: The Fellowship of the Ring\n",
      "Rate from 1 to 5: 4\n",
      "You rated Lord of the Rings: The Fellowship of the Ring as a 4\n",
      "\n",
      "You are rating Minority Report\n",
      "Rate from 1 to 5: \n",
      "You skipped Minority Report\n",
      "\n",
      "You are rating Speed\n",
      "Rate from 1 to 5: \n",
      "You skipped Speed\n",
      "\n",
      "You are rating Meet the Parents\n",
      "Rate from 1 to 5: \n",
      "You skipped Meet the Parents\n",
      "\n",
      "You are rating The Fugitive\n",
      "Rate from 1 to 5: \n",
      "You skipped The Fugitive\n",
      "\n",
      "You are rating Braveheart\n",
      "Rate from 1 to 5: \n",
      "You skipped Braveheart\n",
      "\n",
      "You are rating Pulp Fiction\n",
      "Rate from 1 to 5: 4\n",
      "You rated Pulp Fiction as a 4\n",
      "\n"
     ]
    }
   ],
   "source": [
    "user_ratings = initial_rating(20)"
   ]
  },
  {
   "cell_type": "markdown",
   "metadata": {},
   "source": [
    "Here is the data we just captured from your responses\n",
    "Returned array of ratings in the format of: [MovieID, Rating] :"
   ]
  },
  {
   "cell_type": "code",
   "execution_count": 8,
   "metadata": {},
   "outputs": [
    {
     "data": {
      "text/plain": [
       "[[11283, 5],\n",
       " [1905, 3],\n",
       " [14410, 4],\n",
       " [2862, 5],\n",
       " [14312, 4],\n",
       " [6971, 4],\n",
       " [15107, 4],\n",
       " [10042, 5],\n",
       " [2452, 4],\n",
       " [11064, 4]]"
      ]
     },
     "execution_count": 8,
     "metadata": {},
     "output_type": "execute_result"
    }
   ],
   "source": [
    "user_ratings"
   ]
  },
  {
   "cell_type": "markdown",
   "metadata": {},
   "source": [
    "### Now we are going to cluster you based on your ratings"
   ]
  },
  {
   "cell_type": "code",
   "execution_count": 9,
   "metadata": {},
   "outputs": [],
   "source": [
    "object = pd.read_pickle('cleanedMovie.pkl')\n",
    "movies = pd.DataFrame(object)"
   ]
  },
  {
   "cell_type": "markdown",
   "metadata": {},
   "source": [
    "Pivoting data to create a Customer by Movie Matrix of ratings to use for doc term clustering:"
   ]
  },
  {
   "cell_type": "code",
   "execution_count": 10,
   "metadata": {},
   "outputs": [],
   "source": [
    "movieMatrix = movies.pivot_table(values='Rating', index='CustomerID', columns='MovieID')"
   ]
  },
  {
   "cell_type": "code",
   "execution_count": 11,
   "metadata": {},
   "outputs": [],
   "source": [
    "movieMatrix = movieMatrix.fillna(0)\n",
    "movie_arr = np.array(movieMatrix)"
   ]
  },
  {
   "cell_type": "code",
   "execution_count": 12,
   "metadata": {},
   "outputs": [],
   "source": [
    "import kMeans\n",
    "from sklearn.cluster import KMeans"
   ]
  },
  {
   "cell_type": "code",
   "execution_count": 13,
   "metadata": {},
   "outputs": [
    {
     "data": {
      "text/plain": [
       "KMeans(n_clusters=10)"
      ]
     },
     "execution_count": 13,
     "metadata": {},
     "output_type": "execute_result"
    }
   ],
   "source": [
    "kmeans = KMeans(n_clusters=10)\n",
    "kmeans.fit(movie_arr)"
   ]
  },
  {
   "cell_type": "code",
   "execution_count": 14,
   "metadata": {},
   "outputs": [],
   "source": [
    "def top_movies(df, n):\n",
    "    for mov in range(0,n):\n",
    "        print(toTitle(df.index[mov]),df.loc[df.index[mov]][0] )"
   ]
  },
  {
   "cell_type": "code",
   "execution_count": 15,
   "metadata": {},
   "outputs": [],
   "source": [
    "np.set_printoptions(precision=2,suppress=True)"
   ]
  },
  {
   "cell_type": "code",
   "execution_count": 16,
   "metadata": {},
   "outputs": [],
   "source": [
    "def print_clust(kmeans, k, n):\n",
    "    for cluster in range(0,k):\n",
    "        clust = pd.DataFrame(kmeans.cluster_centers_[cluster])\n",
    "        clust.index = movieMatrix.columns\n",
    "        #print(clust)\n",
    "        #sortDF = pd.DataFrame(clust,terms)\n",
    "        #print(sortDF)\n",
    "        sortDF = clust.sort_values(by=[0],ascending=False)\n",
    "        #print(sortDF.loc[sortDF.index[0]][0])\n",
    "        #print(sortDF)\n",
    "        print(\"Top movies in Cluster\", cluster+1)\n",
    "        top_movies(sortDF, n)\n",
    "        print(\"\")"
   ]
  },
  {
   "cell_type": "markdown",
   "metadata": {},
   "source": [
    "So these are the top movies found in each cluster:"
   ]
  },
  {
   "cell_type": "code",
   "execution_count": 17,
   "metadata": {},
   "outputs": [
    {
     "name": "stdout",
     "output_type": "stream",
     "text": [
      "Top movies in Cluster 1\n",
      "Raiders of the Lost Ark 4.4316271963330784\n",
      "Forrest Gump 4.394194041252866\n",
      "The Green Mile 4.271963330786861\n",
      "Braveheart 4.252864782276546\n",
      "Indiana Jones and the Last Crusade 4.231474407944996\n",
      "The Shawshank Redemption: Special Edition 4.220015278838808\n",
      "The Sixth Sense 4.18716577540107\n",
      "Gladiator 4.184873949579831\n",
      "The Fugitive 4.128342245989305\n",
      "Saving Private Ryan 4.119938884644767\n",
      "\n",
      "Top movies in Cluster 2\n",
      "The Shawshank Redemption: Special Edition 4.250293083235638\n",
      "The Sixth Sense 4.227432590855804\n",
      "The Silence of the Lambs 4.173505275498242\n",
      "Forrest Gump 4.156506447831184\n",
      "American Beauty 4.070339976553341\n",
      "Good Will Hunting 3.9701055099648306\n",
      "Finding Nemo (Widescreen) 3.943141852286049\n",
      "Pirates of the Caribbean: The Curse of the Black Pearl 3.9279015240328254\n",
      "Lord of the Rings: The Fellowship of the Ring 3.9273153575615476\n",
      "Raiders of the Lost Ark 3.900937866354044\n",
      "\n",
      "Top movies in Cluster 3\n",
      "Raiders of the Lost Ark 4.581761006289308\n",
      "The Godfather 4.462264150943396\n",
      "The Silence of the Lambs 4.415094339622642\n",
      "The Sixth Sense 4.383647798742138\n",
      "The Shawshank Redemption: Special Edition 4.371069182389937\n",
      "Lord of the Rings: The Fellowship of the Ring 4.317610062893082\n",
      "The Matrix 4.317610062893082\n",
      "Indiana Jones and the Last Crusade 4.29559748427673\n",
      "Lord of the Rings: The Two Towers 4.270440251572327\n",
      "Jaws 4.2421383647798745\n",
      "\n",
      "Top movies in Cluster 4\n",
      "Pulp Fiction 4.62204270051933\n",
      "Raiders of the Lost Ark 4.6151182919792255\n",
      "The Matrix 4.562608193883438\n",
      "The Shawshank Redemption: Special Edition 4.523946912867858\n",
      "Lord of the Rings: The Fellowship of the Ring 4.4945181765724165\n",
      "The Usual Suspects 4.487593768032316\n",
      "Fight Club 4.462781304096943\n",
      "Lord of the Rings: The Two Towers 4.4443162146566655\n",
      "The Silence of the Lambs 4.439122908251586\n",
      "Braveheart 4.435660703981535\n",
      "\n",
      "Top movies in Cluster 5\n",
      "To Kill a Mockingbird 4.359496124031006\n",
      "Rear Window 4.171511627906977\n",
      "The Godfather 4.1560077519379846\n",
      "Citizen Kane 4.103682170542637\n",
      "North by Northwest 4.051356589147287\n",
      "The Graduate 4.046511627906978\n",
      "One Flew Over the Cuckoo's Nest 4.036821705426356\n",
      "Amadeus 4.009689922480621\n",
      "Vertigo 3.9835271317829433\n",
      "Lawrence of Arabia 3.9583333333333317\n",
      "\n",
      "Top movies in Cluster 6\n",
      "Finding Nemo (Widescreen) 4.41243961352657\n",
      "Pretty Woman 4.353260869565216\n",
      "Forrest Gump 4.346618357487923\n",
      "Shrek (Full-screen) 4.324275362318841\n",
      "The Sixth Sense 4.309782608695652\n",
      "Monsters 4.292270531400966\n",
      "Pirates of the Caribbean: The Curse of the Black Pearl 4.265700483091788\n",
      "Grease 4.243961352657005\n",
      "Dirty Dancing 4.154589371980679\n",
      "Shrek 2 4.15277777777778\n",
      "\n",
      "Top movies in Cluster 7\n",
      "Raiders of the Lost Ark 4.54389721627409\n",
      "Forrest Gump 4.52676659528908\n",
      "The Matrix 4.526766595289079\n",
      "The Sixth Sense 4.524625267665954\n",
      "Shrek (Full-screen) 4.5203426124197\n",
      "Indiana Jones and the Last Crusade 4.517130620985012\n",
      "Braveheart 4.511777301927195\n",
      "Lord of the Rings: The Fellowship of the Ring 4.480728051391863\n",
      "Pirates of the Caribbean: The Curse of the Black Pearl 4.467880085653106\n",
      "Independence Day 4.461456102783725\n",
      "\n",
      "Top movies in Cluster 8\n",
      "Raiders of the Lost Ark 4.114238410596027\n",
      "Lord of the Rings: The Fellowship of the Ring 4.04387417218543\n",
      "Lord of the Rings: The Two Towers 4.004139072847682\n",
      "The Matrix 3.939569536423841\n",
      "Pirates of the Caribbean: The Curse of the Black Pearl 3.839403973509934\n",
      "Indiana Jones and the Last Crusade 3.806291390728477\n",
      "Lord of the Rings: The Return of the King 3.7905629139072845\n",
      "The Terminator 3.689569536423841\n",
      "The Sixth Sense 3.623344370860927\n",
      "Star Wars: Episode V: The Empire Strikes Back 3.5778145695364243\n",
      "\n",
      "Top movies in Cluster 9\n",
      "The Matrix 4.43057110862262\n",
      "Gladiator 4.353303471444568\n",
      "Forrest Gump 4.288913773796193\n",
      "Braveheart 4.288913773796192\n",
      "The Sixth Sense 4.271556550951848\n",
      "Lord of the Rings: The Two Towers 4.225643896976484\n",
      "Raiders of the Lost Ark 4.193169092945129\n",
      "Independence Day 4.187569988801791\n",
      "Pirates of the Caribbean: The Curse of the Black Pearl 4.186450167973125\n",
      "Lord of the Rings: The Fellowship of the Ring 4.171332586786114\n",
      "\n",
      "Top movies in Cluster 10\n",
      "Pulp Fiction 4.485263879369431\n",
      "The Godfather 4.326936257710761\n",
      "The Usual Suspects 4.241946538725155\n",
      "The Silence of the Lambs 4.2035640849897185\n",
      "GoodFellas: Special Edition 4.202193283070597\n",
      "American Beauty 4.192597669636737\n",
      "Apocalypse Now 4.18848526387937\n",
      "One Flew Over the Cuckoo's Nest 4.172035640849897\n",
      "Taxi Driver 4.16929403701165\n",
      "Memento 4.148732008224814\n",
      "\n"
     ]
    }
   ],
   "source": [
    "print_clust(kmeans,10,10)"
   ]
  },
  {
   "cell_type": "code",
   "execution_count": null,
   "metadata": {},
   "outputs": [],
   "source": []
  }
 ],
 "metadata": {
  "kernelspec": {
   "display_name": "Python 3",
   "language": "python",
   "name": "python3"
  },
  "language_info": {
   "codemirror_mode": {
    "name": "ipython",
    "version": 3
   },
   "file_extension": ".py",
   "mimetype": "text/x-python",
   "name": "python",
   "nbconvert_exporter": "python",
   "pygments_lexer": "ipython3",
   "version": "3.8.5"
  }
 },
 "nbformat": 4,
 "nbformat_minor": 4
}
