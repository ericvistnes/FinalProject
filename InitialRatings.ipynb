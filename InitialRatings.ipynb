{
 "cells": [
  {
   "cell_type": "code",
   "execution_count": 2,
   "metadata": {},
   "outputs": [],
   "source": [
    "import numpy as np\n",
    "import pandas as pd"
   ]
  },
  {
   "cell_type": "code",
   "execution_count": 3,
   "metadata": {
    "scrolled": true
   },
   "outputs": [],
   "source": [
    "topmovies = pd.read_csv(\"top100.csv\")"
   ]
  },
  {
   "cell_type": "code",
   "execution_count": 4,
   "metadata": {},
   "outputs": [
    {
     "data": {
      "text/html": [
       "<div>\n",
       "<style scoped>\n",
       "    .dataframe tbody tr th:only-of-type {\n",
       "        vertical-align: middle;\n",
       "    }\n",
       "\n",
       "    .dataframe tbody tr th {\n",
       "        vertical-align: top;\n",
       "    }\n",
       "\n",
       "    .dataframe thead th {\n",
       "        text-align: right;\n",
       "    }\n",
       "</style>\n",
       "<table border=\"1\" class=\"dataframe\">\n",
       "  <thead>\n",
       "    <tr style=\"text-align: right;\">\n",
       "      <th></th>\n",
       "      <th>Unnamed: 0</th>\n",
       "      <th>MovieID</th>\n",
       "    </tr>\n",
       "  </thead>\n",
       "  <tbody>\n",
       "    <tr>\n",
       "      <th>0</th>\n",
       "      <td>5317</td>\n",
       "      <td>232944</td>\n",
       "    </tr>\n",
       "    <tr>\n",
       "      <th>1</th>\n",
       "      <td>15124</td>\n",
       "      <td>216596</td>\n",
       "    </tr>\n",
       "    <tr>\n",
       "      <th>2</th>\n",
       "      <td>14313</td>\n",
       "      <td>200832</td>\n",
       "    </tr>\n",
       "    <tr>\n",
       "      <th>3</th>\n",
       "      <td>15205</td>\n",
       "      <td>196397</td>\n",
       "    </tr>\n",
       "    <tr>\n",
       "      <th>4</th>\n",
       "      <td>1905</td>\n",
       "      <td>193941</td>\n",
       "    </tr>\n",
       "    <tr>\n",
       "      <th>...</th>\n",
       "      <td>...</td>\n",
       "      <td>...</td>\n",
       "    </tr>\n",
       "    <tr>\n",
       "      <th>95</th>\n",
       "      <td>11337</td>\n",
       "      <td>116767</td>\n",
       "    </tr>\n",
       "    <tr>\n",
       "      <th>96</th>\n",
       "      <td>457</td>\n",
       "      <td>116762</td>\n",
       "    </tr>\n",
       "    <tr>\n",
       "      <th>97</th>\n",
       "      <td>6844</td>\n",
       "      <td>116716</td>\n",
       "    </tr>\n",
       "    <tr>\n",
       "      <th>98</th>\n",
       "      <td>10583</td>\n",
       "      <td>116609</td>\n",
       "    </tr>\n",
       "    <tr>\n",
       "      <th>99</th>\n",
       "      <td>3151</td>\n",
       "      <td>116362</td>\n",
       "    </tr>\n",
       "  </tbody>\n",
       "</table>\n",
       "<p>100 rows × 2 columns</p>\n",
       "</div>"
      ],
      "text/plain": [
       "    Unnamed: 0  MovieID\n",
       "0         5317   232944\n",
       "1        15124   216596\n",
       "2        14313   200832\n",
       "3        15205   196397\n",
       "4         1905   193941\n",
       "..         ...      ...\n",
       "95       11337   116767\n",
       "96         457   116762\n",
       "97        6844   116716\n",
       "98       10583   116609\n",
       "99        3151   116362\n",
       "\n",
       "[100 rows x 2 columns]"
      ]
     },
     "execution_count": 4,
     "metadata": {},
     "output_type": "execute_result"
    }
   ],
   "source": [
    "topmovies"
   ]
  },
  {
   "cell_type": "code",
   "execution_count": 5,
   "metadata": {},
   "outputs": [],
   "source": [
    "terms = pd.read_csv('movie_titles.txt', sep='\\t', encoding = \"ISO-8859-1\", header=None, index_col=0)"
   ]
  },
  {
   "cell_type": "code",
   "execution_count": 6,
   "metadata": {},
   "outputs": [],
   "source": [
    "terms = terms.iloc[:,:2]"
   ]
  },
  {
   "cell_type": "code",
   "execution_count": 7,
   "metadata": {},
   "outputs": [],
   "source": [
    "terms = terms.iloc[:,1:]"
   ]
  },
  {
   "cell_type": "code",
   "execution_count": 8,
   "metadata": {},
   "outputs": [
    {
     "data": {
      "text/plain": [
       "0      5317\n",
       "1     15124\n",
       "2     14313\n",
       "3     15205\n",
       "4      1905\n",
       "      ...  \n",
       "95    11337\n",
       "96      457\n",
       "97     6844\n",
       "98    10583\n",
       "99     3151\n",
       "Name: Unnamed: 0, Length: 100, dtype: int64"
      ]
     },
     "execution_count": 8,
     "metadata": {},
     "output_type": "execute_result"
    }
   ],
   "source": [
    "topmovies[\"Unnamed: 0\"]"
   ]
  },
  {
   "cell_type": "code",
   "execution_count": 9,
   "metadata": {},
   "outputs": [],
   "source": [
    "def toTitle(MovieID):\n",
    "    return terms.loc[ MovieID , : ][2]"
   ]
  },
  {
   "cell_type": "code",
   "execution_count": 10,
   "metadata": {},
   "outputs": [],
   "source": [
    "def initial_rating(n):\n",
    "    print(\"These are the top\",n, \"most popular movies based on overall ratings:\")\n",
    "    print(\"Please rate at least 5. We can then start providing you recommendations based on your initial input!\")\n",
    "    print(\"\")\n",
    "    for mov in range(0,n):\n",
    "        ID = topmovies[\"Unnamed: 0\"][mov]\n",
    "        print(\"MovieID:\",ID, \" Title:\", toTitle(ID))\n",
    "    cont = True\n",
    "    ratings = []\n",
    "    while cont and len(ratings) < 5:\n",
    "        a = int(input(\"Enter MovieID that you wish to rate:\"))\n",
    "        print(\"You are rating\", toTitle(a))\n",
    "        b = int(input(\"Rate from 1 to 5\"))\n",
    "        print(\"You rated\", toTitle(a), \"as a\", b)\n",
    "        ratings.append([a,b])\n",
    "        if len(ratings)>= 5:\n",
    "            c = input(\"Rate another movie? Y/N?\")\n",
    "            if c == \"Y\" or c == \"y\":\n",
    "                continue\n",
    "            else:\n",
    "                cont = False\n",
    "        \n",
    "    print(ratings)\n",
    "        "
   ]
  },
  {
   "cell_type": "code",
   "execution_count": 11,
   "metadata": {},
   "outputs": [],
   "source": [
    "#initial_rating(20)"
   ]
  },
  {
   "cell_type": "code",
   "execution_count": 15,
   "metadata": {},
   "outputs": [],
   "source": [
    "def initial_rating2(n):\n",
    "    print(\"These are the top\",n, \"most watched movies on our system:\")\n",
    "    print(\"Please rate at least 5 movies on a scale of 1 to 5 (1,2,3,4,5), you haven't seen it just hit Enter.\")\n",
    "    print(\"We can then start providing you recommendations based on your initial input!\")\n",
    "    print(\"\")\n",
    "    ratings = []\n",
    "    for mov in range(0,n):\n",
    "        ID = topmovies[\"Unnamed: 0\"][mov]\n",
    "        print(\"You are rating\", toTitle(ID))\n",
    "        try:\n",
    "            while True:\n",
    "                b = int(input(\"Rate from 1 to 5: \"))\n",
    "                if b < 1 or b > 5:\n",
    "                    print(\"Sorry, your response must be on a scale of 1 to 5.\")\n",
    "                    continue\n",
    "                else:\n",
    "                    break\n",
    "            print(\"You rated\", toTitle(ID), \"as a\", b)\n",
    "            ratings.append([ID,b])\n",
    "        except:\n",
    "            print(\"You skipped\", toTitle(ID))\n",
    "            print(\"\")\n",
    "            continue\n",
    "        print(\"\")\n",
    "        \n",
    "        \n",
    "    print(ratings)"
   ]
  },
  {
   "cell_type": "code",
   "execution_count": 16,
   "metadata": {},
   "outputs": [
    {
     "name": "stdout",
     "output_type": "stream",
     "text": [
      "These are the top 20 most watched movies on our system:\n",
      "Please rate at least 5 movies on a scale of 1 to 5 (1,2,3,4,5), you haven't seen it just hit Enter.\n",
      "We can then start providing you recommendations based on your initial input!\n",
      "\n",
      "You are rating Miss Congeniality\n",
      "Rate from 1 to 5: 5\n",
      "You rated Miss Congeniality as a 5\n",
      "\n",
      "You are rating Independence Day\n",
      "Rate from 1 to 5: 5\n",
      "You rated Independence Day as a 5\n",
      "\n",
      "You are rating The Patriot\n",
      "Rate from 1 to 5: 3\n",
      "You rated The Patriot as a 3\n",
      "\n",
      "You are rating The Day After Tomorrow\n",
      "Rate from 1 to 5: 4\n",
      "You rated The Day After Tomorrow as a 4\n",
      "\n",
      "You are rating Pirates of the Caribbean: The Curse of the Black Pearl\n",
      "Rate from 1 to 5: 6\n",
      "Sorry, your response must be on a scale of 1 to 5.\n",
      "Rate from 1 to 5: 8\n",
      "Sorry, your response must be on a scale of 1 to 5.\n",
      "Rate from 1 to 5: 5\n",
      "You rated Pirates of the Caribbean: The Curse of the Black Pearl as a 5\n",
      "\n",
      "You are rating Pretty Woman\n",
      "Rate from 1 to 5: 2\n",
      "You rated Pretty Woman as a 2\n",
      "\n",
      "You are rating Forrest Gump\n",
      "Rate from 1 to 5: 1\n",
      "You rated Forrest Gump as a 1\n",
      "\n",
      "You are rating The Green Mile\n",
      "Rate from 1 to 5: 3\n",
      "You rated The Green Mile as a 3\n",
      "\n",
      "You are rating Con Air\n",
      "Rate from 1 to 5: \n",
      "You skipped Con Air\n",
      "\n",
      "You are rating Twister\n",
      "Rate from 1 to 5: \n",
      "You skipped Twister\n",
      "\n",
      "You are rating Sweet Home Alabama\n",
      "Rate from 1 to 5: \n",
      "You skipped Sweet Home Alabama\n",
      "\n",
      "You are rating Pearl Harbor\n",
      "Rate from 1 to 5: \n",
      "You skipped Pearl Harbor\n",
      "\n",
      "You are rating Armageddon\n",
      "Rate from 1 to 5: \n",
      "You skipped Armageddon\n",
      "\n",
      "You are rating The Rock\n",
      "Rate from 1 to 5: \n",
      "You skipped The Rock\n",
      "\n",
      "You are rating What Women Want\n",
      "Rate from 1 to 5: \n",
      "You skipped What Women Want\n",
      "\n",
      "You are rating Bruce Almighty\n",
      "Rate from 1 to 5: \n",
      "You skipped Bruce Almighty\n",
      "\n",
      "You are rating Ocean's Eleven\n",
      "Rate from 1 to 5: \n",
      "You skipped Ocean's Eleven\n",
      "\n",
      "You are rating The Bourne Identity\n",
      "Rate from 1 to 5: \n",
      "You skipped The Bourne Identity\n",
      "\n",
      "You are rating The Italian Job\n",
      "Rate from 1 to 5: \n",
      "You skipped The Italian Job\n",
      "\n",
      "You are rating I\n",
      "Rate from 1 to 5: \n",
      "You skipped I\n",
      "\n",
      "[[5317, 5], [15124, 5], [14313, 3], [15205, 4], [1905, 5], [6287, 2], [11283, 1], [16377, 3]]\n"
     ]
    }
   ],
   "source": [
    "user_ratings = initial_rating2(20)"
   ]
  },
  {
   "cell_type": "code",
   "execution_count": null,
   "metadata": {},
   "outputs": [],
   "source": []
  },
  {
   "cell_type": "code",
   "execution_count": null,
   "metadata": {},
   "outputs": [],
   "source": []
  }
 ],
 "metadata": {
  "kernelspec": {
   "display_name": "Python 3",
   "language": "python",
   "name": "python3"
  }
 },
 "nbformat": 4,
 "nbformat_minor": 4
}
