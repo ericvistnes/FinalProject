{
 "cells": [
  {
   "cell_type": "code",
   "execution_count": 1,
   "metadata": {},
   "outputs": [],
   "source": [
    "import numpy as np\n",
    "import pandas as pd"
   ]
  },
  {
   "cell_type": "code",
   "execution_count": 2,
   "metadata": {},
   "outputs": [],
   "source": [
    "object = pd.read_pickle('cleanedMovie.pkl')\n",
    "movies = pd.DataFrame(object)"
   ]
  },
  {
   "cell_type": "markdown",
   "metadata": {},
   "source": [
    "Sort movies by their rating frequency:"
   ]
  },
  {
   "cell_type": "code",
   "execution_count": 3,
   "metadata": {},
   "outputs": [],
   "source": [
    "popular_movies = pd.DataFrame(movies[\"MovieID\"].value_counts())"
   ]
  },
  {
   "cell_type": "code",
   "execution_count": 4,
   "metadata": {},
   "outputs": [],
   "source": [
    "terms = pd.read_csv('movie_titles.txt', sep='\\t', encoding = \"ISO-8859-1\", header=None, index_col=0)\n",
    "terms = terms.iloc[:,:2]\n",
    "terms = terms.iloc[:,1:]"
   ]
  },
  {
   "cell_type": "markdown",
   "metadata": {},
   "source": [
    "Fucntion to query movie title data and return the title for the given movieID:"
   ]
  },
  {
   "cell_type": "code",
   "execution_count": 5,
   "metadata": {},
   "outputs": [],
   "source": [
    "def toTitle(MovieID):\n",
    "    return terms.loc[ MovieID , : ][2]"
   ]
  },
  {
   "cell_type": "markdown",
   "metadata": {},
   "source": [
    "Function to ask users to rate n number of movies to get ratings to use for recommendations:"
   ]
  },
  {
   "cell_type": "code",
   "execution_count": 6,
   "metadata": {},
   "outputs": [],
   "source": [
    "def initial_rating(n):\n",
    "    print(\"These are the top\",n, \"most watched movies on our system:\")\n",
    "    print(\"Please rate at least 5 movies on a scale of 1 to 5 (1,2,3,4,5), you haven't seen it just hit Enter.\")\n",
    "    print(\"We can then start providing you recommendations based on your initial input!\")\n",
    "    print(\"\")\n",
    "    ratings = []\n",
    "    for mov in range(0,n):\n",
    "        ID = popular_movies.index[mov]\n",
    "        title = toTitle(ID)\n",
    "        print(\"You are rating\", title)\n",
    "        try:\n",
    "            while True:\n",
    "                b = int(input(\"Rate from 1 to 5: \"))\n",
    "                if b < 1 or b > 5:\n",
    "                    print(\"Sorry, your response must be on a scale of 1 to 5.\")\n",
    "                    continue\n",
    "                else:\n",
    "                    break\n",
    "            print(\"You rated\", title, \"as a\", b)\n",
    "            ratings.append([ID,b])\n",
    "        except:\n",
    "            print(\"You skipped\", title)\n",
    "            print(\"\")\n",
    "            continue\n",
    "        print(\"\")\n",
    "        \n",
    "        \n",
    "    return ratings"
   ]
  },
  {
   "cell_type": "code",
   "execution_count": 7,
   "metadata": {},
   "outputs": [
    {
     "name": "stdout",
     "output_type": "stream",
     "text": [
      "These are the top 20 most watched movies on our system:\n",
      "Please rate at least 5 movies on a scale of 1 to 5 (1,2,3,4,5), you haven't seen it just hit Enter.\n",
      "We can then start providing you recommendations based on your initial input!\n",
      "\n",
      "You are rating Forrest Gump\n",
      "Rate from 1 to 5: 5\n",
      "You rated Forrest Gump as a 5\n",
      "\n",
      "You are rating The Sixth Sense\n",
      "Rate from 1 to 5: 1\n",
      "You rated The Sixth Sense as a 1\n",
      "\n",
      "You are rating Pirates of the Caribbean: The Curse of the Black Pearl\n",
      "Rate from 1 to 5: 3\n",
      "You rated Pirates of the Caribbean: The Curse of the Black Pearl as a 3\n",
      "\n",
      "You are rating The Matrix\n",
      "Rate from 1 to 5: 5\n",
      "You rated The Matrix as a 5\n",
      "\n",
      "You are rating Spider-Man\n",
      "Rate from 1 to 5: 6\n",
      "Sorry, your response must be on a scale of 1 to 5.\n",
      "Rate from 1 to 5: 4\n",
      "You rated Spider-Man as a 4\n",
      "\n",
      "You are rating Men in Black\n",
      "Rate from 1 to 5: 3\n",
      "You rated Men in Black as a 3\n",
      "\n",
      "You are rating The Silence of the Lambs\n",
      "Rate from 1 to 5: 4\n",
      "You rated The Silence of the Lambs as a 4\n",
      "\n",
      "You are rating Independence Day\n",
      "Rate from 1 to 5: 2\n",
      "You rated Independence Day as a 2\n",
      "\n",
      "You are rating Jurassic Park\n",
      "Rate from 1 to 5: 4\n",
      "You rated Jurassic Park as a 4\n",
      "\n",
      "You are rating Gladiator\n",
      "Rate from 1 to 5: 3\n",
      "You rated Gladiator as a 3\n",
      "\n",
      "You are rating Ferris Bueller's Day Off\n",
      "Rate from 1 to 5: 4\n",
      "You rated Ferris Bueller's Day Off as a 4\n",
      "\n",
      "You are rating Ocean's Eleven\n",
      "Rate from 1 to 5: 2\n",
      "You rated Ocean's Eleven as a 2\n",
      "\n",
      "You are rating Raiders of the Lost Ark\n",
      "Rate from 1 to 5: 3\n",
      "You rated Raiders of the Lost Ark as a 3\n",
      "\n",
      "You are rating Lord of the Rings: The Fellowship of the Ring\n",
      "Rate from 1 to 5: \n",
      "You skipped Lord of the Rings: The Fellowship of the Ring\n",
      "\n",
      "You are rating Minority Report\n",
      "Rate from 1 to 5: \n",
      "You skipped Minority Report\n",
      "\n",
      "You are rating Speed\n",
      "Rate from 1 to 5: \n",
      "You skipped Speed\n",
      "\n",
      "You are rating Meet the Parents\n",
      "Rate from 1 to 5: \n",
      "You skipped Meet the Parents\n",
      "\n",
      "You are rating The Fugitive\n",
      "Rate from 1 to 5: \n",
      "You skipped The Fugitive\n",
      "\n",
      "You are rating Braveheart\n",
      "Rate from 1 to 5: \n",
      "You skipped Braveheart\n",
      "\n",
      "You are rating Pulp Fiction\n",
      "Rate from 1 to 5: \n",
      "You skipped Pulp Fiction\n",
      "\n"
     ]
    }
   ],
   "source": [
    "user_ratings = initial_rating(20)"
   ]
  },
  {
   "cell_type": "markdown",
   "metadata": {},
   "source": [
    "Returned array of ratings in the format of: [MovieID, Rating]"
   ]
  },
  {
   "cell_type": "code",
   "execution_count": 8,
   "metadata": {},
   "outputs": [
    {
     "data": {
      "text/plain": [
       "[[11283, 5],\n",
       " [4306, 1],\n",
       " [1905, 3],\n",
       " [14691, 5],\n",
       " [14410, 4],\n",
       " [12918, 3],\n",
       " [2862, 4],\n",
       " [15124, 2],\n",
       " [14312, 4],\n",
       " [13728, 3],\n",
       " [6971, 4],\n",
       " [15107, 2],\n",
       " [10042, 3]]"
      ]
     },
     "execution_count": 8,
     "metadata": {},
     "output_type": "execute_result"
    }
   ],
   "source": [
    "user_ratings"
   ]
  },
  {
   "cell_type": "code",
   "execution_count": null,
   "metadata": {},
   "outputs": [],
   "source": []
  }
 ],
 "metadata": {
  "kernelspec": {
   "display_name": "Python 3",
   "language": "python",
   "name": "python3"
  },
  "language_info": {
   "codemirror_mode": {
    "name": "ipython",
    "version": 3
   },
   "file_extension": ".py",
   "mimetype": "text/x-python",
   "name": "python",
   "nbconvert_exporter": "python",
   "pygments_lexer": "ipython3",
   "version": "3.8.5"
  }
 },
 "nbformat": 4,
 "nbformat_minor": 4
}
