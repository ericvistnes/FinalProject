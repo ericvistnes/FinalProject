{
 "cells": [
  {
   "cell_type": "markdown",
   "id": "sixth-venture",
   "metadata": {},
   "source": [
    "# SVD Predictor Class Notebook"
   ]
  },
  {
   "cell_type": "markdown",
   "id": "dependent-publication",
   "metadata": {},
   "source": [
    "A notebook to create the SVDPredictor class and test it's implementation in a controlled environment."
   ]
  },
  {
   "cell_type": "code",
   "execution_count": 20,
   "id": "gross-gathering",
   "metadata": {},
   "outputs": [],
   "source": [
    "import pickle\n",
    "from tqdm import tqdm\n",
    "import numpy as np\n",
    "import pandas as pd\n",
    "import os\n",
    "import pathlib\n",
    "from surprise import Reader, Dataset\n",
    "from surprise import SVD\n",
    "from surprise import SVDpp\n",
    "from surprise.model_selection import GridSearchCV\n",
    "from sklearn.model_selection import train_test_split\n",
    "from sklearn.metrics import mean_squared_error\n",
    "\n",
    "class SVDPredictor:\n",
    "    error_table = pd.DataFrame(columns = [\"Model\", \"Train_RMSE\", \"Test_RMSE\"])\n",
    "    \n",
    "    #Class takes in final.csv as a whole as a DataFrame\n",
    "    def __init__(self, data):\n",
    "        self.movie = data\n",
    "        self.createAlgorithmFromData()\n",
    "        \n",
    "    def createAlgorithmFromData(self):\n",
    "        #check if algo and trainset/train_data files are already created\n",
    "        file = pathlib.Path('svd.pickle')\n",
    "        if not file.exists():\n",
    "            self._reduceDataSize()\n",
    "            self._splitMovie()\n",
    "            self._createTrainSet()\n",
    "        self._run_surprise()\n",
    "        \n",
    "    def predict(self, userID, movieID):\n",
    "        #use algo to predict rating. Return predicted rating\n",
    "        return self.algo.predict(userID, movieID)\n",
    "    \n",
    "    def _splitMovie(self):\n",
    "        self.movie = self.movie.iloc[:1500000]\n",
    "        \n",
    "    def _createTrainSet(self):\n",
    "        reader = Reader(rating_scale=(1,5))\n",
    "        movieInput = pd.DataFrame()\n",
    "        movieInput['CustomerID'] = self.movie['CustomerID']\n",
    "        movieInput['MovieID'] = self.movie['MovieID']\n",
    "        movieInput['Rating'] = self.movie['Rating']\n",
    "\n",
    "        self.train_data = Dataset.load_from_df(movieInput, reader)\n",
    "        self.trainset = self.train_data.build_full_trainset()\n",
    "        #write to a file\n",
    "    \n",
    "    def _reduceDataSize(self):\n",
    "        self.movie['Date'] = self.movie['Date'].astype('category')\n",
    "        self.movie['MovieID'] = self.movie['MovieID'].astype('int16')\n",
    "        self.movie['CustomerID'] = self.movie['CustomerID'].astype('int32')\n",
    "        self.movie['Rating'] = self.movie['Rating'].astype('int8')\n",
    "    \n",
    "    def _run_surprise(self): \n",
    "        file = pathlib.Path('svd.pickle')\n",
    "        if file.exists():\n",
    "            with open('svd.pickle', 'rb') as f:\n",
    "                self.algo = pickle.load(f)\n",
    "        else:\n",
    "            self.algo = SVD(n_factors = 5, biased=True, verbose=True)\n",
    "            self.algo.fit(self.trainset)\n",
    "            with open('svd.pickle', 'wb') as f:\n",
    "                pickle.dump(self.algo, f)\n",
    "\n",
    "    def _make_table(model_name, rmse_train, rmse_test):\n",
    "        global error_table\n",
    "        error_table = error_table.append(pd.DataFrame([[model_name, rmse_train, rmse_test]], columns = [\"Model\", \"Train_RMSE\", \"Test_RMSE\"]))\n",
    "        error_table.reset_index(drop = True, inplace = True)"
   ]
  },
  {
   "cell_type": "code",
   "execution_count": 22,
   "id": "interesting-roads",
   "metadata": {},
   "outputs": [
    {
     "name": "stdout",
     "output_type": "stream",
     "text": [
      "user: 1          item: 5          r_ui = None   est = 3.92   {'was_impossible': False}\n"
     ]
    }
   ],
   "source": [
    "cwd = os.getcwd()\n",
    "movie = pd.read_csv(cwd + \"/data/final.csv\")\n",
    "svd = SVDPredictor(movie)\n",
    "print(svd.predict(1, 5))"
   ]
  },
  {
   "cell_type": "code",
   "execution_count": 25,
   "id": "ultimate-reverse",
   "metadata": {},
   "outputs": [
    {
     "name": "stdout",
     "output_type": "stream",
     "text": [
      "user: 1          item: 6          r_ui = None   est = 3.17   {'was_impossible': False}\n"
     ]
    }
   ],
   "source": [
    "svd = SVDPredictor(movie)\n",
    "print(svd.predict(1, 6))"
   ]
  },
  {
   "cell_type": "code",
   "execution_count": null,
   "id": "municipal-command",
   "metadata": {},
   "outputs": [],
   "source": []
  }
 ],
 "metadata": {
  "kernelspec": {
   "display_name": "Python 3",
   "language": "python",
   "name": "python3"
  },
  "language_info": {
   "codemirror_mode": {
    "name": "ipython",
    "version": 3
   },
   "file_extension": ".py",
   "mimetype": "text/x-python",
   "name": "python",
   "nbconvert_exporter": "python",
   "pygments_lexer": "ipython3",
   "version": "3.8.2"
  }
 },
 "nbformat": 4,
 "nbformat_minor": 5
}
