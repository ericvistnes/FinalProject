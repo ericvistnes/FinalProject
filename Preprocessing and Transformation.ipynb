{
 "cells": [
  {
   "cell_type": "markdown",
   "id": "limited-bernard",
   "metadata": {},
   "source": [
    "# Data Preprocessing and Transformation"
   ]
  },
  {
   "cell_type": "markdown",
   "id": "broad-marketing",
   "metadata": {},
   "source": [
    "Below, we turn the dataset from a size that we can not manage or process into a managable form. This is done by removing the Date column, reducing the data types to a smaller form, and only using data on Movies and Customers that are frequently rated or rating."
   ]
  },
  {
   "cell_type": "code",
   "execution_count": 66,
   "id": "finite-calgary",
   "metadata": {},
   "outputs": [],
   "source": [
    "import numpy as np\n",
    "import pandas as pd\n",
    "import os\n",
    "from sklearn.neighbors import NearestNeighbors\n",
    "from math import sqrt\n",
    "from sklearn.metrics import mean_squared_error\n",
    "import math\n",
    "import matplotlib.pyplot as plt"
   ]
  },
  {
   "cell_type": "code",
   "execution_count": 67,
   "id": "continental-candy",
   "metadata": {},
   "outputs": [],
   "source": [
    "import os\n",
    "cwd = os.getcwd()"
   ]
  },
  {
   "cell_type": "code",
   "execution_count": 68,
   "id": "opponent-newfoundland",
   "metadata": {},
   "outputs": [
    {
     "data": {
      "text/html": [
       "<div>\n",
       "<style scoped>\n",
       "    .dataframe tbody tr th:only-of-type {\n",
       "        vertical-align: middle;\n",
       "    }\n",
       "\n",
       "    .dataframe tbody tr th {\n",
       "        vertical-align: top;\n",
       "    }\n",
       "\n",
       "    .dataframe thead th {\n",
       "        text-align: right;\n",
       "    }\n",
       "</style>\n",
       "<table border=\"1\" class=\"dataframe\">\n",
       "  <thead>\n",
       "    <tr style=\"text-align: right;\">\n",
       "      <th></th>\n",
       "      <th>title</th>\n",
       "    </tr>\n",
       "  </thead>\n",
       "  <tbody>\n",
       "    <tr>\n",
       "      <th>0</th>\n",
       "      <td>Dinosaur Planet</td>\n",
       "    </tr>\n",
       "    <tr>\n",
       "      <th>1</th>\n",
       "      <td>Isle of Man TT 2004 Review</td>\n",
       "    </tr>\n",
       "    <tr>\n",
       "      <th>2</th>\n",
       "      <td>Character</td>\n",
       "    </tr>\n",
       "    <tr>\n",
       "      <th>3</th>\n",
       "      <td>Paula Abdul's Get Up &amp; Dance</td>\n",
       "    </tr>\n",
       "    <tr>\n",
       "      <th>4</th>\n",
       "      <td>The Rise and Fall of ECW</td>\n",
       "    </tr>\n",
       "    <tr>\n",
       "      <th>...</th>\n",
       "      <td>...</td>\n",
       "    </tr>\n",
       "    <tr>\n",
       "      <th>17765</th>\n",
       "      <td>Where the Wild Things Are and Other Maurice Se...</td>\n",
       "    </tr>\n",
       "    <tr>\n",
       "      <th>17766</th>\n",
       "      <td>Fidel Castro: American Experience</td>\n",
       "    </tr>\n",
       "    <tr>\n",
       "      <th>17767</th>\n",
       "      <td>Epoch</td>\n",
       "    </tr>\n",
       "    <tr>\n",
       "      <th>17768</th>\n",
       "      <td>The Company</td>\n",
       "    </tr>\n",
       "    <tr>\n",
       "      <th>17769</th>\n",
       "      <td>Alien Hunter</td>\n",
       "    </tr>\n",
       "  </tbody>\n",
       "</table>\n",
       "<p>17770 rows × 1 columns</p>\n",
       "</div>"
      ],
      "text/plain": [
       "                                                   title\n",
       "0                                        Dinosaur Planet\n",
       "1                             Isle of Man TT 2004 Review\n",
       "2                                              Character\n",
       "3                           Paula Abdul's Get Up & Dance\n",
       "4                               The Rise and Fall of ECW\n",
       "...                                                  ...\n",
       "17765  Where the Wild Things Are and Other Maurice Se...\n",
       "17766                  Fidel Castro: American Experience\n",
       "17767                                              Epoch\n",
       "17768                                        The Company\n",
       "17769                                       Alien Hunter\n",
       "\n",
       "[17770 rows x 1 columns]"
      ]
     },
     "execution_count": 68,
     "metadata": {},
     "output_type": "execute_result"
    }
   ],
   "source": [
    "movie_title = pd.read_csv(cwd + \"/movie_titles.csv\", encoding='unicode_escape', usecols=[2], header=None)\n",
    "movie_title.columns = ['title']\n",
    "movie_title"
   ]
  },
  {
   "cell_type": "code",
   "execution_count": 69,
   "id": "declared-missile",
   "metadata": {},
   "outputs": [
    {
     "data": {
      "text/html": [
       "<div>\n",
       "<style scoped>\n",
       "    .dataframe tbody tr th:only-of-type {\n",
       "        vertical-align: middle;\n",
       "    }\n",
       "\n",
       "    .dataframe tbody tr th {\n",
       "        vertical-align: top;\n",
       "    }\n",
       "\n",
       "    .dataframe thead th {\n",
       "        text-align: right;\n",
       "    }\n",
       "</style>\n",
       "<table border=\"1\" class=\"dataframe\">\n",
       "  <thead>\n",
       "    <tr style=\"text-align: right;\">\n",
       "      <th></th>\n",
       "      <th>MovieID</th>\n",
       "      <th>CustomerID</th>\n",
       "      <th>Rating</th>\n",
       "    </tr>\n",
       "  </thead>\n",
       "  <tbody>\n",
       "    <tr>\n",
       "      <th>count</th>\n",
       "      <td>1.004805e+08</td>\n",
       "      <td>1.004805e+08</td>\n",
       "      <td>1.004805e+08</td>\n",
       "    </tr>\n",
       "    <tr>\n",
       "      <th>mean</th>\n",
       "      <td>9.070915e+03</td>\n",
       "      <td>1.322489e+06</td>\n",
       "      <td>3.604290e+00</td>\n",
       "    </tr>\n",
       "    <tr>\n",
       "      <th>std</th>\n",
       "      <td>5.131891e+03</td>\n",
       "      <td>7.645368e+05</td>\n",
       "      <td>1.085219e+00</td>\n",
       "    </tr>\n",
       "    <tr>\n",
       "      <th>min</th>\n",
       "      <td>1.000000e+00</td>\n",
       "      <td>6.000000e+00</td>\n",
       "      <td>1.000000e+00</td>\n",
       "    </tr>\n",
       "    <tr>\n",
       "      <th>25%</th>\n",
       "      <td>4.677000e+03</td>\n",
       "      <td>6.611980e+05</td>\n",
       "      <td>3.000000e+00</td>\n",
       "    </tr>\n",
       "    <tr>\n",
       "      <th>50%</th>\n",
       "      <td>9.051000e+03</td>\n",
       "      <td>1.319012e+06</td>\n",
       "      <td>4.000000e+00</td>\n",
       "    </tr>\n",
       "    <tr>\n",
       "      <th>75%</th>\n",
       "      <td>1.363500e+04</td>\n",
       "      <td>1.984455e+06</td>\n",
       "      <td>4.000000e+00</td>\n",
       "    </tr>\n",
       "    <tr>\n",
       "      <th>max</th>\n",
       "      <td>1.777000e+04</td>\n",
       "      <td>2.649429e+06</td>\n",
       "      <td>5.000000e+00</td>\n",
       "    </tr>\n",
       "  </tbody>\n",
       "</table>\n",
       "</div>"
      ],
      "text/plain": [
       "            MovieID    CustomerID        Rating\n",
       "count  1.004805e+08  1.004805e+08  1.004805e+08\n",
       "mean   9.070915e+03  1.322489e+06  3.604290e+00\n",
       "std    5.131891e+03  7.645368e+05  1.085219e+00\n",
       "min    1.000000e+00  6.000000e+00  1.000000e+00\n",
       "25%    4.677000e+03  6.611980e+05  3.000000e+00\n",
       "50%    9.051000e+03  1.319012e+06  4.000000e+00\n",
       "75%    1.363500e+04  1.984455e+06  4.000000e+00\n",
       "max    1.777000e+04  2.649429e+06  5.000000e+00"
      ]
     },
     "execution_count": 69,
     "metadata": {},
     "output_type": "execute_result"
    }
   ],
   "source": [
    "movie = pd.read_csv(cwd + \"/final.csv\")\n",
    "movie.describe()"
   ]
  },
  {
   "cell_type": "markdown",
   "id": "closed-collaboration",
   "metadata": {},
   "source": [
    "Here we remove all movies that have been rated fewer than 100 times. Our final dataset needs to be far smaller, so this is an efficient way to only use datapoints that contribute more to the variance of the model."
   ]
  },
  {
   "cell_type": "code",
   "execution_count": 57,
   "id": "domestic-france",
   "metadata": {},
   "outputs": [
    {
     "name": "stdout",
     "output_type": "stream",
     "text": [
      "shape of original data: (100480507, 4)\n",
      "shape of data_popular_movies (100400918, 4)\n",
      "No. of movies which are rated more than 100 times: 16795\n"
     ]
    }
   ],
   "source": [
    "movie_freq = pd.DataFrame(movie.groupby('MovieID').size(),columns=['count'])\n",
    "threshold = 100\n",
    "\n",
    "popular_movies = list(set(movie_freq.query('count>=@threshold').index))\n",
    "\n",
    "# ratings df after dropping non popular movies\n",
    "data_popular_movies = movie[movie.MovieID.isin(popular_movies)]\n",
    "\n",
    "print('shape of original data:', movie.shape)\n",
    "print('shape of data_popular_movies', data_popular_movies.shape)\n",
    "print(\"No. of movies which are rated more than 100 times:\", len(popular_movies))"
   ]
  },
  {
   "cell_type": "markdown",
   "id": "confident-profit",
   "metadata": {},
   "source": [
    "Here we remove all customers that have rated fewer than 1000 times. Our final dataset needs to be far smaller, so this is an efficient way to only use datapoints that contribute more to the variance of the model."
   ]
  },
  {
   "cell_type": "code",
   "execution_count": 58,
   "id": "simplified-citizen",
   "metadata": {},
   "outputs": [
    {
     "name": "stdout",
     "output_type": "stream",
     "text": [
      "shape of original data: (100480507, 4)\n",
      "shape of data_popular_movies (100400918, 4)\n",
      "shape of data_popular_movies_active_user (22605955, 4)\n",
      "No. of users who rated more than 1000 times: 17204\n",
      "user number of new matrix 17204\n",
      "movie number of new matrix 16795\n"
     ]
    }
   ],
   "source": [
    "user_freq = pd.DataFrame(movie.groupby('CustomerID').size(),columns=['count'])\n",
    "# A large number of users are rated very rarely, so we can remove those users which are rated less than 1000 times.\n",
    "threshold = 900\n",
    "active_user = list(set(user_freq.query('count>=@threshold').index))\n",
    "data_popular_movies_active_user = data_popular_movies[data_popular_movies.CustomerID.isin(active_user)]\n",
    "\n",
    "print('shape of original data:', movie.shape)\n",
    "print('shape of data_popular_movies', data_popular_movies.shape)\n",
    "print('shape of data_popular_movies_active_user', data_popular_movies_active_user.shape)\n",
    "print('No. of users who rated more than 1000 times:', len(active_user))\n",
    "\n",
    "print('user number of new matrix', len(active_user))\n",
    "print('movie number of new matrix', len(popular_movies))"
   ]
  },
  {
   "cell_type": "markdown",
   "id": "plastic-finger",
   "metadata": {},
   "source": [
    "## Reducing Size by Data Type"
   ]
  },
  {
   "cell_type": "markdown",
   "id": "facial-hacker",
   "metadata": {},
   "source": [
    "The data is stored in a format of int64 and object type for the date. We don't need the date, so we can drop that column. The other columns we are reducing the data type from int64 to int32 for the CustomerIDs, int64 to int16 for the MovieIDs, and to int8 for the ratings. \n",
    "\n",
    "The size of the dataset in MB is printed below, both before and after the changes."
   ]
  },
  {
   "cell_type": "code",
   "execution_count": 59,
   "id": "patent-gothic",
   "metadata": {},
   "outputs": [
    {
     "name": "stdout",
     "output_type": "stream",
     "text": [
      "Index         180847640\n",
      "MovieID       180847640\n",
      "CustomerID    180847640\n",
      "Rating        180847640\n",
      "Date          180847640\n",
      "dtype: int64 \n",
      "\n",
      "Memory Usage:  862.348747253418  MB\n"
     ]
    }
   ],
   "source": [
    "print(data_popular_movies_active_user.memory_usage(), '\\n')\n",
    "print(\"Memory Usage: \", data_popular_movies_active_user.memory_usage().sum() / (1024**2), \" MB\")"
   ]
  },
  {
   "cell_type": "code",
   "execution_count": 60,
   "id": "inclusive-recall",
   "metadata": {},
   "outputs": [
    {
     "data": {
      "text/plain": [
       "MovieID        int64\n",
       "CustomerID     int64\n",
       "Rating         int64\n",
       "Date          object\n",
       "dtype: object"
      ]
     },
     "execution_count": 60,
     "metadata": {},
     "output_type": "execute_result"
    }
   ],
   "source": [
    "data_popular_movies_active_user.dtypes"
   ]
  },
  {
   "cell_type": "code",
   "execution_count": 61,
   "id": "educated-western",
   "metadata": {},
   "outputs": [],
   "source": [
    "# make a plot of data going down as types are changed and date is removed\n",
    "memory_usage = []\n",
    "remainingCols = ['All', 'Mov-Cust-Rate', 'Mov2-Cust-Rate', 'Mov2-Cust2-Rate', 'Mov2-Cust2-Rate2', 'Final']\n",
    "\n",
    "memory_usage.append(data_popular_movies_active_user.memory_usage().sum() / (1024**2))\n",
    "\n",
    "reduced_data = data_popular_movies_active_user.drop(columns=['Date'])\n",
    "memory_usage.append(reduced_data.memory_usage().sum() / (1024**2))\n",
    "\n",
    "reduced_data['MovieID'] = reduced_data['MovieID'].astype('int16')\n",
    "memory_usage.append(reduced_data.memory_usage().sum() / (1024**2))\n",
    "\n",
    "reduced_data['CustomerID'] = reduced_data['CustomerID'].astype('int32')\n",
    "memory_usage.append(reduced_data.memory_usage().sum() / (1024**2))\n",
    "\n",
    "reduced_data['Rating'] = reduced_data['Rating'].astype('int8')\n",
    "memory_usage.append(reduced_data.memory_usage().sum() / (1024**2))\n",
    "\n",
    "cleanedMovie = reduced_data.iloc[:20000000]\n",
    "memory_usage.append(cleanedMovie.memory_usage().sum() / (1024**2))"
   ]
  },
  {
   "cell_type": "code",
   "execution_count": 62,
   "id": "terminal-greensboro",
   "metadata": {},
   "outputs": [
    {
     "data": {
      "image/png": "[encoded data removed]",
      "text/plain": [
       "<Figure size 720x360 with 1 Axes>"
      ]
     },
     "metadata": {
      "needs_background": "light"
     },
     "output_type": "display_data"
    }
   ],
   "source": [
    "plt.figure(figsize=(10, 5))\n",
    "plt.bar(remainingCols, memory_usage)\n",
    "plt.title('Columns Vs Memory Usage')\n",
    "plt.xlabel('Column')\n",
    "plt.ylabel('Megabytes')\n",
    "plt.show()"
   ]
  },
  {
   "cell_type": "markdown",
   "id": "mexican-dispute",
   "metadata": {},
   "source": [
    "The chart above shows the reduction in the memory_usage of the data as the changes are made. The data starts at 862.34 MB and ends at 286.1 MB- Practically a third of the original data size!"
   ]
  },
  {
   "cell_type": "code",
   "execution_count": 63,
   "id": "understood-authority",
   "metadata": {},
   "outputs": [
    {
     "name": "stdout",
     "output_type": "stream",
     "text": [
      "Memory Usage:  286.102294921875  MB\n"
     ]
    }
   ],
   "source": [
    "print(\"Memory Usage: \", cleanedMovie.memory_usage().sum() / (1024**2), \" MB\")"
   ]
  },
  {
   "cell_type": "code",
   "execution_count": 10,
   "id": "convenient-poland",
   "metadata": {},
   "outputs": [],
   "source": [
    "cleanedMovie.to_pickle(\"cleanedMovie.pkl\")"
   ]
  },
  {
   "cell_type": "code",
   "execution_count": 46,
   "id": "final-library",
   "metadata": {},
   "outputs": [
    {
     "data": {
      "text/plain": [
       "(18757426, 3)"
      ]
     },
     "execution_count": 46,
     "metadata": {},
     "output_type": "execute_result"
    }
   ],
   "source": [
    "cleanedMovie.shape"
   ]
  },
  {
   "cell_type": "code",
   "execution_count": null,
   "id": "answering-technician",
   "metadata": {},
   "outputs": [],
   "source": []
  },
  {
   "cell_type": "code",
   "execution_count": null,
   "id": "central-artwork",
   "metadata": {},
   "outputs": [],
   "source": []
  },
  {
   "cell_type": "code",
   "execution_count": null,
   "id": "related-pointer",
   "metadata": {},
   "outputs": [],
   "source": []
  }
 ],
 "metadata": {
  "kernelspec": {
   "display_name": "Python 3",
   "language": "python",
   "name": "python3"
  },
  "language_info": {
   "codemirror_mode": {
    "name": "ipython",
    "version": 3
   },
   "file_extension": ".py",
   "mimetype": "text/x-python",
   "name": "python",
   "nbconvert_exporter": "python",
   "pygments_lexer": "ipython3",
   "version": "3.8.2"
  }
 },
 "nbformat": 4,
 "nbformat_minor": 5
}
