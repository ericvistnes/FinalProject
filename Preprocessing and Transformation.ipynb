{
 "cells": [
  {
   "cell_type": "markdown",
   "id": "limited-bernard",
   "metadata": {},
   "source": [
    "# Data Preprocessing and Transformation"
   ]
  },
  {
   "cell_type": "markdown",
   "id": "broad-marketing",
   "metadata": {},
   "source": [
    "Below, we turn the dataset from a size that we can not manage or process into a managable form. This is done by removing the Date column, reducing the data types to a smaller form, and only using data on Movies and Customers that are frequently rated or rating."
   ]
  },
  {
   "cell_type": "code",
   "execution_count": 1,
   "id": "finite-calgary",
   "metadata": {},
   "outputs": [],
   "source": [
    "import numpy as np\n",
    "import pandas as pd\n",
    "import os\n",
    "from sklearn.neighbors import NearestNeighbors\n",
    "from math import sqrt\n",
    "from sklearn.metrics import mean_squared_error\n",
    "import math"
   ]
  },
  {
   "cell_type": "code",
   "execution_count": 2,
   "id": "continental-candy",
   "metadata": {},
   "outputs": [],
   "source": [
    "import os\n",
    "cwd = os.getcwd()"
   ]
  },
  {
   "cell_type": "code",
   "execution_count": 3,
   "id": "opponent-newfoundland",
   "metadata": {},
   "outputs": [
    {
     "data": {
      "text/html": [
       "<div>\n",
       "<style scoped>\n",
       "    .dataframe tbody tr th:only-of-type {\n",
       "        vertical-align: middle;\n",
       "    }\n",
       "\n",
       "    .dataframe tbody tr th {\n",
       "        vertical-align: top;\n",
       "    }\n",
       "\n",
       "    .dataframe thead th {\n",
       "        text-align: right;\n",
       "    }\n",
       "</style>\n",
       "<table border=\"1\" class=\"dataframe\">\n",
       "  <thead>\n",
       "    <tr style=\"text-align: right;\">\n",
       "      <th></th>\n",
       "      <th>title</th>\n",
       "    </tr>\n",
       "  </thead>\n",
       "  <tbody>\n",
       "    <tr>\n",
       "      <th>0</th>\n",
       "      <td>Dinosaur Planet</td>\n",
       "    </tr>\n",
       "    <tr>\n",
       "      <th>1</th>\n",
       "      <td>Isle of Man TT 2004 Review</td>\n",
       "    </tr>\n",
       "    <tr>\n",
       "      <th>2</th>\n",
       "      <td>Character</td>\n",
       "    </tr>\n",
       "    <tr>\n",
       "      <th>3</th>\n",
       "      <td>Paula Abdul's Get Up &amp; Dance</td>\n",
       "    </tr>\n",
       "    <tr>\n",
       "      <th>4</th>\n",
       "      <td>The Rise and Fall of ECW</td>\n",
       "    </tr>\n",
       "    <tr>\n",
       "      <th>...</th>\n",
       "      <td>...</td>\n",
       "    </tr>\n",
       "    <tr>\n",
       "      <th>17765</th>\n",
       "      <td>Where the Wild Things Are and Other Maurice Se...</td>\n",
       "    </tr>\n",
       "    <tr>\n",
       "      <th>17766</th>\n",
       "      <td>Fidel Castro: American Experience</td>\n",
       "    </tr>\n",
       "    <tr>\n",
       "      <th>17767</th>\n",
       "      <td>Epoch</td>\n",
       "    </tr>\n",
       "    <tr>\n",
       "      <th>17768</th>\n",
       "      <td>The Company</td>\n",
       "    </tr>\n",
       "    <tr>\n",
       "      <th>17769</th>\n",
       "      <td>Alien Hunter</td>\n",
       "    </tr>\n",
       "  </tbody>\n",
       "</table>\n",
       "<p>17770 rows × 1 columns</p>\n",
       "</div>"
      ],
      "text/plain": [
       "                                                   title\n",
       "0                                        Dinosaur Planet\n",
       "1                             Isle of Man TT 2004 Review\n",
       "2                                              Character\n",
       "3                           Paula Abdul's Get Up & Dance\n",
       "4                               The Rise and Fall of ECW\n",
       "...                                                  ...\n",
       "17765  Where the Wild Things Are and Other Maurice Se...\n",
       "17766                  Fidel Castro: American Experience\n",
       "17767                                              Epoch\n",
       "17768                                        The Company\n",
       "17769                                       Alien Hunter\n",
       "\n",
       "[17770 rows x 1 columns]"
      ]
     },
     "execution_count": 3,
     "metadata": {},
     "output_type": "execute_result"
    }
   ],
   "source": [
    "movie_title = pd.read_csv(cwd + \"/data/movie_titles.csv\", encoding='unicode_escape', usecols=[2], header=None)\n",
    "movie_title.columns = ['title']\n",
    "movie_title"
   ]
  },
  {
   "cell_type": "code",
   "execution_count": 4,
   "id": "declared-missile",
   "metadata": {},
   "outputs": [
    {
     "data": {
      "text/html": [
       "<div>\n",
       "<style scoped>\n",
       "    .dataframe tbody tr th:only-of-type {\n",
       "        vertical-align: middle;\n",
       "    }\n",
       "\n",
       "    .dataframe tbody tr th {\n",
       "        vertical-align: top;\n",
       "    }\n",
       "\n",
       "    .dataframe thead th {\n",
       "        text-align: right;\n",
       "    }\n",
       "</style>\n",
       "<table border=\"1\" class=\"dataframe\">\n",
       "  <thead>\n",
       "    <tr style=\"text-align: right;\">\n",
       "      <th></th>\n",
       "      <th>MovieID</th>\n",
       "      <th>CustomerID</th>\n",
       "      <th>Rating</th>\n",
       "    </tr>\n",
       "  </thead>\n",
       "  <tbody>\n",
       "    <tr>\n",
       "      <th>count</th>\n",
       "      <td>1.004805e+08</td>\n",
       "      <td>1.004805e+08</td>\n",
       "      <td>1.004805e+08</td>\n",
       "    </tr>\n",
       "    <tr>\n",
       "      <th>mean</th>\n",
       "      <td>9.070915e+03</td>\n",
       "      <td>1.322489e+06</td>\n",
       "      <td>3.604290e+00</td>\n",
       "    </tr>\n",
       "    <tr>\n",
       "      <th>std</th>\n",
       "      <td>5.131891e+03</td>\n",
       "      <td>7.645368e+05</td>\n",
       "      <td>1.085219e+00</td>\n",
       "    </tr>\n",
       "    <tr>\n",
       "      <th>min</th>\n",
       "      <td>1.000000e+00</td>\n",
       "      <td>6.000000e+00</td>\n",
       "      <td>1.000000e+00</td>\n",
       "    </tr>\n",
       "    <tr>\n",
       "      <th>25%</th>\n",
       "      <td>4.677000e+03</td>\n",
       "      <td>6.611980e+05</td>\n",
       "      <td>3.000000e+00</td>\n",
       "    </tr>\n",
       "    <tr>\n",
       "      <th>50%</th>\n",
       "      <td>9.051000e+03</td>\n",
       "      <td>1.319012e+06</td>\n",
       "      <td>4.000000e+00</td>\n",
       "    </tr>\n",
       "    <tr>\n",
       "      <th>75%</th>\n",
       "      <td>1.363500e+04</td>\n",
       "      <td>1.984455e+06</td>\n",
       "      <td>4.000000e+00</td>\n",
       "    </tr>\n",
       "    <tr>\n",
       "      <th>max</th>\n",
       "      <td>1.777000e+04</td>\n",
       "      <td>2.649429e+06</td>\n",
       "      <td>5.000000e+00</td>\n",
       "    </tr>\n",
       "  </tbody>\n",
       "</table>\n",
       "</div>"
      ],
      "text/plain": [
       "            MovieID    CustomerID        Rating\n",
       "count  1.004805e+08  1.004805e+08  1.004805e+08\n",
       "mean   9.070915e+03  1.322489e+06  3.604290e+00\n",
       "std    5.131891e+03  7.645368e+05  1.085219e+00\n",
       "min    1.000000e+00  6.000000e+00  1.000000e+00\n",
       "25%    4.677000e+03  6.611980e+05  3.000000e+00\n",
       "50%    9.051000e+03  1.319012e+06  4.000000e+00\n",
       "75%    1.363500e+04  1.984455e+06  4.000000e+00\n",
       "max    1.777000e+04  2.649429e+06  5.000000e+00"
      ]
     },
     "execution_count": 4,
     "metadata": {},
     "output_type": "execute_result"
    }
   ],
   "source": [
    "movie = pd.read_csv(cwd + \"/data/final.csv\")\n",
    "movie.describe()"
   ]
  },
  {
   "cell_type": "code",
   "execution_count": 5,
   "id": "domestic-france",
   "metadata": {},
   "outputs": [
    {
     "name": "stdout",
     "output_type": "stream",
     "text": [
      "shape of original data: (100480507, 4)\n",
      "shape of data_popular_movies (100400918, 4)\n",
      "No. of movies which are rated more than 100 times: 16795\n"
     ]
    }
   ],
   "source": [
    "movie_freq = pd.DataFrame(movie.groupby('MovieID').size(),columns=['count'])\n",
    "threshold = 100\n",
    "\n",
    "popular_movies = list(set(movie_freq.query('count>=@threshold').index))\n",
    "\n",
    "# ratings df after dropping non popular movies\n",
    "data_popular_movies = movie[movie.MovieID.isin(popular_movies)]\n",
    "\n",
    "print('shape of original data:', movie.shape)\n",
    "print('shape of data_popular_movies', data_popular_movies.shape)\n",
    "print(\"No. of movies which are rated more than 100 times:\", len(popular_movies))"
   ]
  },
  {
   "cell_type": "code",
   "execution_count": 6,
   "id": "simplified-citizen",
   "metadata": {},
   "outputs": [
    {
     "name": "stdout",
     "output_type": "stream",
     "text": [
      "shape of original data: (100480507, 4)\n",
      "shape of data_popular_movies (100400918, 4)\n",
      "shape of data_popular_movies_active_user (18757426, 4)\n",
      "No. of users who rated more than 1000 times: 13141\n",
      "user number of new matrix 13141\n",
      "movie number of new matrix 16795\n"
     ]
    }
   ],
   "source": [
    "user_freq = pd.DataFrame(movie.groupby('CustomerID').size(),columns=['count'])\n",
    "# A large number of users are rated very rarely, so we can remove those users which are rated less than 1000 times.\n",
    "threshold = 1000\n",
    "active_user = list(set(user_freq.query('count>=@threshold').index))\n",
    "data_popular_movies_active_user = data_popular_movies[data_popular_movies.CustomerID.isin(active_user)]\n",
    "\n",
    "print('shape of original data:', movie.shape)\n",
    "print('shape of data_popular_movies', data_popular_movies.shape)\n",
    "print('shape of data_popular_movies_active_user', data_popular_movies_active_user.shape)\n",
    "print('No. of users who rated more than 1000 times:', len(active_user))\n",
    "\n",
    "print('user number of new matrix', len(active_user))\n",
    "print('movie number of new matrix', len(popular_movies))"
   ]
  },
  {
   "cell_type": "code",
   "execution_count": null,
   "id": "southwest-converter",
   "metadata": {},
   "outputs": [],
   "source": []
  },
  {
   "cell_type": "code",
   "execution_count": 7,
   "id": "patent-gothic",
   "metadata": {},
   "outputs": [
    {
     "name": "stdout",
     "output_type": "stream",
     "text": [
      "Index         150059408\n",
      "MovieID       150059408\n",
      "CustomerID    150059408\n",
      "Rating        150059408\n",
      "Date          150059408\n",
      "dtype: int64 \n",
      "\n",
      "Memory Usage:  715.5390167236328  MB\n"
     ]
    }
   ],
   "source": [
    "print(data_popular_movies_active_user.memory_usage(), '\\n')\n",
    "print(\"Memory Usage: \", data_popular_movies_active_user.memory_usage().sum() / (1024**2), \" MB\")"
   ]
  },
  {
   "cell_type": "code",
   "execution_count": 8,
   "id": "educated-western",
   "metadata": {},
   "outputs": [
    {
     "name": "stderr",
     "output_type": "stream",
     "text": [
      "<ipython-input-8-656af2889f05>:1: SettingWithCopyWarning: \n",
      "A value is trying to be set on a copy of a slice from a DataFrame.\n",
      "Try using .loc[row_indexer,col_indexer] = value instead\n",
      "\n",
      "See the caveats in the documentation: https://pandas.pydata.org/pandas-docs/stable/user_guide/indexing.html#returning-a-view-versus-a-copy\n",
      "  data_popular_movies_active_user['MovieID'] = data_popular_movies_active_user['MovieID'].astype('int16')\n",
      "<ipython-input-8-656af2889f05>:2: SettingWithCopyWarning: \n",
      "A value is trying to be set on a copy of a slice from a DataFrame.\n",
      "Try using .loc[row_indexer,col_indexer] = value instead\n",
      "\n",
      "See the caveats in the documentation: https://pandas.pydata.org/pandas-docs/stable/user_guide/indexing.html#returning-a-view-versus-a-copy\n",
      "  data_popular_movies_active_user['CustomerID'] = data_popular_movies_active_user['CustomerID'].astype('int32')\n",
      "<ipython-input-8-656af2889f05>:3: SettingWithCopyWarning: \n",
      "A value is trying to be set on a copy of a slice from a DataFrame.\n",
      "Try using .loc[row_indexer,col_indexer] = value instead\n",
      "\n",
      "See the caveats in the documentation: https://pandas.pydata.org/pandas-docs/stable/user_guide/indexing.html#returning-a-view-versus-a-copy\n",
      "  data_popular_movies_active_user['Rating'] = data_popular_movies_active_user['Rating'].astype('int8')\n"
     ]
    }
   ],
   "source": [
    "data_popular_movies_active_user['MovieID'] = data_popular_movies_active_user['MovieID'].astype('int16')\n",
    "data_popular_movies_active_user['CustomerID'] = data_popular_movies_active_user['CustomerID'].astype('int32')\n",
    "data_popular_movies_active_user['Rating'] = data_popular_movies_active_user['Rating'].astype('int8')\n",
    "\n",
    "cleanedMovie = data_popular_movies_active_user.drop(columns=['Date']).iloc[:20000000]"
   ]
  },
  {
   "cell_type": "code",
   "execution_count": 9,
   "id": "understood-authority",
   "metadata": {},
   "outputs": [
    {
     "name": "stdout",
     "output_type": "stream",
     "text": [
      "Memory Usage:  268.3271312713623  MB\n"
     ]
    }
   ],
   "source": [
    "print(\"Memory Usage: \", cleanedMovie.memory_usage().sum() / (1024**2), \" MB\")"
   ]
  },
  {
   "cell_type": "code",
   "execution_count": 10,
   "id": "convenient-poland",
   "metadata": {},
   "outputs": [],
   "source": [
    "cleanedMovie.to_pickle(\"cleanedMovie.pkl\")"
   ]
  },
  {
   "cell_type": "code",
   "execution_count": null,
   "id": "democratic-python",
   "metadata": {},
   "outputs": [],
   "source": []
  }
 ],
 "metadata": {
  "kernelspec": {
   "display_name": "Python 3",
   "language": "python",
   "name": "python3"
  },
  "language_info": {
   "codemirror_mode": {
    "name": "ipython",
    "version": 3
   },
   "file_extension": ".py",
   "mimetype": "text/x-python",
   "name": "python",
   "nbconvert_exporter": "python",
   "pygments_lexer": "ipython3",
   "version": "3.8.2"
  }
 },
 "nbformat": 4,
 "nbformat_minor": 5
}
