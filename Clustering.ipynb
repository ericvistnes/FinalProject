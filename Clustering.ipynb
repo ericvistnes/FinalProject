{
 "cells": [
  {
   "cell_type": "code",
   "execution_count": 1,
   "metadata": {},
   "outputs": [],
   "source": [
    "import numpy as np\n",
    "import pandas as pd\n",
    "import os"
   ]
  },
  {
   "cell_type": "markdown",
   "metadata": {},
   "source": [
    "Importing reduced dataset:"
   ]
  },
  {
   "cell_type": "code",
   "execution_count": 2,
   "metadata": {},
   "outputs": [],
   "source": [
    "object = pd.read_pickle('cleanedMovie.pkl')"
   ]
  },
  {
   "cell_type": "code",
   "execution_count": 3,
   "metadata": {},
   "outputs": [],
   "source": [
    "movies = pd.DataFrame(object)"
   ]
  },
  {
   "cell_type": "markdown",
   "metadata": {},
   "source": [
    "Pivoting data to create a Customer by Movie Matrix of ratings to use for doc term clustering:"
   ]
  },
  {
   "cell_type": "code",
   "execution_count": 4,
   "metadata": {},
   "outputs": [],
   "source": [
    "movieMatrix = movies.pivot_table(values='Rating', index='CustomerID', columns='MovieID')"
   ]
  },
  {
   "cell_type": "markdown",
   "metadata": {},
   "source": [
    "Dealing with missing values by calculating a better average:"
   ]
  },
  {
   "cell_type": "code",
   "execution_count": 7,
   "metadata": {},
   "outputs": [],
   "source": [
    "globalavg = movieMatrix.mean().mean()\n",
    "rating_sums= movieMatrix.sum(axis=0) \n",
    "rating_count = movieMatrix.count(axis=0)\n",
    "missing_ratings = (rating_sums + globalavg*25) / (25+rating_count)"
   ]
  },
  {
   "cell_type": "code",
   "execution_count": 8,
   "metadata": {},
   "outputs": [],
   "source": [
    "movieMatrix = movieMatrix.fillna(missing_ratings)"
   ]
  },
  {
   "cell_type": "code",
   "execution_count": 9,
   "metadata": {},
   "outputs": [],
   "source": [
    "movie_arr = np.array(movieMatrix)"
   ]
  },
  {
   "cell_type": "code",
   "execution_count": 12,
   "metadata": {},
   "outputs": [],
   "source": [
    "import kMeans\n",
    "from sklearn.cluster import KMeans"
   ]
  },
  {
   "cell_type": "markdown",
   "metadata": {},
   "source": [
    "Uncomment to check the error sum of square and determine a good K value:"
   ]
  },
  {
   "cell_type": "code",
   "execution_count": 14,
   "metadata": {},
   "outputs": [],
   "source": [
    "#import matplotlib.pyplot as plt\n",
    "#sse = {}\n",
    "#for k in range(1, 20):\n",
    "    #kmeans = KMeans(n_clusters=k).fit(movie_arr)\n",
    "    #sse[k] = kmeans.inertia_"
   ]
  },
  {
   "cell_type": "code",
   "execution_count": 15,
   "metadata": {},
   "outputs": [
    {
     "data": {
      "image/png": "[encoded data removed]",
      "text/plain": [
       "<Figure size 432x288 with 1 Axes>"
      ]
     },
     "metadata": {
      "needs_background": "light"
     },
     "output_type": "display_data"
    }
   ],
   "source": [
    "#plt.figure()\n",
    "#plt.plot(list(sse.keys()), list(sse.values()))\n",
    "#plt.xlabel(\"Number of cluster\")\n",
    "#plt.ylabel(\"SSE\")\n",
    "#plt.show()"
   ]
  },
  {
   "cell_type": "code",
   "execution_count": 116,
   "metadata": {},
   "outputs": [],
   "source": [
    "#sse = {}\n",
    "#for k in range(1, 10):\n",
    "    #kmeans = KMeans(n_clusters=k).fit(movie_arr)\n",
    "    #sse[k] = kmeans.inertia_"
   ]
  },
  {
   "cell_type": "code",
   "execution_count": 117,
   "metadata": {},
   "outputs": [
    {
     "data": {
      "image/png": "[encoded data removed]",
      "text/plain": [
       "<Figure size 432x288 with 1 Axes>"
      ]
     },
     "metadata": {
      "needs_background": "light"
     },
     "output_type": "display_data"
    }
   ],
   "source": [
    "#plt.figure()\n",
    "#plt.plot(list(sse.keys()), list(sse.values()))\n",
    "#plt.xlabel(\"Number of cluster\")\n",
    "#plt.ylabel(\"SSE\")\n",
    "#plt.show()"
   ]
  },
  {
   "cell_type": "code",
   "execution_count": 105,
   "metadata": {},
   "outputs": [],
   "source": [
    "kmeans = KMeans(n_clusters=10)"
   ]
  },
  {
   "cell_type": "code",
   "execution_count": 106,
   "metadata": {},
   "outputs": [
    {
     "data": {
      "text/plain": [
       "KMeans(n_clusters=10)"
      ]
     },
     "execution_count": 106,
     "metadata": {},
     "output_type": "execute_result"
    }
   ],
   "source": [
    "kmeans.fit(movie_arr)"
   ]
  },
  {
   "cell_type": "code",
   "execution_count": 107,
   "metadata": {},
   "outputs": [
    {
     "data": {
      "text/plain": [
       "array([[3.44, 2.65, 3.32, ..., 2.81, 2.51, 2.82],\n",
       "       [2.98, 2.37, 2.48, ..., 2.56, 2.41, 2.56],\n",
       "       [3.45, 2.65, 3.34, ..., 2.84, 2.54, 2.83],\n",
       "       ...,\n",
       "       [3.46, 2.64, 3.33, ..., 2.95, 2.55, 2.88],\n",
       "       [3.45, 2.65, 3.33, ..., 2.83, 2.53, 2.83],\n",
       "       [3.44, 2.65, 3.36, ..., 2.82, 2.55, 2.82]])"
      ]
     },
     "execution_count": 107,
     "metadata": {},
     "output_type": "execute_result"
    }
   ],
   "source": [
    "kmeans.cluster_centers_"
   ]
  },
  {
   "cell_type": "code",
   "execution_count": 108,
   "metadata": {},
   "outputs": [
    {
     "data": {
      "text/plain": [
       "(16795,)"
      ]
     },
     "execution_count": 108,
     "metadata": {},
     "output_type": "execute_result"
    }
   ],
   "source": [
    "kmeans.cluster_centers_[0].shape"
   ]
  },
  {
   "cell_type": "code",
   "execution_count": 109,
   "metadata": {},
   "outputs": [],
   "source": [
    "np.set_printoptions(precision=2,suppress=True)"
   ]
  },
  {
   "cell_type": "code",
   "execution_count": 110,
   "metadata": {},
   "outputs": [],
   "source": [
    "def toTitle(MovieID):\n",
    "    return terms.loc[ MovieID , : ][2]"
   ]
  },
  {
   "cell_type": "code",
   "execution_count": 111,
   "metadata": {},
   "outputs": [],
   "source": [
    "def top_movies(df, n):\n",
    "    for mov in range(0,n):\n",
    "        print(toTitle(df.index[mov]),df.loc[df.index[mov]][0] )"
   ]
  },
  {
   "cell_type": "code",
   "execution_count": 112,
   "metadata": {},
   "outputs": [],
   "source": [
    "terms = pd.read_csv('movie_titles.txt', sep='\\t', encoding = \"ISO-8859-1\", header=None, index_col=0)\n",
    "terms = terms.iloc[:,:2]\n",
    "terms = terms.iloc[:,1:]"
   ]
  },
  {
   "cell_type": "code",
   "execution_count": 113,
   "metadata": {},
   "outputs": [],
   "source": [
    "def print_clust(kmeans, k, n):\n",
    "    for cluster in range(0,k):\n",
    "        clust = pd.DataFrame(kmeans.cluster_centers_[cluster])\n",
    "        clust.index = movieMatrix.columns\n",
    "        #print(clust)\n",
    "        #sortDF = pd.DataFrame(clust,terms)\n",
    "        #print(sortDF)\n",
    "        sortDF = clust.sort_values(by=[0],ascending=False)\n",
    "        #print(sortDF.loc[sortDF.index[0]][0])\n",
    "        #print(sortDF)\n",
    "        print(\"Top movies in Cluster\", cluster+1)\n",
    "        top_movies(sortDF, n)\n",
    "        print(\"\")"
   ]
  },
  {
   "cell_type": "code",
   "execution_count": 115,
   "metadata": {},
   "outputs": [
    {
     "name": "stdout",
     "output_type": "stream",
     "text": [
      "Top movies in Cluster 1\n",
      "Lord of the Rings: The Return of the King: Extended Edition 4.603723972558479\n",
      "Lost: Season 1 4.597961319666568\n",
      "The Lord of the Rings: The Fellowship of the Ring: Extended Edition 4.596407021605369\n",
      "Lord of the Rings: The Two Towers: Extended Edition 4.574093004456931\n",
      "Star Wars Trilogy: Bonus Material 4.466428449131808\n",
      "Battlestar Galactica: Season 1 4.4564167485483965\n",
      "The Simpsons: Season 6 4.414654612036479\n",
      "Star Wars: Episode V: The Empire Strikes Back 4.412344588471618\n",
      "The Simpsons: Season 5 4.4033992893909755\n",
      "Star Wars: Episode IV: A New Hope 4.40308433650743\n",
      "\n",
      "Top movies in Cluster 2\n",
      "Lost: Season 1 4.48983823831955\n",
      "Lord of the Rings: The Return of the King: Extended Edition 4.420921576047073\n",
      "Battlestar Galactica: Season 1 4.379651305667706\n",
      "Star Wars Trilogy: Bonus Material 4.337686089439725\n",
      "The Lord of the Rings: The Fellowship of the Ring: Extended Edition 4.307883499239227\n",
      "Lord of the Rings: The Two Towers: Extended Edition 4.292869331831831\n",
      "Star Wars: Episode V: The Empire Strikes Back 4.289191440690891\n",
      "Lord of the Rings: The Return of the King: Bonus Material 4.174959137231491\n",
      "Lord of the Rings: The Two Towers: Bonus Material 4.169182743363665\n",
      "Star Wars: Episode IV: A New Hope 4.167490428080726\n",
      "\n",
      "Top movies in Cluster 3\n",
      "Lord of the Rings: The Two Towers: Extended Edition 4.835641731318502\n",
      "Raiders of the Lost Ark 4.835166170736899\n",
      "Star Wars: Episode V: The Empire Strikes Back 4.834626035630435\n",
      "The Lord of the Rings: The Fellowship of the Ring: Extended Edition 4.831161743496797\n",
      "Lord of the Rings: The Return of the King: Extended Edition 4.828186569905673\n",
      "Lord of the Rings: The Return of the King 4.8148138325625665\n",
      "Star Wars: Episode IV: A New Hope 4.798337992447186\n",
      "Star Wars: Episode VI: Return of the Jedi 4.781356592834776\n",
      "The Matrix 4.775721055935126\n",
      "Lord of the Rings: The Two Towers 4.75947293392025\n",
      "\n",
      "Top movies in Cluster 4\n",
      "Lord of the Rings: The Return of the King: Extended Edition 4.772772776620806\n",
      "The Lord of the Rings: The Fellowship of the Ring: Extended Edition 4.767435302486367\n",
      "Lord of the Rings: The Two Towers: Extended Edition 4.752094573119045\n",
      "The Shawshank Redemption: Special Edition 4.719359166518545\n",
      "The Godfather 4.718662275926347\n",
      "Raiders of the Lost Ark 4.712535724448012\n",
      "The Usual Suspects 4.684835634029703\n",
      "Lord of the Rings: The Return of the King 4.66896337643791\n",
      "Star Wars: Episode V: The Empire Strikes Back 4.66793825529822\n",
      "Schindler's List 4.651000130548001\n",
      "\n",
      "Top movies in Cluster 5\n",
      "Inu-Yasha: The Movie 2: The Castle Beyond the Looking Glass 5.0\n",
      "The Three Stooges: G.I. Stooge 5.0\n",
      "A Letter to Three Wives 5.0\n",
      "Sanjuro 5.0\n",
      "Buffy the Vampire Slayer: Season 4 5.0\n",
      "Men in Black 5.0\n",
      "Double Jeopardy 5.0\n",
      "To Have and Have Not 5.0\n",
      "Stargate SG-1: Season 7 5.0\n",
      "24: Season 3 5.0\n",
      "\n",
      "Top movies in Cluster 6\n",
      "Lord of the Rings: The Return of the King: Extended Edition 4.817132064864789\n",
      "The Lord of the Rings: The Fellowship of the Ring: Extended Edition 4.808929676475655\n",
      "Lord of the Rings: The Two Towers: Extended Edition 4.8033834475827355\n",
      "Lord of the Rings: The Return of the King 4.741083090519632\n",
      "Finding Nemo (Widescreen) 4.739712943775527\n",
      "The Sixth Sense 4.716733408040585\n",
      "The Green Mile 4.711846252164676\n",
      "The Shawshank Redemption: Special Edition 4.711159388921806\n",
      "Star Wars: Episode V: The Empire Strikes Back 4.701210955648534\n",
      "Forrest Gump 4.679063841435948\n",
      "\n",
      "Top movies in Cluster 7\n",
      "Lost: Season 1 4.584922165778277\n",
      "Battlestar Galactica: Season 1 4.445660742813848\n",
      "The Lord of the Rings: The Fellowship of the Ring: Extended Edition 4.4424268900792585\n",
      "Lord of the Rings: The Return of the King: Extended Edition 4.434745003766101\n",
      "Star Wars Trilogy: Bonus Material 4.425838900822519\n",
      "Lord of the Rings: The Two Towers: Extended Edition 4.397753490456267\n",
      "The Simpsons: Season 6 4.370746541490037\n",
      "The Simpsons: Season 5 4.331480234458362\n",
      "CSI: Season 4 4.3172788445893575\n",
      "South Park: Season 6 4.312756567657369\n",
      "\n",
      "Top movies in Cluster 8\n",
      "Shrek (Full-screen) 4.859533573086684\n",
      "Lord of the Rings: The Return of the King: Extended Edition 4.853924471683291\n",
      "Lord of the Rings: The Two Towers: Extended Edition 4.847039319749343\n",
      "The Lord of the Rings: The Fellowship of the Ring: Extended Edition 4.835108419360447\n",
      "The Green Mile 4.8308768472592565\n",
      "Star Wars: Episode V: The Empire Strikes Back 4.829152099701053\n",
      "Finding Nemo (Widescreen) 4.823604447642191\n",
      "Lord of the Rings: The Return of the King 4.820237141153013\n",
      "Raiders of the Lost Ark 4.810474620159034\n",
      "Star Wars: Episode VI: Return of the Jedi 4.802420819535421\n",
      "\n",
      "Top movies in Cluster 9\n",
      "Lord of the Rings: The Return of the King: Extended Edition 4.706938728645007\n",
      "Lord of the Rings: The Two Towers: Extended Edition 4.694923515926213\n",
      "The Lord of the Rings: The Fellowship of the Ring: Extended Edition 4.693500834637342\n",
      "Lost: Season 1 4.611619931133099\n",
      "Lord of the Rings: The Return of the King 4.57769590097795\n",
      "Raiders of the Lost Ark 4.563073706504993\n",
      "Star Wars: Episode V: The Empire Strikes Back 4.549826207105053\n",
      "Star Wars: Episode IV: A New Hope 4.539422030030937\n",
      "The Shawshank Redemption: Special Edition 4.533946532276793\n",
      "Star Wars: Episode VI: Return of the Jedi 4.520475853196635\n",
      "\n",
      "Top movies in Cluster 10\n",
      "Lord of the Rings: The Return of the King: Extended Edition 4.671331876884804\n",
      "The Godfather 4.661759059982025\n",
      "The Lord of the Rings: The Fellowship of the Ring: Extended Edition 4.644120504853896\n",
      "Lord of the Rings: The Two Towers: Extended Edition 4.64388546480743\n",
      "Lost: Season 1 4.604733005781993\n",
      "Star Wars: Episode V: The Empire Strikes Back 4.5795073908891375\n",
      "Raiders of the Lost Ark 4.544310554443474\n",
      "The Simpsons: Season 5 4.515780412520807\n",
      "The Godfather 4.512087776728787\n",
      "The Simpsons: Season 4 4.503993829314682\n",
      "\n"
     ]
    }
   ],
   "source": [
    "print_clust(kmeans,10,10)"
   ]
  },
  {
   "cell_type": "markdown",
   "metadata": {},
   "source": [
    "Clustering again using 0's to fill in missing values:"
   ]
  },
  {
   "cell_type": "code",
   "execution_count": 119,
   "metadata": {},
   "outputs": [],
   "source": [
    "movieMatrix = movies.pivot_table(values='Rating', index='CustomerID', columns='MovieID')\n",
    "movieMatrix = movieMatrix.fillna(0)\n",
    "movie_arr = np.array(movieMatrix)"
   ]
  },
  {
   "cell_type": "code",
   "execution_count": 121,
   "metadata": {},
   "outputs": [
    {
     "data": {
      "text/plain": [
       "KMeans(n_clusters=10)"
      ]
     },
     "execution_count": 121,
     "metadata": {},
     "output_type": "execute_result"
    }
   ],
   "source": [
    "kmeans = KMeans(n_clusters=10)\n",
    "kmeans.fit(movie_arr)"
   ]
  },
  {
   "cell_type": "code",
   "execution_count": 122,
   "metadata": {
    "scrolled": false
   },
   "outputs": [
    {
     "name": "stdout",
     "output_type": "stream",
     "text": [
      "Top movies in Cluster 1\n",
      "Pulp Fiction 4.6249243799153055\n",
      "Raiders of the Lost Ark 4.621899576527524\n",
      "The Matrix 4.586206896551724\n",
      "The Shawshank Redemption: Special Edition 4.561403508771929\n",
      "The Usual Suspects 4.509981851179676\n",
      "Lord of the Rings: The Fellowship of the Ring 4.509981851179672\n",
      "Braveheart 4.483968542044767\n",
      "Lord of the Rings: The Two Towers 4.464004839685421\n",
      "Fight Club 4.457350272232307\n",
      "The Silence of the Lambs 4.445251058681185\n",
      "\n",
      "Top movies in Cluster 2\n",
      "Raiders of the Lost Ark 4.10705596107056\n",
      "Lord of the Rings: The Fellowship of the Ring 4.062449310624493\n",
      "Lord of the Rings: The Two Towers 4.038118410381184\n",
      "The Matrix 4.0129764801297645\n",
      "Pirates of the Caribbean: The Curse of the Black Pearl 3.856447688564477\n",
      "Lord of the Rings: The Return of the King 3.8280616382806163\n",
      "Indiana Jones and the Last Crusade 3.8256285482562857\n",
      "The Terminator 3.701540957015409\n",
      "The Sixth Sense 3.6650446066504463\n",
      "Star Wars: Episode V: The Empire Strikes Back 3.6553122465531227\n",
      "\n",
      "Top movies in Cluster 3\n",
      "To Kill a Mockingbird 4.2970946579193985\n",
      "The Godfather 4.148078725398313\n",
      "Rear Window 4.143392689784442\n",
      "The Graduate 4.0562324273664485\n",
      "One Flew Over the Cuckoo's Nest 4.056232427366448\n",
      "Citizen Kane 4.04967197750703\n",
      "Amadeus 4.018744142455484\n",
      "North by Northwest 3.939081537019681\n",
      "Vertigo 3.922211808809745\n",
      "The Shawshank Redemption: Special Edition 3.895032802249297\n",
      "\n",
      "Top movies in Cluster 4\n",
      "Forrest Gump 4.5388768898488125\n",
      "Raiders of the Lost Ark 4.533477321814255\n",
      "The Sixth Sense 4.522678185745141\n",
      "Braveheart 4.510799136069114\n",
      "The Matrix 4.509719222462203\n",
      "Indiana Jones and the Last Crusade 4.50755939524838\n",
      "Shrek (Full-screen) 4.498920086393089\n",
      "Independence Day 4.475161987041036\n",
      "Pirates of the Caribbean: The Curse of the Black Pearl 4.473002159827215\n",
      "Lord of the Rings: The Fellowship of the Ring 4.473002159827214\n",
      "\n",
      "Top movies in Cluster 5\n",
      "The Shawshank Redemption: Special Edition 4.247093023255814\n",
      "The Sixth Sense 4.230813953488372\n",
      "The Silence of the Lambs 4.181395348837209\n",
      "Forrest Gump 4.140116279069768\n",
      "American Beauty 4.1\n",
      "Good Will Hunting 3.9639534883720935\n",
      "Finding Nemo (Widescreen) 3.9354651162790697\n",
      "Lord of the Rings: The Fellowship of the Ring 3.927906976744186\n",
      "Pirates of the Caribbean: The Curse of the Black Pearl 3.9203488372093025\n",
      "Raiders of the Lost Ark 3.906976744186046\n",
      "\n",
      "Top movies in Cluster 6\n",
      "The Matrix 4.411960132890365\n",
      "Gladiator 4.356035437430785\n",
      "Braveheart 4.2873754152823915\n",
      "Forrest Gump 4.285160575858251\n",
      "The Sixth Sense 4.260243632336656\n",
      "Lord of the Rings: The Two Towers 4.216500553709856\n",
      "Raiders of the Lost Ark 4.213732004429679\n",
      "Independence Day 4.1899224806201545\n",
      "Pirates of the Caribbean: The Curse of the Black Pearl 4.179401993355483\n",
      "The Green Mile 4.1716500553709865\n",
      "\n",
      "Top movies in Cluster 7\n",
      "Raiders of the Lost Ark 4.43103448275862\n",
      "Forrest Gump 4.374812593703149\n",
      "Indiana Jones and the Last Crusade 4.21664167916042\n",
      "The Green Mile 4.21064467766117\n",
      "Braveheart 4.181409295352323\n",
      "The Shawshank Redemption: Special Edition 4.174662668665667\n",
      "The Sixth Sense 4.146926536731635\n",
      "Gladiator 4.131184407796101\n",
      "The Fugitive 4.076461769115443\n",
      "Saving Private Ryan 4.07271364317841\n",
      "\n",
      "Top movies in Cluster 8\n",
      "Raiders of the Lost Ark 4.570532915360501\n",
      "The Godfather 4.470219435736676\n",
      "The Silence of the Lambs 4.410658307210031\n",
      "The Shawshank Redemption: Special Edition 4.382445141065831\n",
      "The Sixth Sense 4.363636363636363\n",
      "Lord of the Rings: The Fellowship of the Ring 4.297805642633229\n",
      "Indiana Jones and the Last Crusade 4.285266457680251\n",
      "The Matrix 4.260188087774295\n",
      "Jaws 4.2507836990595615\n",
      "The Godfather 4.244514106583073\n",
      "\n",
      "Top movies in Cluster 9\n",
      "Pulp Fiction 4.532005689900427\n",
      "The Godfather 4.374110953058322\n",
      "The Usual Suspects 4.289473684210527\n",
      "GoodFellas: Special Edition 4.268847795163585\n",
      "The Silence of the Lambs 4.22972972972973\n",
      "Apocalypse Now 4.222617354196302\n",
      "Reservoir Dogs 4.204836415362733\n",
      "American Beauty 4.204125177809388\n",
      "Taxi Driver 4.184210526315788\n",
      "Memento 4.178520625889048\n",
      "\n",
      "Top movies in Cluster 10\n",
      "Finding Nemo (Widescreen) 4.404293381037567\n",
      "Pretty Woman 4.34824090638044\n",
      "Forrest Gump 4.345855694692904\n",
      "Shrek (Full-screen) 4.313059033989267\n",
      "The Sixth Sense 4.303518187239118\n",
      "Monsters 4.278473464519976\n",
      "Pirates of the Caribbean: The Curse of the Black Pearl 4.271317829457365\n",
      "Grease 4.235539654144305\n",
      "Shrek 2 4.15026833631485\n",
      "Dirty Dancing 4.149075730471082\n",
      "\n"
     ]
    }
   ],
   "source": [
    "print_clust(kmeans,10,10)"
   ]
  },
  {
   "cell_type": "code",
   "execution_count": null,
   "metadata": {},
   "outputs": [],
   "source": []
  }
 ],
 "metadata": {
  "kernelspec": {
   "display_name": "Python 3",
   "language": "python",
   "name": "python3"
  },
  "language_info": {
   "codemirror_mode": {
    "name": "ipython",
    "version": 3
   },
   "file_extension": ".py",
   "mimetype": "text/x-python",
   "name": "python",
   "nbconvert_exporter": "python",
   "pygments_lexer": "ipython3",
   "version": "3.8.5"
  }
 },
 "nbformat": 4,
 "nbformat_minor": 4
}
