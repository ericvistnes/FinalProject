{
 "cells": [
  {
   "cell_type": "code",
   "execution_count": 1,
   "metadata": {},
   "outputs": [],
   "source": [
    "fd = open(\"combined_data_2.txt\", \"r\")"
   ]
  },
  {
   "cell_type": "code",
   "execution_count": 2,
   "metadata": {},
   "outputs": [],
   "source": [
    "lines = fd.readlines()"
   ]
  },
  {
   "cell_type": "code",
   "execution_count": 3,
   "metadata": {},
   "outputs": [],
   "source": [
    "testlines = (lines[0:10])"
   ]
  },
  {
   "cell_type": "code",
   "execution_count": 4,
   "metadata": {},
   "outputs": [
    {
     "data": {
      "text/plain": [
       "['4500:\\n',\n",
       " '2532865,4,2005-07-26\\n',\n",
       " '573364,3,2005-06-20\\n',\n",
       " '1696725,3,2004-02-27\\n',\n",
       " '1253431,3,2004-03-31\\n',\n",
       " '1265574,2,2003-09-01\\n',\n",
       " '1049643,1,2003-11-15\\n',\n",
       " '1601348,4,2005-04-05\\n',\n",
       " '1495289,5,2005-07-09\\n',\n",
       " '1254903,3,2003-09-02\\n']"
      ]
     },
     "execution_count": 4,
     "metadata": {},
     "output_type": "execute_result"
    }
   ],
   "source": [
    "testlines"
   ]
  },
  {
   "cell_type": "markdown",
   "metadata": {},
   "source": [
    "Using Regex pattern matching to find lines specifying movieID:"
   ]
  },
  {
   "cell_type": "code",
   "execution_count": 5,
   "metadata": {},
   "outputs": [],
   "source": [
    "import re\n",
    "pattern = '\\d+:\\n'"
   ]
  },
  {
   "cell_type": "code",
   "execution_count": 6,
   "metadata": {},
   "outputs": [
    {
     "name": "stdout",
     "output_type": "stream",
     "text": [
      "4500:\n",
      "\n"
     ]
    }
   ],
   "source": [
    "for line in testlines:\n",
    "    if(re.search(pattern,line)):\n",
    "        print(line)"
   ]
  },
  {
   "cell_type": "code",
   "execution_count": 8,
   "metadata": {},
   "outputs": [
    {
     "data": {
      "text/plain": [
       "31"
      ]
     },
     "execution_count": 8,
     "metadata": {},
     "output_type": "execute_result"
    }
   ],
   "source": [
    "import csv\n",
    "fd = open('final.csv', 'w')\n",
    "writer = csv.writer(fd, lineterminator = '\\n')\n",
    "writer.writerow([\"MovieID\", \"CustomerID\", \"Rating\", \"Date\"])"
   ]
  },
  {
   "cell_type": "code",
   "execution_count": 9,
   "metadata": {},
   "outputs": [],
   "source": [
    "import re\n",
    "pattern = '\\d+:\\n'\n",
    "\n",
    "def combine_files(filename):\n",
    "    fd = open(filename, \"r\")\n",
    "    lines = fd.readlines()\n",
    "    mov_id = 0\n",
    "    for line in lines:\n",
    "        if(re.search(pattern,line)):\n",
    "            mov_id = line[:-2]\n",
    "        else:\n",
    "            lineparts = line.split(\",\")\n",
    "            writer.writerow([mov_id,lineparts[0],lineparts[1],lineparts[2][:-1]])"
   ]
  },
  {
   "cell_type": "code",
   "execution_count": 10,
   "metadata": {},
   "outputs": [],
   "source": [
    "combine_files(\"combined_data_1.txt\")\n",
    "combine_files(\"combined_data_2.txt\")\n",
    "combine_files(\"combined_data_3.txt\")\n",
    "combine_files(\"combined_data_4.txt\")"
   ]
  },
  {
   "cell_type": "code",
   "execution_count": 11,
   "metadata": {},
   "outputs": [],
   "source": [
    "fd.close()"
   ]
  }
 ],
 "metadata": {
  "kernelspec": {
   "display_name": "Python 3",
   "language": "python",
   "name": "python3"
  },
  "language_info": {
   "codemirror_mode": {
    "name": "ipython",
    "version": 3
   },
   "file_extension": ".py",
   "mimetype": "text/x-python",
   "name": "python",
   "nbconvert_exporter": "python",
   "pygments_lexer": "ipython3",
   "version": "3.8.5"
  }
 },
 "nbformat": 4,
 "nbformat_minor": 4
}
